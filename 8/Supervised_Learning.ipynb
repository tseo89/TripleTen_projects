{
 "cells": [
  {
   "cell_type": "markdown",
   "metadata": {},
   "source": [
    "# Project Description\n",
    "\n",
    "Beta Bank customers are leaving: little by little, chipping away every month. The bankers figured out it’s cheaper to save the existing customers rather than to attract new ones. We need to predict whether a customer will leave the bank soon. You have the data on clients’ past behavior and termination of contracts with the bank. We will build a model with maximum possible F1 score and measure the AUC-ROC metric and compare it to F1. We are targetting for model score of F1 of 0.59."
   ]
  },
  {
   "cell_type": "markdown",
   "metadata": {},
   "source": [
    "## Import and Review Data"
   ]
  },
  {
   "cell_type": "markdown",
   "metadata": {},
   "source": [
    "### Importing Libraries"
   ]
  },
  {
   "cell_type": "code",
   "execution_count": 1,
   "metadata": {},
   "outputs": [],
   "source": [
    "import pandas as pd\n",
    "import numpy as np\n",
    "from sklearn.metrics import recall_score, precision_score, f1_score, roc_auc_score, r2_score, mean_absolute_error, confusion_matrix, accuracy_score\n",
    "from sklearn.tree import DecisionTreeClassifier\n",
    "from sklearn.model_selection import train_test_split\n",
    "from sklearn.linear_model import LogisticRegression\n",
    "from sklearn.preprocessing import LabelEncoder\n",
    "import matplotlib.pyplot as plt\n",
    "from sklearn.utils import shuffle\n",
    "from sklearn.ensemble import RandomForestClassifier, GradientBoostingClassifier\n",
    "from sklearn.datasets import make_hastie_10_2\n",
    "from sklearn.tree import DecisionTreeClassifier"
   ]
  },
  {
   "cell_type": "markdown",
   "metadata": {},
   "source": [
    "### Import and Review Data"
   ]
  },
  {
   "cell_type": "code",
   "execution_count": 2,
   "metadata": {},
   "outputs": [
    {
     "data": {
      "text/html": [
       "<div>\n",
       "<style scoped>\n",
       "    .dataframe tbody tr th:only-of-type {\n",
       "        vertical-align: middle;\n",
       "    }\n",
       "\n",
       "    .dataframe tbody tr th {\n",
       "        vertical-align: top;\n",
       "    }\n",
       "\n",
       "    .dataframe thead th {\n",
       "        text-align: right;\n",
       "    }\n",
       "</style>\n",
       "<table border=\"1\" class=\"dataframe\">\n",
       "  <thead>\n",
       "    <tr style=\"text-align: right;\">\n",
       "      <th></th>\n",
       "      <th>RowNumber</th>\n",
       "      <th>CustomerId</th>\n",
       "      <th>Surname</th>\n",
       "      <th>CreditScore</th>\n",
       "      <th>Geography</th>\n",
       "      <th>Gender</th>\n",
       "      <th>Age</th>\n",
       "      <th>Tenure</th>\n",
       "      <th>Balance</th>\n",
       "      <th>NumOfProducts</th>\n",
       "      <th>HasCrCard</th>\n",
       "      <th>IsActiveMember</th>\n",
       "      <th>EstimatedSalary</th>\n",
       "      <th>Exited</th>\n",
       "    </tr>\n",
       "  </thead>\n",
       "  <tbody>\n",
       "    <tr>\n",
       "      <th>0</th>\n",
       "      <td>1</td>\n",
       "      <td>15634602</td>\n",
       "      <td>Hargrave</td>\n",
       "      <td>619</td>\n",
       "      <td>France</td>\n",
       "      <td>Female</td>\n",
       "      <td>42</td>\n",
       "      <td>2.0</td>\n",
       "      <td>0.00</td>\n",
       "      <td>1</td>\n",
       "      <td>1</td>\n",
       "      <td>1</td>\n",
       "      <td>101348.88</td>\n",
       "      <td>1</td>\n",
       "    </tr>\n",
       "    <tr>\n",
       "      <th>1</th>\n",
       "      <td>2</td>\n",
       "      <td>15647311</td>\n",
       "      <td>Hill</td>\n",
       "      <td>608</td>\n",
       "      <td>Spain</td>\n",
       "      <td>Female</td>\n",
       "      <td>41</td>\n",
       "      <td>1.0</td>\n",
       "      <td>83807.86</td>\n",
       "      <td>1</td>\n",
       "      <td>0</td>\n",
       "      <td>1</td>\n",
       "      <td>112542.58</td>\n",
       "      <td>0</td>\n",
       "    </tr>\n",
       "    <tr>\n",
       "      <th>2</th>\n",
       "      <td>3</td>\n",
       "      <td>15619304</td>\n",
       "      <td>Onio</td>\n",
       "      <td>502</td>\n",
       "      <td>France</td>\n",
       "      <td>Female</td>\n",
       "      <td>42</td>\n",
       "      <td>8.0</td>\n",
       "      <td>159660.80</td>\n",
       "      <td>3</td>\n",
       "      <td>1</td>\n",
       "      <td>0</td>\n",
       "      <td>113931.57</td>\n",
       "      <td>1</td>\n",
       "    </tr>\n",
       "    <tr>\n",
       "      <th>3</th>\n",
       "      <td>4</td>\n",
       "      <td>15701354</td>\n",
       "      <td>Boni</td>\n",
       "      <td>699</td>\n",
       "      <td>France</td>\n",
       "      <td>Female</td>\n",
       "      <td>39</td>\n",
       "      <td>1.0</td>\n",
       "      <td>0.00</td>\n",
       "      <td>2</td>\n",
       "      <td>0</td>\n",
       "      <td>0</td>\n",
       "      <td>93826.63</td>\n",
       "      <td>0</td>\n",
       "    </tr>\n",
       "    <tr>\n",
       "      <th>4</th>\n",
       "      <td>5</td>\n",
       "      <td>15737888</td>\n",
       "      <td>Mitchell</td>\n",
       "      <td>850</td>\n",
       "      <td>Spain</td>\n",
       "      <td>Female</td>\n",
       "      <td>43</td>\n",
       "      <td>2.0</td>\n",
       "      <td>125510.82</td>\n",
       "      <td>1</td>\n",
       "      <td>1</td>\n",
       "      <td>1</td>\n",
       "      <td>79084.10</td>\n",
       "      <td>0</td>\n",
       "    </tr>\n",
       "  </tbody>\n",
       "</table>\n",
       "</div>"
      ],
      "text/plain": [
       "   RowNumber  CustomerId   Surname  CreditScore Geography  Gender  Age  \\\n",
       "0          1    15634602  Hargrave          619    France  Female   42   \n",
       "1          2    15647311      Hill          608     Spain  Female   41   \n",
       "2          3    15619304      Onio          502    France  Female   42   \n",
       "3          4    15701354      Boni          699    France  Female   39   \n",
       "4          5    15737888  Mitchell          850     Spain  Female   43   \n",
       "\n",
       "   Tenure    Balance  NumOfProducts  HasCrCard  IsActiveMember  \\\n",
       "0     2.0       0.00              1          1               1   \n",
       "1     1.0   83807.86              1          0               1   \n",
       "2     8.0  159660.80              3          1               0   \n",
       "3     1.0       0.00              2          0               0   \n",
       "4     2.0  125510.82              1          1               1   \n",
       "\n",
       "   EstimatedSalary  Exited  \n",
       "0        101348.88       1  \n",
       "1        112542.58       0  \n",
       "2        113931.57       1  \n",
       "3         93826.63       0  \n",
       "4         79084.10       0  "
      ]
     },
     "metadata": {},
     "output_type": "display_data"
    },
    {
     "name": "stdout",
     "output_type": "stream",
     "text": [
      "\n",
      "(10000, 14)\n",
      "\n"
     ]
    },
    {
     "data": {
      "text/html": [
       "<div>\n",
       "<style scoped>\n",
       "    .dataframe tbody tr th:only-of-type {\n",
       "        vertical-align: middle;\n",
       "    }\n",
       "\n",
       "    .dataframe tbody tr th {\n",
       "        vertical-align: top;\n",
       "    }\n",
       "\n",
       "    .dataframe thead th {\n",
       "        text-align: right;\n",
       "    }\n",
       "</style>\n",
       "<table border=\"1\" class=\"dataframe\">\n",
       "  <thead>\n",
       "    <tr style=\"text-align: right;\">\n",
       "      <th></th>\n",
       "      <th>RowNumber</th>\n",
       "      <th>CustomerId</th>\n",
       "      <th>CreditScore</th>\n",
       "      <th>Age</th>\n",
       "      <th>Tenure</th>\n",
       "      <th>Balance</th>\n",
       "      <th>NumOfProducts</th>\n",
       "      <th>HasCrCard</th>\n",
       "      <th>IsActiveMember</th>\n",
       "      <th>EstimatedSalary</th>\n",
       "      <th>Exited</th>\n",
       "    </tr>\n",
       "  </thead>\n",
       "  <tbody>\n",
       "    <tr>\n",
       "      <th>count</th>\n",
       "      <td>10000.00000</td>\n",
       "      <td>1.000000e+04</td>\n",
       "      <td>10000.000000</td>\n",
       "      <td>10000.000000</td>\n",
       "      <td>9091.000000</td>\n",
       "      <td>10000.000000</td>\n",
       "      <td>10000.000000</td>\n",
       "      <td>10000.00000</td>\n",
       "      <td>10000.000000</td>\n",
       "      <td>10000.000000</td>\n",
       "      <td>10000.000000</td>\n",
       "    </tr>\n",
       "    <tr>\n",
       "      <th>mean</th>\n",
       "      <td>5000.50000</td>\n",
       "      <td>1.569094e+07</td>\n",
       "      <td>650.528800</td>\n",
       "      <td>38.921800</td>\n",
       "      <td>4.997690</td>\n",
       "      <td>76485.889288</td>\n",
       "      <td>1.530200</td>\n",
       "      <td>0.70550</td>\n",
       "      <td>0.515100</td>\n",
       "      <td>100090.239881</td>\n",
       "      <td>0.203700</td>\n",
       "    </tr>\n",
       "    <tr>\n",
       "      <th>std</th>\n",
       "      <td>2886.89568</td>\n",
       "      <td>7.193619e+04</td>\n",
       "      <td>96.653299</td>\n",
       "      <td>10.487806</td>\n",
       "      <td>2.894723</td>\n",
       "      <td>62397.405202</td>\n",
       "      <td>0.581654</td>\n",
       "      <td>0.45584</td>\n",
       "      <td>0.499797</td>\n",
       "      <td>57510.492818</td>\n",
       "      <td>0.402769</td>\n",
       "    </tr>\n",
       "    <tr>\n",
       "      <th>min</th>\n",
       "      <td>1.00000</td>\n",
       "      <td>1.556570e+07</td>\n",
       "      <td>350.000000</td>\n",
       "      <td>18.000000</td>\n",
       "      <td>0.000000</td>\n",
       "      <td>0.000000</td>\n",
       "      <td>1.000000</td>\n",
       "      <td>0.00000</td>\n",
       "      <td>0.000000</td>\n",
       "      <td>11.580000</td>\n",
       "      <td>0.000000</td>\n",
       "    </tr>\n",
       "    <tr>\n",
       "      <th>25%</th>\n",
       "      <td>2500.75000</td>\n",
       "      <td>1.562853e+07</td>\n",
       "      <td>584.000000</td>\n",
       "      <td>32.000000</td>\n",
       "      <td>2.000000</td>\n",
       "      <td>0.000000</td>\n",
       "      <td>1.000000</td>\n",
       "      <td>0.00000</td>\n",
       "      <td>0.000000</td>\n",
       "      <td>51002.110000</td>\n",
       "      <td>0.000000</td>\n",
       "    </tr>\n",
       "    <tr>\n",
       "      <th>50%</th>\n",
       "      <td>5000.50000</td>\n",
       "      <td>1.569074e+07</td>\n",
       "      <td>652.000000</td>\n",
       "      <td>37.000000</td>\n",
       "      <td>5.000000</td>\n",
       "      <td>97198.540000</td>\n",
       "      <td>1.000000</td>\n",
       "      <td>1.00000</td>\n",
       "      <td>1.000000</td>\n",
       "      <td>100193.915000</td>\n",
       "      <td>0.000000</td>\n",
       "    </tr>\n",
       "    <tr>\n",
       "      <th>75%</th>\n",
       "      <td>7500.25000</td>\n",
       "      <td>1.575323e+07</td>\n",
       "      <td>718.000000</td>\n",
       "      <td>44.000000</td>\n",
       "      <td>7.000000</td>\n",
       "      <td>127644.240000</td>\n",
       "      <td>2.000000</td>\n",
       "      <td>1.00000</td>\n",
       "      <td>1.000000</td>\n",
       "      <td>149388.247500</td>\n",
       "      <td>0.000000</td>\n",
       "    </tr>\n",
       "    <tr>\n",
       "      <th>max</th>\n",
       "      <td>10000.00000</td>\n",
       "      <td>1.581569e+07</td>\n",
       "      <td>850.000000</td>\n",
       "      <td>92.000000</td>\n",
       "      <td>10.000000</td>\n",
       "      <td>250898.090000</td>\n",
       "      <td>4.000000</td>\n",
       "      <td>1.00000</td>\n",
       "      <td>1.000000</td>\n",
       "      <td>199992.480000</td>\n",
       "      <td>1.000000</td>\n",
       "    </tr>\n",
       "  </tbody>\n",
       "</table>\n",
       "</div>"
      ],
      "text/plain": [
       "         RowNumber    CustomerId   CreditScore           Age       Tenure  \\\n",
       "count  10000.00000  1.000000e+04  10000.000000  10000.000000  9091.000000   \n",
       "mean    5000.50000  1.569094e+07    650.528800     38.921800     4.997690   \n",
       "std     2886.89568  7.193619e+04     96.653299     10.487806     2.894723   \n",
       "min        1.00000  1.556570e+07    350.000000     18.000000     0.000000   \n",
       "25%     2500.75000  1.562853e+07    584.000000     32.000000     2.000000   \n",
       "50%     5000.50000  1.569074e+07    652.000000     37.000000     5.000000   \n",
       "75%     7500.25000  1.575323e+07    718.000000     44.000000     7.000000   \n",
       "max    10000.00000  1.581569e+07    850.000000     92.000000    10.000000   \n",
       "\n",
       "             Balance  NumOfProducts    HasCrCard  IsActiveMember  \\\n",
       "count   10000.000000   10000.000000  10000.00000    10000.000000   \n",
       "mean    76485.889288       1.530200      0.70550        0.515100   \n",
       "std     62397.405202       0.581654      0.45584        0.499797   \n",
       "min         0.000000       1.000000      0.00000        0.000000   \n",
       "25%         0.000000       1.000000      0.00000        0.000000   \n",
       "50%     97198.540000       1.000000      1.00000        1.000000   \n",
       "75%    127644.240000       2.000000      1.00000        1.000000   \n",
       "max    250898.090000       4.000000      1.00000        1.000000   \n",
       "\n",
       "       EstimatedSalary        Exited  \n",
       "count     10000.000000  10000.000000  \n",
       "mean     100090.239881      0.203700  \n",
       "std       57510.492818      0.402769  \n",
       "min          11.580000      0.000000  \n",
       "25%       51002.110000      0.000000  \n",
       "50%      100193.915000      0.000000  \n",
       "75%      149388.247500      0.000000  \n",
       "max      199992.480000      1.000000  "
      ]
     },
     "metadata": {},
     "output_type": "display_data"
    },
    {
     "name": "stdout",
     "output_type": "stream",
     "text": [
      "\n",
      "0\n",
      "\n",
      "<class 'pandas.core.frame.DataFrame'>\n",
      "RangeIndex: 10000 entries, 0 to 9999\n",
      "Data columns (total 14 columns):\n",
      " #   Column           Non-Null Count  Dtype  \n",
      "---  ------           --------------  -----  \n",
      " 0   RowNumber        10000 non-null  int64  \n",
      " 1   CustomerId       10000 non-null  int64  \n",
      " 2   Surname          10000 non-null  object \n",
      " 3   CreditScore      10000 non-null  int64  \n",
      " 4   Geography        10000 non-null  object \n",
      " 5   Gender           10000 non-null  object \n",
      " 6   Age              10000 non-null  int64  \n",
      " 7   Tenure           9091 non-null   float64\n",
      " 8   Balance          10000 non-null  float64\n",
      " 9   NumOfProducts    10000 non-null  int64  \n",
      " 10  HasCrCard        10000 non-null  int64  \n",
      " 11  IsActiveMember   10000 non-null  int64  \n",
      " 12  EstimatedSalary  10000 non-null  float64\n",
      " 13  Exited           10000 non-null  int64  \n",
      "dtypes: float64(3), int64(8), object(3)\n",
      "memory usage: 1.1+ MB\n",
      "None\n"
     ]
    }
   ],
   "source": [
    "df = pd.read_csv('/datasets/Churn.csv')\n",
    "display(df.head(5))\n",
    "print()\n",
    "print(df.shape)\n",
    "print()\n",
    "display(df.describe())\n",
    "print()\n",
    "print(df.duplicated().sum())\n",
    "print()\n",
    "print(df.info())"
   ]
  },
  {
   "cell_type": "markdown",
   "metadata": {},
   "source": [
    "<div class=\"alert alert-info\"> <b> Data Review </b>:\n",
    "    <li> There are 14 columns and 10000 rows in this data.</li>\n",
    "    <li> There are 11 numeric columns and 3 categorical columns.</li>\n",
    "    <li> There are no duplicates in the dataset.</li>\n",
    "    <li> Column 'Tenure' has missing values. </li>"
   ]
  },
  {
   "cell_type": "markdown",
   "metadata": {},
   "source": [
    "## Preprocessing\n",
    "\n",
    "Let's change categorical information; drop those that are non-behavioral information and transform those that are behavioral information using encoding"
   ]
  },
  {
   "cell_type": "markdown",
   "metadata": {},
   "source": [
    "### Replace missing value\n",
    "There are missing values in Tenure. Let's replace this with median value."
   ]
  },
  {
   "cell_type": "code",
   "execution_count": 3,
   "metadata": {},
   "outputs": [],
   "source": [
    "df['Tenure'].fillna(5, inplace=True)"
   ]
  },
  {
   "cell_type": "markdown",
   "metadata": {},
   "source": [
    "### Drop non-behavioral information\n",
    "RowNumber, CustomerId, Surname are not behavioral data. Let's drop these"
   ]
  },
  {
   "cell_type": "code",
   "execution_count": 4,
   "metadata": {},
   "outputs": [],
   "source": [
    "NonBehave = ['CustomerId', 'Surname', 'RowNumber']\n",
    "df.drop(columns=NonBehave, inplace=True)"
   ]
  },
  {
   "cell_type": "markdown",
   "metadata": {},
   "source": [
    "### Transform categorical behavioral data \n",
    "Gender and Gerography are information that may impact customer behavior. Let's transform these using OHE and avoid dummy trap"
   ]
  },
  {
   "cell_type": "code",
   "execution_count": 5,
   "metadata": {},
   "outputs": [
    {
     "data": {
      "text/html": [
       "<div>\n",
       "<style scoped>\n",
       "    .dataframe tbody tr th:only-of-type {\n",
       "        vertical-align: middle;\n",
       "    }\n",
       "\n",
       "    .dataframe tbody tr th {\n",
       "        vertical-align: top;\n",
       "    }\n",
       "\n",
       "    .dataframe thead th {\n",
       "        text-align: right;\n",
       "    }\n",
       "</style>\n",
       "<table border=\"1\" class=\"dataframe\">\n",
       "  <thead>\n",
       "    <tr style=\"text-align: right;\">\n",
       "      <th></th>\n",
       "      <th>CreditScore</th>\n",
       "      <th>Geography</th>\n",
       "      <th>Age</th>\n",
       "      <th>Tenure</th>\n",
       "      <th>Balance</th>\n",
       "      <th>NumOfProducts</th>\n",
       "      <th>HasCrCard</th>\n",
       "      <th>IsActiveMember</th>\n",
       "      <th>EstimatedSalary</th>\n",
       "      <th>Exited</th>\n",
       "      <th>Gender_Male</th>\n",
       "    </tr>\n",
       "  </thead>\n",
       "  <tbody>\n",
       "    <tr>\n",
       "      <th>0</th>\n",
       "      <td>619</td>\n",
       "      <td>0</td>\n",
       "      <td>42</td>\n",
       "      <td>2.0</td>\n",
       "      <td>0.00</td>\n",
       "      <td>1</td>\n",
       "      <td>1</td>\n",
       "      <td>1</td>\n",
       "      <td>101348.88</td>\n",
       "      <td>1</td>\n",
       "      <td>0</td>\n",
       "    </tr>\n",
       "    <tr>\n",
       "      <th>1</th>\n",
       "      <td>608</td>\n",
       "      <td>2</td>\n",
       "      <td>41</td>\n",
       "      <td>1.0</td>\n",
       "      <td>83807.86</td>\n",
       "      <td>1</td>\n",
       "      <td>0</td>\n",
       "      <td>1</td>\n",
       "      <td>112542.58</td>\n",
       "      <td>0</td>\n",
       "      <td>0</td>\n",
       "    </tr>\n",
       "    <tr>\n",
       "      <th>2</th>\n",
       "      <td>502</td>\n",
       "      <td>0</td>\n",
       "      <td>42</td>\n",
       "      <td>8.0</td>\n",
       "      <td>159660.80</td>\n",
       "      <td>3</td>\n",
       "      <td>1</td>\n",
       "      <td>0</td>\n",
       "      <td>113931.57</td>\n",
       "      <td>1</td>\n",
       "      <td>0</td>\n",
       "    </tr>\n",
       "  </tbody>\n",
       "</table>\n",
       "</div>"
      ],
      "text/plain": [
       "   CreditScore  Geography  Age  Tenure    Balance  NumOfProducts  HasCrCard  \\\n",
       "0          619          0   42     2.0       0.00              1          1   \n",
       "1          608          2   41     1.0   83807.86              1          0   \n",
       "2          502          0   42     8.0  159660.80              3          1   \n",
       "\n",
       "   IsActiveMember  EstimatedSalary  Exited  Gender_Male  \n",
       "0               1        101348.88       1            0  \n",
       "1               1        112542.58       0            0  \n",
       "2               0        113931.57       1            0  "
      ]
     },
     "metadata": {},
     "output_type": "display_data"
    }
   ],
   "source": [
    "le = LabelEncoder()\n",
    "df_ohe = pd.get_dummies(df, columns=['Gender'], drop_first=True)\n",
    "df_ohe['Geography'] = le.fit_transform(df_ohe['Geography'])\n",
    "display(df_ohe.head(3))"
   ]
  },
  {
   "cell_type": "markdown",
   "metadata": {},
   "source": [
    "## Balance of Classes\n",
    "Let's examine train models and examine their balance of classes."
   ]
  },
  {
   "cell_type": "code",
   "execution_count": 6,
   "metadata": {},
   "outputs": [
    {
     "name": "stdout",
     "output_type": "stream",
     "text": [
      "(6000, 10)\n",
      "(2000, 10)\n",
      "(2000, 10)\n"
     ]
    }
   ],
   "source": [
    "# Let's split the data set in to train, validation, and test sets.\n",
    "\n",
    "features = df_ohe.drop('Exited', axis=1)\n",
    "target = df_ohe['Exited']\n",
    "\n",
    "features_train, features_test, target_train, target_test = train_test_split(\n",
    "    features, target, test_size=0.2, random_state=1234)\n",
    "features_train, features_valid, target_train, target_valid = train_test_split(\n",
    "    features_train, target_train, test_size=0.25, random_state=1234)\n",
    "\n",
    "print(features_train.shape)\n",
    "print(features_valid.shape)\n",
    "print(features_test.shape)"
   ]
  },
  {
   "cell_type": "code",
   "execution_count": 7,
   "metadata": {},
   "outputs": [
    {
     "name": "stdout",
     "output_type": "stream",
     "text": [
      "Best max depth: 100\n",
      "F1 Score: 0.4381188118811882\n"
     ]
    }
   ],
   "source": [
    "# Let's train a Decision Tree Classifier\n",
    "best_score = 0\n",
    "best_f1 = 0\n",
    "for depth in range(10, 101, 10):\n",
    "    model = DecisionTreeClassifier(random_state=1234, max_depth=depth)\n",
    "    model.fit(features_train, target_train)\n",
    "    predictions = model.predict(features_valid)\n",
    "    f1 = f1_score(target_valid, predictions)\n",
    "    if f1 > best_f1:\n",
    "        best_f1 = f1\n",
    "        best_max_depth = depth\n",
    "\n",
    "print('Best max depth:', depth)\n",
    "\n",
    "DCmodel = DecisionTreeClassifier(random_state=1234, max_depth=100)\n",
    "DCmodel.fit(features_train, target_train)\n",
    "DCpredic_valid = DCmodel.predict(features_valid)\n",
    "DCprob_valid = DCmodel.predict_proba(features_valid)\n",
    "\n",
    "print('F1 Score:', f1_score(target_valid, DCpredic_valid))"
   ]
  },
  {
   "cell_type": "code",
   "execution_count": 9,
   "metadata": {},
   "outputs": [],
   "source": [
    "# Let's a Random Forest Classifier model\n",
    "\n",
    "RFmodel = RandomForestClassifier(random_state=1234, n_estimators=100)\n",
    "RFmodel.fit(features_train, target_train)\n",
    "RFmodel.fit(features_train, target_train)\n",
    "RFpredic_valid = RFmodel.predict(features_valid)\n",
    "RFprob_valid = RFmodel.predict_proba(features_valid)\n",
    "RFprob_one_valid = RFprob_valid[:, 1]"
   ]
  },
  {
   "cell_type": "markdown",
   "metadata": {},
   "source": [
    "### Precision, Recall, and F1 Score"
   ]
  },
  {
   "cell_type": "code",
   "execution_count": 10,
   "metadata": {},
   "outputs": [
    {
     "name": "stdout",
     "output_type": "stream",
     "text": [
      "Decision Tree Classifier Precision: 0.4338235294117647\n",
      "Decision Tree Classifier Recall: 0.4425\n",
      "Decision Tree Classifier F1 Score: 0.4381188118811882\n"
     ]
    }
   ],
   "source": [
    "print('Decision Tree Classifier Precision:',\n",
    "      precision_score(target_valid, DCpredic_valid))\n",
    "print('Decision Tree Classifier Recall:',\n",
    "      recall_score(target_valid, DCpredic_valid))\n",
    "print('Decision Tree Classifier F1 Score:',\n",
    "      f1_score(target_valid, DCpredic_valid))"
   ]
  },
  {
   "cell_type": "code",
   "execution_count": 11,
   "metadata": {},
   "outputs": [
    {
     "name": "stdout",
     "output_type": "stream",
     "text": [
      "Random Forest Classifier Precision: 0.7325581395348837\n",
      "Random Forest Classifier Recall: 0.4725\n",
      "Random Forest Classifier F1 Score: 0.574468085106383\n"
     ]
    }
   ],
   "source": [
    "print('Random Forest Classifier Precision:',\n",
    "      precision_score(target_valid, RFpredic_valid))\n",
    "print('Random Forest Classifier Recall:',\n",
    "      recall_score(target_valid, RFpredic_valid))\n",
    "print('Random Forest Classifier F1 Score:',\n",
    "      f1_score(target_valid, RFpredic_valid))"
   ]
  },
  {
   "cell_type": "markdown",
   "metadata": {},
   "source": [
    "### AUC-ROC Score"
   ]
  },
  {
   "cell_type": "code",
   "execution_count": 12,
   "metadata": {},
   "outputs": [
    {
     "name": "stdout",
     "output_type": "stream",
     "text": [
      "Decision Tree Classifier Precision AUC_ROC: 0.6490625\n",
      "Random Forest Classifier Precision AUC_ROC: 0.8467171875\n"
     ]
    }
   ],
   "source": [
    "DCprobabilities_valid = DCmodel.predict_proba(features_valid)\n",
    "DCprobabilities_one_valid = DCprobabilities_valid[:, 1]\n",
    "DCauc_roc = roc_auc_score(target_valid, DCprobabilities_one_valid)\n",
    "\n",
    "RFprobabilities_valid = RFmodel.predict_proba(features_valid)\n",
    "RFprobabilities_one_valid = RFprobabilities_valid[:, 1]\n",
    "RFauc_roc = roc_auc_score(target_valid, RFprobabilities_one_valid)\n",
    "print(\"Decision Tree Classifier Precision AUC_ROC:\", DCauc_roc)\n",
    "print(\"Random Forest Classifier Precision AUC_ROC:\", RFauc_roc)"
   ]
  },
  {
   "cell_type": "code",
   "execution_count": 13,
   "metadata": {},
   "outputs": [
    {
     "name": "stdout",
     "output_type": "stream",
     "text": [
      "Customers Exited: 2037\n",
      "Customers Stayed: 7963\n",
      "Customer Exited/Stayed: 0.25580811252040686\n"
     ]
    }
   ],
   "source": [
    "# Let's examine porportion of the exit data\n",
    "exited = df_ohe[df_ohe['Exited'] == 1].shape[0]\n",
    "stayed = df_ohe[df_ohe['Exited'] == 0].shape[0]\n",
    "\n",
    "print('Customers Exited:', exited)\n",
    "print('Customers Stayed:', stayed)\n",
    "print('Customer Exited/Stayed:', exited/stayed)"
   ]
  },
  {
   "cell_type": "markdown",
   "metadata": {},
   "source": [
    "<div class=\"alert alert-info\"> <b> Review </b>:\n",
    "    <li> Between Decision Tree Classifier and Gradient Booster Classifier, Random Forest Classifier has better F1 and AUC-ROC score. Let's choose Random Forest Classifier and further examine.</li>\n",
    "    <li> Current model presents with Recall score of 0.442, meaning model is correctly identifies 44.2% of exits.</li>\n",
    "    <li> Current model presents with Precision score of 0.767, indicating that when the model predicts a customer will exit, it's correct about 76.7% of the time.</li>\n",
    "    <li> F1 score of 0.561 indicate fairly harmony between recall and precision, but from raw data we can see the class imbalance.</li>\n",
    "    <li> AUC-ROC of 0.704 signifies the model's ability to distinguish between classes. An AUC-ROC of 0.5 suggests no discrimitation, while higher value indicate better discrimination. </li>\n",
    "    <li> Discrepancy between recall vs precision and there is distribution of exit vs stayed customers suggests there is class imbalance. This suggests that the model isn't capturing all the positive instances effectively. </li>"
   ]
  },
  {
   "cell_type": "markdown",
   "metadata": {},
   "source": [
    "## Model Improvements"
   ]
  },
  {
   "cell_type": "markdown",
   "metadata": {},
   "source": [
    "### Class Weight Adjustment"
   ]
  },
  {
   "cell_type": "code",
   "execution_count": 14,
   "metadata": {},
   "outputs": [
    {
     "name": "stdout",
     "output_type": "stream",
     "text": [
      "Precision: 0.7222222222222222\n",
      "Recall: 0.4225\n",
      "F1 Score: 0.5331230283911671\n"
     ]
    }
   ],
   "source": [
    "RFCWmodel = RandomForestClassifier(\n",
    "    random_state=1234, n_estimators=100, class_weight='balanced')\n",
    "RFCWmodel.fit(features_train, target_train)\n",
    "RFpredic_valid = RFCWmodel.predict(features_valid)\n",
    "RFprob_valid = RFCWmodel.predict_proba(features_valid)\n",
    "\n",
    "print('Precision:', precision_score(target_valid, RFpredic_valid))\n",
    "print('Recall:', recall_score(target_valid, RFpredic_valid))\n",
    "print('F1 Score:', f1_score(target_valid, RFpredic_valid))"
   ]
  },
  {
   "cell_type": "markdown",
   "metadata": {},
   "source": [
    "<div class=\"alert alert-info\"> <b> Review </b>:\n",
    "    <li> We can observe through class weight adjustment (class_weight='balanced') F1 Score has decreased! Let's try other methods.</li>"
   ]
  },
  {
   "cell_type": "markdown",
   "metadata": {},
   "source": [
    "### Upsampling\n",
    "There is quite a difference between sheer number of customers who exited vs who stayed. Let's use upsampling to make observations of exits less rare in data. "
   ]
  },
  {
   "cell_type": "code",
   "execution_count": 15,
   "metadata": {},
   "outputs": [],
   "source": [
    "def upsample(features, target, repeat):\n",
    "    features_zeros = features[target == 0]\n",
    "    features_ones = features[target == 1]\n",
    "    target_zeros = target[target == 0]\n",
    "    target_ones = target[target == 1]\n",
    "\n",
    "    features_upsampled = pd.concat([features_zeros] + [features_ones] * repeat)\n",
    "    target_upsampled = pd.concat([target_zeros] + [target_ones] * repeat)\n",
    "\n",
    "    features_upsampled, target_upsampled = shuffle(\n",
    "        features_upsampled, target_upsampled, random_state=1234\n",
    "    )\n",
    "\n",
    "    return features_upsampled, target_upsampled\n",
    "\n",
    "\n",
    "features_upsampled, target_upsampled = upsample(\n",
    "    features_train, target_train, 11\n",
    ")"
   ]
  },
  {
   "cell_type": "code",
   "execution_count": 16,
   "metadata": {},
   "outputs": [
    {
     "name": "stdout",
     "output_type": "stream",
     "text": [
      "Precision: 0.628125\n",
      "Recall: 0.5025\n",
      "F1 Score: 0.5583333333333332\n"
     ]
    }
   ],
   "source": [
    "# Train model based on the upsampling\n",
    "\n",
    "RFUPmodel = RandomForestClassifier(random_state=1234, n_estimators=10)\n",
    "RFUPmodel.fit(features_upsampled, target_upsampled)\n",
    "RFUPpredic_valid = RFUPmodel.predict(features_valid)\n",
    "RFUPprob_valid = RFUPmodel.predict_proba(features_valid)\n",
    "\n",
    "print('Precision:', precision_score(target_valid, RFUPpredic_valid))\n",
    "print('Recall:', recall_score(target_valid, RFUPpredic_valid))\n",
    "print('F1 Score:', f1_score(target_valid, RFUPpredic_valid))"
   ]
  },
  {
   "cell_type": "code",
   "execution_count": 17,
   "metadata": {},
   "outputs": [
    {
     "name": "stdout",
     "output_type": "stream",
     "text": [
      "Best n_estimators: 71, Best F1 Score: 0.5956284153005463\n"
     ]
    }
   ],
   "source": [
    "# Downsampling may need further tuning on hyperparameter. Let's start with finding best n_estimator\n",
    "best_n_estimators = None\n",
    "best_f1_score = 0\n",
    "\n",
    "for n in range(1, 101, 10):  # Try different values for n_estimators\n",
    "    RFUPmodel = RandomForestClassifier(random_state=1234, n_estimators=n)\n",
    "    RFUPmodel.fit(features_upsampled, target_upsampled)\n",
    "    RFUPpredic_valid = RFUPmodel.predict(features_valid)\n",
    "    f1 = f1_score(target_valid, RFUPpredic_valid)\n",
    "\n",
    "    if f1 > best_f1_score:\n",
    "        best_f1_score = f1\n",
    "        best_n_estimators = n\n",
    "\n",
    "print(\n",
    "    f'Best n_estimators: {best_n_estimators}, Best F1 Score: {best_f1_score}')"
   ]
  },
  {
   "cell_type": "code",
   "execution_count": 18,
   "metadata": {},
   "outputs": [
    {
     "name": "stdout",
     "output_type": "stream",
     "text": [
      "Precision: 0.6566265060240963\n",
      "Recall: 0.545\n",
      "F1 Score: 0.5956284153005463\n"
     ]
    }
   ],
   "source": [
    "# Let's retrain the model with best n_estimator = 71\n",
    "\n",
    "def upsample(features, target, repeat):\n",
    "    features_zeros = features[target == 0]\n",
    "    features_ones = features[target == 1]\n",
    "    target_zeros = target[target == 0]\n",
    "    target_ones = target[target == 1]\n",
    "\n",
    "    features_upsampled = pd.concat([features_zeros] + [features_ones] * repeat)\n",
    "    target_upsampled = pd.concat([target_zeros] + [target_ones] * repeat)\n",
    "\n",
    "    features_upsampled, target_upsampled = shuffle(\n",
    "        features_upsampled, target_upsampled, random_state=1234\n",
    "    )\n",
    "\n",
    "    return features_upsampled, target_upsampled\n",
    "\n",
    "\n",
    "features_upsampled, target_upsampled = upsample(\n",
    "    features_train, target_train, 11\n",
    "\n",
    ")\n",
    "\n",
    "RFUPmodel = RandomForestClassifier(random_state=1234, n_estimators=71)\n",
    "RFUPmodel.fit(features_upsampled, target_upsampled)\n",
    "RFUPpredic_valid = RFUPmodel.predict(features_valid)\n",
    "RFUPprob_valid = RFUPmodel.predict_proba(features_valid)\n",
    "\n",
    "print('Precision:', precision_score(target_valid, RFUPpredic_valid))\n",
    "print('Recall:', recall_score(target_valid, RFUPpredic_valid))\n",
    "print('F1 Score:', f1_score(target_valid, RFUPpredic_valid))"
   ]
  },
  {
   "cell_type": "markdown",
   "metadata": {},
   "source": [
    "<div class=\"alert alert-info\"> <b> Review </b>:\n",
    "    <li> We can observe through upsampling and n_estimator adjustment that F1 score has improved.</li>"
   ]
  },
  {
   "cell_type": "markdown",
   "metadata": {},
   "source": [
    "### Downsampling\n",
    "Let's use downsampling to make observations of stays less frequent in the data."
   ]
  },
  {
   "cell_type": "code",
   "execution_count": 19,
   "metadata": {},
   "outputs": [],
   "source": [
    "def downsample(features, target, fraction):\n",
    "    features_zeros = features[target == 0]\n",
    "    features_ones = features[target == 1]\n",
    "    target_zeros = target[target == 0]\n",
    "    target_ones = target[target == 1]\n",
    "\n",
    "    features_downsampled = pd.concat([\n",
    "        features_zeros.sample(frac=fraction, random_state=1234),\n",
    "        features_ones\n",
    "    ])\n",
    "\n",
    "    target_downsampled = pd.concat([\n",
    "        target_zeros.sample(frac=fraction, random_state=1234),\n",
    "        target_ones\n",
    "    ])\n",
    "\n",
    "    features_downsampled, target_downsampled = shuffle(\n",
    "        features_downsampled, target_downsampled, random_state=1234\n",
    "    )\n",
    "\n",
    "    return features_downsampled, target_downsampled\n",
    "\n",
    "\n",
    "features_downsampled, target_downsampled = downsample(\n",
    "    features_train, target_train, 0.6\n",
    ")"
   ]
  },
  {
   "cell_type": "code",
   "execution_count": 20,
   "metadata": {},
   "outputs": [
    {
     "name": "stdout",
     "output_type": "stream",
     "text": [
      "Precision: 0.6371681415929203\n",
      "Recall: 0.54\n",
      "F1 Score: 0.584573748308525\n"
     ]
    }
   ],
   "source": [
    "# Let's train the model\n",
    "\n",
    "RFDNmodel = RandomForestClassifier(random_state=1234, n_estimators=10)\n",
    "RFDNmodel.fit(features_downsampled, target_downsampled)\n",
    "RFDNpredic_valid = RFDNmodel.predict(features_valid)\n",
    "RFDNprob_valid = RFDNmodel.predict_proba(features_valid)\n",
    "\n",
    "print('Precision:', precision_score(target_valid, RFDNpredic_valid))\n",
    "print('Recall:', recall_score(target_valid, RFDNpredic_valid))\n",
    "print('F1 Score:', f1_score(target_valid, RFDNpredic_valid))"
   ]
  },
  {
   "cell_type": "code",
   "execution_count": 21,
   "metadata": {},
   "outputs": [
    {
     "name": "stdout",
     "output_type": "stream",
     "text": [
      "Best n_estimators: 78\n"
     ]
    }
   ],
   "source": [
    "# We are close to the threshold, but not quite. Let's adjust the n_estimator\n",
    "best_n_estimators = None\n",
    "best_f1_score = 0\n",
    "\n",
    "for n in range(1, 101, 11):\n",
    "    RFDNmodel = RandomForestClassifier(random_state=1234, n_estimators=n)\n",
    "    RFDNmodel.fit(features_downsampled, target_downsampled)\n",
    "    RFDNpredic_valid = RFDNmodel.predict(features_valid)\n",
    "    f1 = f1_score(target_valid, RFDNpredic_valid)\n",
    "\n",
    "    if f1 > best_f1_score:\n",
    "        best_f1_score = f1\n",
    "        best_n_estimators = n\n",
    "\n",
    "print(f'Best n_estimators: {best_n_estimators}')"
   ]
  },
  {
   "cell_type": "code",
   "execution_count": 22,
   "metadata": {},
   "outputs": [
    {
     "name": "stdout",
     "output_type": "stream",
     "text": [
      "Precision: 0.6361031518624641\n",
      "Recall: 0.555\n",
      "F1 Score: 0.5927903871829105\n"
     ]
    }
   ],
   "source": [
    "# Let's retrain the model with best n_estimator = 78\n",
    "\n",
    "def downsample(features, target, fraction):\n",
    "    features_zeros = features[target == 0]\n",
    "    features_ones = features[target == 1]\n",
    "    target_zeros = target[target == 0]\n",
    "    target_ones = target[target == 1]\n",
    "\n",
    "    features_downsampled = pd.concat([\n",
    "        features_zeros.sample(frac=fraction, random_state=1234),\n",
    "        features_ones\n",
    "    ])\n",
    "\n",
    "    target_downsampled = pd.concat([\n",
    "        target_zeros.sample(frac=fraction, random_state=1234),\n",
    "        target_ones\n",
    "    ])\n",
    "\n",
    "    features_downsampled, target_downsampled = shuffle(\n",
    "        features_downsampled, target_downsampled, random_state=1234\n",
    "    )\n",
    "\n",
    "    return features_downsampled, target_downsampled\n",
    "\n",
    "\n",
    "features_downsampled, target_downsampled = downsample(\n",
    "    features_train, target_train, 0.6\n",
    ")\n",
    "\n",
    "\n",
    "RFDNmodel = RandomForestClassifier(random_state=1234, n_estimators=78)\n",
    "RFDNmodel.fit(features_downsampled, target_downsampled)\n",
    "RFDNpredic_valid = RFDNmodel.predict(features_valid)\n",
    "RFDNprob_valid = RFDNmodel.predict_proba(features_valid)\n",
    "\n",
    "print('Precision:', precision_score(target_valid, RFDNpredic_valid))\n",
    "print('Recall:', recall_score(target_valid, RFDNpredic_valid))\n",
    "print('F1 Score:', f1_score(target_valid, RFDNpredic_valid))"
   ]
  },
  {
   "cell_type": "markdown",
   "metadata": {},
   "source": [
    "<div class=\"alert alert-info\"> <b> Review </b>:\n",
    "    <li> Downsampling also has reached threshold of 0.59</li>"
   ]
  },
  {
   "cell_type": "markdown",
   "metadata": {},
   "source": [
    "## Final Testing "
   ]
  },
  {
   "cell_type": "code",
   "execution_count": 23,
   "metadata": {},
   "outputs": [
    {
     "name": "stdout",
     "output_type": "stream",
     "text": [
      "Precision: 0.6655629139072847\n",
      "Recall: 0.4878640776699029\n",
      "F1 Score: 0.5630252100840336\n",
      "AUC_ROC:  0.8355872930473699\n"
     ]
    }
   ],
   "source": [
    "# Final model with upsampling\n",
    "\n",
    "RFUPmodel = RandomForestClassifier(random_state=1234, n_estimators=78)\n",
    "RFUPmodel.fit(features_upsampled, target_upsampled)\n",
    "RFUPpredic_test = RFUPmodel.predict(features_test)\n",
    "RFUPprob_test = RFUPmodel.predict_proba(features_test)\n",
    "RFUPprob_one_test = RFUPprob_test[:, 1]\n",
    "RFUPauc_roc = roc_auc_score(target_test, RFUPprob_one_test)\n",
    "\n",
    "print('Precision:', precision_score(target_test, RFUPpredic_test))\n",
    "print('Recall:', recall_score(target_test, RFUPpredic_test))\n",
    "print('F1 Score:', f1_score(target_test, RFUPpredic_test))\n",
    "print('AUC_ROC: ', RFUPauc_roc)"
   ]
  },
  {
   "cell_type": "code",
   "execution_count": 24,
   "metadata": {},
   "outputs": [
    {
     "name": "stdout",
     "output_type": "stream",
     "text": [
      "Precision: 0.6616766467065869\n",
      "Recall: 0.5364077669902912\n",
      "F1 Score: 0.5924932975871313\n",
      "AUC_ROC:  0.8371149825144898\n"
     ]
    }
   ],
   "source": [
    "# Final model with downsampling\n",
    "\n",
    "RFDNmodel = RandomForestClassifier(random_state=1234, n_estimators=78)\n",
    "RFDNmodel.fit(features_downsampled, target_downsampled)\n",
    "RFDNpredic_test = RFDNmodel.predict(features_test)\n",
    "RFDNprob_test = RFDNmodel.predict_proba(features_test)\n",
    "RFDNprob_one_test = RFDNprob_test[:, 1]\n",
    "RFDNauc_roc = roc_auc_score(target_test, RFDNprob_one_test)\n",
    "\n",
    "print('Precision:', precision_score(target_test, RFDNpredic_test))\n",
    "print('Recall:', recall_score(target_test, RFDNpredic_test))\n",
    "print('F1 Score:', f1_score(target_test, RFDNpredic_test))\n",
    "print('AUC_ROC: ', RFDNauc_roc)"
   ]
  },
  {
   "cell_type": "markdown",
   "metadata": {},
   "source": [
    "<div class=\"alert alert-info\"> <b> Final Review </b>:\n",
    "    <li> We have replaced missing Tenure data with median since median would be less senitive to outliers than the mean. </li>\n",
    "    <li> We have dropped non-behavioral categorical columns from model training. </li>\n",
    "    <li> We have edited so Geography information is categorical to numeric. </li>\n",
    "    <li> We have compared 2 models: Decision Tree Classifier and Random Forest Classifier.<ul>\n",
    "        <li> We have adjusted both model's hyperparameter </li>\n",
    "        <li>By comparing the two model's AUC_ROC and F1 score, we have decided to pursue further model training with Random Froest Classifier.</li></ul></li>\n",
    "    <li> Model Improvements<ul>\n",
    "        <li> We have tried class weight adjustment, but only worsend our F1 score.</li>\n",
    "        <li> We have also tried upsampling and downsampling. Both methods improved the model beyond its target F1 score of 0.59. </li></ul></li>\n",
    "    <li> Final model result:<ul>\n",
    "        <li> Although both the upsampling and downsampling reached threshold of 0.59 with valid set, when tested with test set, only downsampling reached the threshold of 0.59.</li>\n",
    "        <li> Precision 66.2%: Model's prediction of an exit is accurate around 66.2% of the time.</li>\n",
    "        <li> Recall 53.6%: Out of all the exits, the model captures about 53.6% of them. </li> \n",
    "        <li> F1 0.592: Precision and Recall being not far off from each other and with F1 Score of 0.592, we can say that there is balance between the model's ability to accurately predict exit cases and capture the most of the actual exit cases.</li>\n",
    "        <li> AUC_ROC 0.837: AUC_ROC increased from 0.704 indicating improvement in model's ability. </li>"
   ]
  }
 ],
 "metadata": {
  "kernelspec": {
   "display_name": "Python 3 (ipykernel)",
   "language": "python",
   "name": "python3"
  },
  "language_info": {
   "codemirror_mode": {
    "name": "ipython",
    "version": 3
   },
   "file_extension": ".py",
   "mimetype": "text/x-python",
   "name": "python",
   "nbconvert_exporter": "python",
   "pygments_lexer": "ipython3",
   "version": "3.11.5"
  },
  "toc": {
   "base_numbering": 1,
   "nav_menu": {},
   "number_sections": true,
   "sideBar": true,
   "skip_h1_title": true,
   "title_cell": "Table of Contents",
   "title_sidebar": "Contents",
   "toc_cell": false,
   "toc_position": {
    "height": "calc(100% - 180px)",
    "left": "10px",
    "top": "150px",
    "width": "368px"
   },
   "toc_section_display": true,
   "toc_window_display": true
  }
 },
 "nbformat": 4,
 "nbformat_minor": 2
}
