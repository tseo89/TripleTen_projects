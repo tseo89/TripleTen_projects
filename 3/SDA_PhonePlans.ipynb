{
 "cells": [
  {
   "cell_type": "markdown",
   "metadata": {},
   "source": [
    "## Initialization"
   ]
  },
  {
   "cell_type": "markdown",
   "metadata": {},
   "source": []
  },
  {
   "cell_type": "code",
   "execution_count": 1,
   "metadata": {},
   "outputs": [],
   "source": [
    "# Loading all the libraries\n",
    "import pandas as pd\n",
    "import numpy as np\n",
    "import matplotlib.pyplot as plt\n",
    "import seaborn as sns\n",
    "from scipy import stats as st\n",
    "import math"
   ]
  },
  {
   "cell_type": "markdown",
   "metadata": {},
   "source": [
    "## Load data"
   ]
  },
  {
   "cell_type": "markdown",
   "metadata": {},
   "source": []
  },
  {
   "cell_type": "code",
   "execution_count": 2,
   "metadata": {},
   "outputs": [],
   "source": [
    "# Load the data files into different DataFrames\n",
    "# import megaline_users as users\n",
    "users = pd.read_csv('FileLocation/megaline_users.csv')\n",
    "\n",
    "# import megaline_calls as calls\n",
    "calls = pd.read_csv('FileLocation/megaline_calls.csv')\n",
    "\n",
    "# import megaline_messages as messages\n",
    "messages = pd.read_csv('FileLocation//megaline_messages.csv')\n",
    "\n",
    "# import megaline_internet as internet\n",
    "internet = pd.read_csv('FileLocation//megaline_internet.csv')\n",
    "\n",
    "# import megaline_plans as plans\n",
    "plans = pd.read_csv('FileLocation//megaline_plans.csv')"
   ]
  },
  {
   "cell_type": "markdown",
   "metadata": {},
   "source": [
    "## Prepare the data"
   ]
  },
  {
   "cell_type": "markdown",
   "metadata": {},
   "source": [
    "## Plans"
   ]
  },
  {
   "cell_type": "code",
   "execution_count": 3,
   "metadata": {},
   "outputs": [
    {
     "name": "stdout",
     "output_type": "stream",
     "text": [
      "<class 'pandas.core.frame.DataFrame'>\n",
      "RangeIndex: 2 entries, 0 to 1\n",
      "Data columns (total 8 columns):\n",
      " #   Column                 Non-Null Count  Dtype  \n",
      "---  ------                 --------------  -----  \n",
      " 0   messages_included      2 non-null      int64  \n",
      " 1   mb_per_month_included  2 non-null      int64  \n",
      " 2   minutes_included       2 non-null      int64  \n",
      " 3   usd_monthly_pay        2 non-null      int64  \n",
      " 4   usd_per_gb             2 non-null      int64  \n",
      " 5   usd_per_message        2 non-null      float64\n",
      " 6   usd_per_minute         2 non-null      float64\n",
      " 7   plan_name              2 non-null      object \n",
      "dtypes: float64(2), int64(5), object(1)\n",
      "memory usage: 260.0+ bytes\n"
     ]
    }
   ],
   "source": [
    "# Print the general/summary information about the plans' DataFrame\n",
    "plans.info()"
   ]
  },
  {
   "cell_type": "code",
   "execution_count": 4,
   "metadata": {},
   "outputs": [
    {
     "data": {
      "text/html": [
       "<div>\n",
       "<style scoped>\n",
       "    .dataframe tbody tr th:only-of-type {\n",
       "        vertical-align: middle;\n",
       "    }\n",
       "\n",
       "    .dataframe tbody tr th {\n",
       "        vertical-align: top;\n",
       "    }\n",
       "\n",
       "    .dataframe thead th {\n",
       "        text-align: right;\n",
       "    }\n",
       "</style>\n",
       "<table border=\"1\" class=\"dataframe\">\n",
       "  <thead>\n",
       "    <tr style=\"text-align: right;\">\n",
       "      <th></th>\n",
       "      <th>messages_included</th>\n",
       "      <th>mb_per_month_included</th>\n",
       "      <th>minutes_included</th>\n",
       "      <th>usd_monthly_pay</th>\n",
       "      <th>usd_per_gb</th>\n",
       "      <th>usd_per_message</th>\n",
       "      <th>usd_per_minute</th>\n",
       "      <th>plan_name</th>\n",
       "    </tr>\n",
       "  </thead>\n",
       "  <tbody>\n",
       "    <tr>\n",
       "      <th>0</th>\n",
       "      <td>50</td>\n",
       "      <td>15360</td>\n",
       "      <td>500</td>\n",
       "      <td>20</td>\n",
       "      <td>10</td>\n",
       "      <td>0.03</td>\n",
       "      <td>0.03</td>\n",
       "      <td>surf</td>\n",
       "    </tr>\n",
       "    <tr>\n",
       "      <th>1</th>\n",
       "      <td>1000</td>\n",
       "      <td>30720</td>\n",
       "      <td>3000</td>\n",
       "      <td>70</td>\n",
       "      <td>7</td>\n",
       "      <td>0.01</td>\n",
       "      <td>0.01</td>\n",
       "      <td>ultimate</td>\n",
       "    </tr>\n",
       "  </tbody>\n",
       "</table>\n",
       "</div>"
      ],
      "text/plain": [
       "   messages_included  mb_per_month_included  minutes_included  \\\n",
       "0                 50                  15360               500   \n",
       "1               1000                  30720              3000   \n",
       "\n",
       "   usd_monthly_pay  usd_per_gb  usd_per_message  usd_per_minute plan_name  \n",
       "0               20          10             0.03            0.03      surf  \n",
       "1               70           7             0.01            0.01  ultimate  "
      ]
     },
     "execution_count": 4,
     "metadata": {},
     "output_type": "execute_result"
    }
   ],
   "source": [
    "# Print a sample of data for plans\n",
    "plans.head()"
   ]
  },
  {
   "cell_type": "markdown",
   "metadata": {},
   "source": [
    "<div class=\"alert alert-info\"> \n",
    "<li>Column names don't include spaces or capital letters.\n",
    "<li>Columns  messages_included, mb_per_month_included, minutes_included, usd_monthly_pay, and usd_per_gb have data types of int64, which is suitable for storing integers. \n",
    "<li>Columns usd_per_message and usd_per_minute have data types of float64, which is appropriate for storing floating-point numbers (representing prices with decimal values).\n",
    "<li>The plan_name column has a data type of object, which is correclty representing text/string data.\n",
    "<li>There is no missing values.</div>"
   ]
  },
  {
   "cell_type": "markdown",
   "metadata": {},
   "source": [
    "## Users"
   ]
  },
  {
   "cell_type": "code",
   "execution_count": 5,
   "metadata": {},
   "outputs": [
    {
     "name": "stdout",
     "output_type": "stream",
     "text": [
      "<class 'pandas.core.frame.DataFrame'>\n",
      "RangeIndex: 500 entries, 0 to 499\n",
      "Data columns (total 8 columns):\n",
      " #   Column      Non-Null Count  Dtype \n",
      "---  ------      --------------  ----- \n",
      " 0   user_id     500 non-null    int64 \n",
      " 1   first_name  500 non-null    object\n",
      " 2   last_name   500 non-null    object\n",
      " 3   age         500 non-null    int64 \n",
      " 4   city        500 non-null    object\n",
      " 5   reg_date    500 non-null    object\n",
      " 6   plan        500 non-null    object\n",
      " 7   churn_date  34 non-null     object\n",
      "dtypes: int64(2), object(6)\n",
      "memory usage: 31.4+ KB\n"
     ]
    }
   ],
   "source": [
    "# Print the general/summary information about the users' DataFrame\n",
    "users.info()"
   ]
  },
  {
   "cell_type": "code",
   "execution_count": 6,
   "metadata": {},
   "outputs": [
    {
     "data": {
      "text/html": [
       "<div>\n",
       "<style scoped>\n",
       "    .dataframe tbody tr th:only-of-type {\n",
       "        vertical-align: middle;\n",
       "    }\n",
       "\n",
       "    .dataframe tbody tr th {\n",
       "        vertical-align: top;\n",
       "    }\n",
       "\n",
       "    .dataframe thead th {\n",
       "        text-align: right;\n",
       "    }\n",
       "</style>\n",
       "<table border=\"1\" class=\"dataframe\">\n",
       "  <thead>\n",
       "    <tr style=\"text-align: right;\">\n",
       "      <th></th>\n",
       "      <th>user_id</th>\n",
       "      <th>first_name</th>\n",
       "      <th>last_name</th>\n",
       "      <th>age</th>\n",
       "      <th>city</th>\n",
       "      <th>reg_date</th>\n",
       "      <th>plan</th>\n",
       "      <th>churn_date</th>\n",
       "    </tr>\n",
       "  </thead>\n",
       "  <tbody>\n",
       "    <tr>\n",
       "      <th>0</th>\n",
       "      <td>1000</td>\n",
       "      <td>Anamaria</td>\n",
       "      <td>Bauer</td>\n",
       "      <td>45</td>\n",
       "      <td>Atlanta-Sandy Springs-Roswell, GA MSA</td>\n",
       "      <td>12/24/2018</td>\n",
       "      <td>ultimate</td>\n",
       "      <td>NaN</td>\n",
       "    </tr>\n",
       "    <tr>\n",
       "      <th>1</th>\n",
       "      <td>1001</td>\n",
       "      <td>Mickey</td>\n",
       "      <td>Wilkerson</td>\n",
       "      <td>28</td>\n",
       "      <td>Seattle-Tacoma-Bellevue, WA MSA</td>\n",
       "      <td>8/13/2018</td>\n",
       "      <td>surf</td>\n",
       "      <td>NaN</td>\n",
       "    </tr>\n",
       "    <tr>\n",
       "      <th>2</th>\n",
       "      <td>1002</td>\n",
       "      <td>Carlee</td>\n",
       "      <td>Hoffman</td>\n",
       "      <td>36</td>\n",
       "      <td>Las Vegas-Henderson-Paradise, NV MSA</td>\n",
       "      <td>10/21/2018</td>\n",
       "      <td>surf</td>\n",
       "      <td>NaN</td>\n",
       "    </tr>\n",
       "    <tr>\n",
       "      <th>3</th>\n",
       "      <td>1003</td>\n",
       "      <td>Reynaldo</td>\n",
       "      <td>Jenkins</td>\n",
       "      <td>52</td>\n",
       "      <td>Tulsa, OK MSA</td>\n",
       "      <td>1/28/2018</td>\n",
       "      <td>surf</td>\n",
       "      <td>NaN</td>\n",
       "    </tr>\n",
       "    <tr>\n",
       "      <th>4</th>\n",
       "      <td>1004</td>\n",
       "      <td>Leonila</td>\n",
       "      <td>Thompson</td>\n",
       "      <td>40</td>\n",
       "      <td>Seattle-Tacoma-Bellevue, WA MSA</td>\n",
       "      <td>5/23/2018</td>\n",
       "      <td>surf</td>\n",
       "      <td>NaN</td>\n",
       "    </tr>\n",
       "  </tbody>\n",
       "</table>\n",
       "</div>"
      ],
      "text/plain": [
       "   user_id first_name  last_name  age                                   city  \\\n",
       "0     1000   Anamaria      Bauer   45  Atlanta-Sandy Springs-Roswell, GA MSA   \n",
       "1     1001     Mickey  Wilkerson   28        Seattle-Tacoma-Bellevue, WA MSA   \n",
       "2     1002     Carlee    Hoffman   36   Las Vegas-Henderson-Paradise, NV MSA   \n",
       "3     1003   Reynaldo    Jenkins   52                          Tulsa, OK MSA   \n",
       "4     1004    Leonila   Thompson   40        Seattle-Tacoma-Bellevue, WA MSA   \n",
       "\n",
       "     reg_date      plan churn_date  \n",
       "0  12/24/2018  ultimate        NaN  \n",
       "1   8/13/2018      surf        NaN  \n",
       "2  10/21/2018      surf        NaN  \n",
       "3   1/28/2018      surf        NaN  \n",
       "4   5/23/2018      surf        NaN  "
      ]
     },
     "execution_count": 6,
     "metadata": {},
     "output_type": "execute_result"
    }
   ],
   "source": [
    "# Print a sample of data for users\n",
    "users.head()"
   ]
  },
  {
   "cell_type": "markdown",
   "metadata": {},
   "source": [
    "<div class=\"alert alert-info\"> \n",
    "    <li>Column names don't include spaces or capital letters.\n",
    "    <li>Columns user_id and age have data types of int64, which is suitable for storing integers. \n",
    "        <ul><li> There isn't a lot of mathmatical meaning to user_id and no arthmatic we would do with these numbers. So it can be changed to object/string. But we will leave this as is for now</ul></li>\n",
    "    <li>Columns reg_date and churn_date has data types of object, which is NOT appropriate for representing dates and needs to be revised to datetime</li>\n",
    "    <li>Columns first_name, last_name, city, and plan has a data type of object, which is appropriate for representing text/string data.</li>\n",
    "    <li>Column churn_date has 466 missing data which indicates that 466 users are still using Megaline. However, we will not change this for now.</li></div>"
   ]
  },
  {
   "cell_type": "markdown",
   "metadata": {},
   "source": [
    " "
   ]
  },
  {
   "cell_type": "markdown",
   "metadata": {},
   "source": [
    "### Fix Data"
   ]
  },
  {
   "cell_type": "code",
   "execution_count": 7,
   "metadata": {},
   "outputs": [
    {
     "name": "stdout",
     "output_type": "stream",
     "text": [
      "datetime64[ns]\n",
      "datetime64[ns]\n"
     ]
    }
   ],
   "source": [
    "# change reg_date and churn_date into datetime data type. Need to add errors='coerce' since churn_date column has missing values.\n",
    "users['reg_date'] = pd.to_datetime(users['reg_date'])\n",
    "users['churn_date'] = pd.to_datetime(users['churn_date'], errors='coerce')\n",
    "\n",
    "# check the data type of reg_date and churn_date columns\n",
    "print(users['reg_date'].dtype)\n",
    "print(users['churn_date'].dtype)"
   ]
  },
  {
   "cell_type": "markdown",
   "metadata": {},
   "source": [
    "### Enrich Data"
   ]
  },
  {
   "cell_type": "markdown",
   "metadata": {},
   "source": [
    "<div class=\"alert alert-info\">\n",
    "We may or maynot find filling in missing data of 'churn_date' column to be useful. So for now, missing values are left as is.\n",
    "    </div>"
   ]
  },
  {
   "cell_type": "markdown",
   "metadata": {},
   "source": [
    "## Calls"
   ]
  },
  {
   "cell_type": "code",
   "execution_count": 8,
   "metadata": {},
   "outputs": [
    {
     "name": "stdout",
     "output_type": "stream",
     "text": [
      "<class 'pandas.core.frame.DataFrame'>\n",
      "RangeIndex: 137735 entries, 0 to 137734\n",
      "Data columns (total 5 columns):\n",
      " #   Column            Non-Null Count   Dtype  \n",
      "---  ------            --------------   -----  \n",
      " 0   id                137735 non-null  object \n",
      " 1   user_id           137735 non-null  int64  \n",
      " 2   call_date         137735 non-null  object \n",
      " 3   duration          137735 non-null  float64\n",
      " 4   roundup_duration  137735 non-null  int64  \n",
      "dtypes: float64(1), int64(2), object(2)\n",
      "memory usage: 5.3+ MB\n"
     ]
    }
   ],
   "source": [
    "# Print the general/summary information about the calls' DataFrame\n",
    "calls.info()"
   ]
  },
  {
   "cell_type": "code",
   "execution_count": 9,
   "metadata": {},
   "outputs": [
    {
     "data": {
      "text/html": [
       "<div>\n",
       "<style scoped>\n",
       "    .dataframe tbody tr th:only-of-type {\n",
       "        vertical-align: middle;\n",
       "    }\n",
       "\n",
       "    .dataframe tbody tr th {\n",
       "        vertical-align: top;\n",
       "    }\n",
       "\n",
       "    .dataframe thead th {\n",
       "        text-align: right;\n",
       "    }\n",
       "</style>\n",
       "<table border=\"1\" class=\"dataframe\">\n",
       "  <thead>\n",
       "    <tr style=\"text-align: right;\">\n",
       "      <th></th>\n",
       "      <th>id</th>\n",
       "      <th>user_id</th>\n",
       "      <th>call_date</th>\n",
       "      <th>duration</th>\n",
       "      <th>roundup_duration</th>\n",
       "    </tr>\n",
       "  </thead>\n",
       "  <tbody>\n",
       "    <tr>\n",
       "      <th>0</th>\n",
       "      <td>1000_145</td>\n",
       "      <td>1000</td>\n",
       "      <td>12/27/2018</td>\n",
       "      <td>13.66</td>\n",
       "      <td>14</td>\n",
       "    </tr>\n",
       "    <tr>\n",
       "      <th>1</th>\n",
       "      <td>1000_247</td>\n",
       "      <td>1000</td>\n",
       "      <td>12/27/2018</td>\n",
       "      <td>14.48</td>\n",
       "      <td>15</td>\n",
       "    </tr>\n",
       "    <tr>\n",
       "      <th>2</th>\n",
       "      <td>1000_309</td>\n",
       "      <td>1000</td>\n",
       "      <td>12/28/2018</td>\n",
       "      <td>5.76</td>\n",
       "      <td>6</td>\n",
       "    </tr>\n",
       "    <tr>\n",
       "      <th>3</th>\n",
       "      <td>1000_380</td>\n",
       "      <td>1000</td>\n",
       "      <td>12/30/2018</td>\n",
       "      <td>4.22</td>\n",
       "      <td>5</td>\n",
       "    </tr>\n",
       "    <tr>\n",
       "      <th>4</th>\n",
       "      <td>1000_388</td>\n",
       "      <td>1000</td>\n",
       "      <td>12/31/2018</td>\n",
       "      <td>2.20</td>\n",
       "      <td>3</td>\n",
       "    </tr>\n",
       "  </tbody>\n",
       "</table>\n",
       "</div>"
      ],
      "text/plain": [
       "         id  user_id   call_date  duration  roundup_duration\n",
       "0  1000_145     1000  12/27/2018     13.66                14\n",
       "1  1000_247     1000  12/27/2018     14.48                15\n",
       "2  1000_309     1000  12/28/2018      5.76                 6\n",
       "3  1000_380     1000  12/30/2018      4.22                 5\n",
       "4  1000_388     1000  12/31/2018      2.20                 3"
      ]
     },
     "execution_count": 9,
     "metadata": {},
     "output_type": "execute_result"
    }
   ],
   "source": [
    "# Print a sample of data for calls\n",
    "calls.head()"
   ]
  },
  {
   "cell_type": "markdown",
   "metadata": {},
   "source": [
    "[Describe what you see and notice in the general information and the printed data sample for the above price of data. Are there any issues (inappropriate data types, missing data etc) that may need further investigation and changes? How that can be fixed?]"
   ]
  },
  {
   "cell_type": "markdown",
   "metadata": {},
   "source": [
    " <div class=\"alert alert-info\">  \n",
    "<li>id column includes '_' sign. 4 digits before the '_' is the user_id and true id for call is represented by the 2 digits that come after. Since we already have a columnn that identifies user_id, we can remove the first 4 digits + '_' from id column and make id column into integer type. But we don't see the need for this, so we'll leave it as is for now.\n",
    "<li>IDs are not to be mathmatically used for our analysis other than being counted, so I don't see the point of altering the data yet. \n",
    "<li>call_date is showing as object/string. However, these are specific date and would be best if it's changed to datetime\n",
    "<li> Duration is saved as float. Since Megaline rounds up EACH call to its nearest minute, to make our math simpler, it would be best to round this up to whole minutes and make an integer instead of a float.\n",
    "<li> 0s in duration will not undermine the calculations since duration used is imporantat and 0 will correctly represent usage by customers. Also, when calculating the revenue, we can added a separate line to calculate the minimum which is charged regardless of ussage.\n",
    "</div>"
   ]
  },
  {
   "cell_type": "markdown",
   "metadata": {},
   "source": [
    "### Fix data"
   ]
  },
  {
   "cell_type": "markdown",
   "metadata": {},
   "source": [
    "[Fix obvious issues with the data given the initial observations.]"
   ]
  },
  {
   "cell_type": "code",
   "execution_count": 10,
   "metadata": {},
   "outputs": [
    {
     "name": "stdout",
     "output_type": "stream",
     "text": [
      "datetime64[ns]\n"
     ]
    }
   ],
   "source": [
    "# change call_date column to datetime data type\n",
    "calls['call_date'] = pd.to_datetime(calls['call_date'])\n",
    "\n",
    "# confirm data type has changed\n",
    "print(calls['call_date'].dtypes)"
   ]
  },
  {
   "cell_type": "markdown",
   "metadata": {},
   "source": [
    "### Enrich data"
   ]
  },
  {
   "cell_type": "markdown",
   "metadata": {},
   "source": [
    "[Add additional factors to the data if you believe they might be useful.]"
   ]
  },
  {
   "cell_type": "code",
   "execution_count": 11,
   "metadata": {},
   "outputs": [
    {
     "name": "stdout",
     "output_type": "stream",
     "text": [
      "int32\n"
     ]
    },
    {
     "data": {
      "text/html": [
       "<div>\n",
       "<style scoped>\n",
       "    .dataframe tbody tr th:only-of-type {\n",
       "        vertical-align: middle;\n",
       "    }\n",
       "\n",
       "    .dataframe tbody tr th {\n",
       "        vertical-align: top;\n",
       "    }\n",
       "\n",
       "    .dataframe thead th {\n",
       "        text-align: right;\n",
       "    }\n",
       "</style>\n",
       "<table border=\"1\" class=\"dataframe\">\n",
       "  <thead>\n",
       "    <tr style=\"text-align: right;\">\n",
       "      <th></th>\n",
       "      <th>id</th>\n",
       "      <th>user_id</th>\n",
       "      <th>call_date</th>\n",
       "      <th>duration</th>\n",
       "      <th>roundup_duration</th>\n",
       "    </tr>\n",
       "  </thead>\n",
       "  <tbody>\n",
       "    <tr>\n",
       "      <th>0</th>\n",
       "      <td>1000_145</td>\n",
       "      <td>1000</td>\n",
       "      <td>2018-12-27</td>\n",
       "      <td>14</td>\n",
       "      <td>14</td>\n",
       "    </tr>\n",
       "    <tr>\n",
       "      <th>1</th>\n",
       "      <td>1000_247</td>\n",
       "      <td>1000</td>\n",
       "      <td>2018-12-27</td>\n",
       "      <td>15</td>\n",
       "      <td>15</td>\n",
       "    </tr>\n",
       "    <tr>\n",
       "      <th>2</th>\n",
       "      <td>1000_309</td>\n",
       "      <td>1000</td>\n",
       "      <td>2018-12-28</td>\n",
       "      <td>6</td>\n",
       "      <td>6</td>\n",
       "    </tr>\n",
       "    <tr>\n",
       "      <th>3</th>\n",
       "      <td>1000_380</td>\n",
       "      <td>1000</td>\n",
       "      <td>2018-12-30</td>\n",
       "      <td>5</td>\n",
       "      <td>5</td>\n",
       "    </tr>\n",
       "    <tr>\n",
       "      <th>4</th>\n",
       "      <td>1000_388</td>\n",
       "      <td>1000</td>\n",
       "      <td>2018-12-31</td>\n",
       "      <td>3</td>\n",
       "      <td>3</td>\n",
       "    </tr>\n",
       "  </tbody>\n",
       "</table>\n",
       "</div>"
      ],
      "text/plain": [
       "         id  user_id  call_date  duration  roundup_duration\n",
       "0  1000_145     1000 2018-12-27        14                14\n",
       "1  1000_247     1000 2018-12-27        15                15\n",
       "2  1000_309     1000 2018-12-28         6                 6\n",
       "3  1000_380     1000 2018-12-30         5                 5\n",
       "4  1000_388     1000 2018-12-31         3                 3"
      ]
     },
     "execution_count": 11,
     "metadata": {},
     "output_type": "execute_result"
    }
   ],
   "source": [
    "# round up the duration column to nearest whole number\n",
    "calls['duration'] = np.ceil(calls['duration']).astype(int)\n",
    "\n",
    "# change data type of duration to integer\n",
    "# calls['duration']=calls['duration'].astype(int)\n",
    "\n",
    "# check data type changed\n",
    "print(calls['duration'].dtypes)\n",
    "\n",
    "# check values\n",
    "calls.head()"
   ]
  },
  {
   "cell_type": "markdown",
   "metadata": {},
   "source": [
    "## Messages"
   ]
  },
  {
   "cell_type": "code",
   "execution_count": 12,
   "metadata": {},
   "outputs": [
    {
     "name": "stdout",
     "output_type": "stream",
     "text": [
      "<class 'pandas.core.frame.DataFrame'>\n",
      "RangeIndex: 76051 entries, 0 to 76050\n",
      "Data columns (total 3 columns):\n",
      " #   Column        Non-Null Count  Dtype \n",
      "---  ------        --------------  ----- \n",
      " 0   id            76051 non-null  object\n",
      " 1   user_id       76051 non-null  int64 \n",
      " 2   message_date  76051 non-null  object\n",
      "dtypes: int64(1), object(2)\n",
      "memory usage: 1.7+ MB\n"
     ]
    }
   ],
   "source": [
    "# Print the general/summary information about the messages' DataFrame\n",
    "messages.info()"
   ]
  },
  {
   "cell_type": "code",
   "execution_count": 13,
   "metadata": {},
   "outputs": [
    {
     "data": {
      "text/html": [
       "<div>\n",
       "<style scoped>\n",
       "    .dataframe tbody tr th:only-of-type {\n",
       "        vertical-align: middle;\n",
       "    }\n",
       "\n",
       "    .dataframe tbody tr th {\n",
       "        vertical-align: top;\n",
       "    }\n",
       "\n",
       "    .dataframe thead th {\n",
       "        text-align: right;\n",
       "    }\n",
       "</style>\n",
       "<table border=\"1\" class=\"dataframe\">\n",
       "  <thead>\n",
       "    <tr style=\"text-align: right;\">\n",
       "      <th></th>\n",
       "      <th>id</th>\n",
       "      <th>user_id</th>\n",
       "      <th>message_date</th>\n",
       "    </tr>\n",
       "  </thead>\n",
       "  <tbody>\n",
       "    <tr>\n",
       "      <th>0</th>\n",
       "      <td>1000_125</td>\n",
       "      <td>1000</td>\n",
       "      <td>12/27/2018</td>\n",
       "    </tr>\n",
       "    <tr>\n",
       "      <th>1</th>\n",
       "      <td>1000_160</td>\n",
       "      <td>1000</td>\n",
       "      <td>12/31/2018</td>\n",
       "    </tr>\n",
       "    <tr>\n",
       "      <th>2</th>\n",
       "      <td>1000_223</td>\n",
       "      <td>1000</td>\n",
       "      <td>12/31/2018</td>\n",
       "    </tr>\n",
       "    <tr>\n",
       "      <th>3</th>\n",
       "      <td>1000_251</td>\n",
       "      <td>1000</td>\n",
       "      <td>12/27/2018</td>\n",
       "    </tr>\n",
       "    <tr>\n",
       "      <th>4</th>\n",
       "      <td>1000_255</td>\n",
       "      <td>1000</td>\n",
       "      <td>12/26/2018</td>\n",
       "    </tr>\n",
       "  </tbody>\n",
       "</table>\n",
       "</div>"
      ],
      "text/plain": [
       "         id  user_id message_date\n",
       "0  1000_125     1000   12/27/2018\n",
       "1  1000_160     1000   12/31/2018\n",
       "2  1000_223     1000   12/31/2018\n",
       "3  1000_251     1000   12/27/2018\n",
       "4  1000_255     1000   12/26/2018"
      ]
     },
     "execution_count": 13,
     "metadata": {},
     "output_type": "execute_result"
    }
   ],
   "source": [
    "# Print a sample of data for messages\n",
    "messages.head()"
   ]
  },
  {
   "cell_type": "markdown",
   "metadata": {},
   "source": [
    "<div class=\"alert alert-info\"> \n",
    "    <li>there are no missing data</li>\n",
    "    <li> all columns are in lower case and doesn't have spaces </li>\n",
    "<li>id column includes '_' sign. 4 digits before the '_' is the user_id and true id for message is represented by the 2 digits that come after. Since we already have a columnn that identifies user_id, we can remove the first 4 digits + '_' from id column and make id column into integer type. But we don't see the need for this, so we'll leave it as is for now.\n",
    "<li>However, IDs are not to be mathmatically used for our analysis other than being counted, so I don't see the point of altering the data yet. \n",
    "<li>message_date is showing as object/string. However, these are specific date and would be best if it's changed to datetime\n",
    "</div>"
   ]
  },
  {
   "cell_type": "markdown",
   "metadata": {},
   "source": [
    "### Fix data"
   ]
  },
  {
   "cell_type": "code",
   "execution_count": 14,
   "metadata": {},
   "outputs": [
    {
     "name": "stdout",
     "output_type": "stream",
     "text": [
      "datetime64[ns]\n"
     ]
    }
   ],
   "source": [
    "# change message_date column to datetime data type\n",
    "messages['message_date'] = pd.to_datetime(messages['message_date'])\n",
    "\n",
    "# confirm data type has changed\n",
    "print(messages['message_date'].dtypes)"
   ]
  },
  {
   "cell_type": "markdown",
   "metadata": {},
   "source": [
    "### Enrich data"
   ]
  },
  {
   "cell_type": "markdown",
   "metadata": {},
   "source": [
    "<div class=\"alert alert-info\"> \n",
    "    There is no other changes needed at this time"
   ]
  },
  {
   "cell_type": "markdown",
   "metadata": {},
   "source": [
    "## Internet"
   ]
  },
  {
   "cell_type": "code",
   "execution_count": 15,
   "metadata": {},
   "outputs": [
    {
     "name": "stdout",
     "output_type": "stream",
     "text": [
      "<class 'pandas.core.frame.DataFrame'>\n",
      "RangeIndex: 104825 entries, 0 to 104824\n",
      "Data columns (total 4 columns):\n",
      " #   Column        Non-Null Count   Dtype  \n",
      "---  ------        --------------   -----  \n",
      " 0   id            104825 non-null  object \n",
      " 1   user_id       104825 non-null  int64  \n",
      " 2   session_date  104825 non-null  object \n",
      " 3   mb_used       104825 non-null  float64\n",
      "dtypes: float64(1), int64(1), object(2)\n",
      "memory usage: 3.2+ MB\n"
     ]
    }
   ],
   "source": [
    "# Print the general/summary information about the internet DataFrame\n",
    "internet.info()"
   ]
  },
  {
   "cell_type": "code",
   "execution_count": 16,
   "metadata": {},
   "outputs": [
    {
     "data": {
      "text/html": [
       "<div>\n",
       "<style scoped>\n",
       "    .dataframe tbody tr th:only-of-type {\n",
       "        vertical-align: middle;\n",
       "    }\n",
       "\n",
       "    .dataframe tbody tr th {\n",
       "        vertical-align: top;\n",
       "    }\n",
       "\n",
       "    .dataframe thead th {\n",
       "        text-align: right;\n",
       "    }\n",
       "</style>\n",
       "<table border=\"1\" class=\"dataframe\">\n",
       "  <thead>\n",
       "    <tr style=\"text-align: right;\">\n",
       "      <th></th>\n",
       "      <th>id</th>\n",
       "      <th>user_id</th>\n",
       "      <th>session_date</th>\n",
       "      <th>mb_used</th>\n",
       "    </tr>\n",
       "  </thead>\n",
       "  <tbody>\n",
       "    <tr>\n",
       "      <th>0</th>\n",
       "      <td>1000_13</td>\n",
       "      <td>1000</td>\n",
       "      <td>12/29/2018</td>\n",
       "      <td>89.86</td>\n",
       "    </tr>\n",
       "    <tr>\n",
       "      <th>1</th>\n",
       "      <td>1000_204</td>\n",
       "      <td>1000</td>\n",
       "      <td>12/31/2018</td>\n",
       "      <td>0.00</td>\n",
       "    </tr>\n",
       "    <tr>\n",
       "      <th>2</th>\n",
       "      <td>1000_379</td>\n",
       "      <td>1000</td>\n",
       "      <td>12/28/2018</td>\n",
       "      <td>660.40</td>\n",
       "    </tr>\n",
       "    <tr>\n",
       "      <th>3</th>\n",
       "      <td>1000_413</td>\n",
       "      <td>1000</td>\n",
       "      <td>12/26/2018</td>\n",
       "      <td>270.99</td>\n",
       "    </tr>\n",
       "    <tr>\n",
       "      <th>4</th>\n",
       "      <td>1000_442</td>\n",
       "      <td>1000</td>\n",
       "      <td>12/27/2018</td>\n",
       "      <td>880.22</td>\n",
       "    </tr>\n",
       "  </tbody>\n",
       "</table>\n",
       "</div>"
      ],
      "text/plain": [
       "         id  user_id session_date  mb_used\n",
       "0   1000_13     1000   12/29/2018    89.86\n",
       "1  1000_204     1000   12/31/2018     0.00\n",
       "2  1000_379     1000   12/28/2018   660.40\n",
       "3  1000_413     1000   12/26/2018   270.99\n",
       "4  1000_442     1000   12/27/2018   880.22"
      ]
     },
     "execution_count": 16,
     "metadata": {},
     "output_type": "execute_result"
    }
   ],
   "source": [
    "# Print a sample of data for the internet traffic\n",
    "internet.head()"
   ]
  },
  {
   "cell_type": "markdown",
   "metadata": {},
   "source": [
    " <div class=\"alert alert-info\"> \n",
    "    <li>there are no missing data</li>\n",
    "    <li> all columns are in lower case and doesn't have </li>\n",
    "<li>id column includes '_' sign. 4 digits before the '_' is the user_id and true id for call is represented by the 2 digits that come after. Since we already have a columnn that identifies user_id, we can remove the first 4 digits + '_' from id column and make id column into integer type. But we don't see the need for this, so we'll leave it as is for now.\n",
    "<li>IDs are not to be mathmatically used for our analysis other than being counted, so I don't see the point of altering the data yet. \n",
    "<li>session_date is showing as object/string. However, these are specific date and would be best if it's changed to datetime\n",
    "<li> mb_used is in float. This is appropriate to calculate monthly since individual web sessions are not rounded up\n",
    "<li> 0s mb_used will not undermine the calculations since total number of GB used is important and 0 will correctly represent usage by customers. Also, when calcualting the revenue, we can add a separate line to calculate the minimum which is charged regardless of the usage. \n",
    "</div>"
   ]
  },
  {
   "cell_type": "markdown",
   "metadata": {},
   "source": [
    "### Fix data"
   ]
  },
  {
   "cell_type": "code",
   "execution_count": 17,
   "metadata": {},
   "outputs": [
    {
     "name": "stdout",
     "output_type": "stream",
     "text": [
      "datetime64[ns]\n"
     ]
    }
   ],
   "source": [
    "# change session_date data type to datetime\n",
    "internet['session_date'] = pd.to_datetime(internet['session_date'])\n",
    "\n",
    "# check data type of session_date\n",
    "print(internet['session_date'].dtype)"
   ]
  },
  {
   "cell_type": "markdown",
   "metadata": {},
   "source": [
    "### Enrich data"
   ]
  },
  {
   "cell_type": "markdown",
   "metadata": {},
   "source": [
    " <div class=\"alert alert-info\">  There is no additioal changes needed at this time"
   ]
  },
  {
   "cell_type": "markdown",
   "metadata": {},
   "source": [
    "## Study plan conditions"
   ]
  },
  {
   "cell_type": "code",
   "execution_count": 18,
   "metadata": {},
   "outputs": [
    {
     "data": {
      "text/html": [
       "<div>\n",
       "<style scoped>\n",
       "    .dataframe tbody tr th:only-of-type {\n",
       "        vertical-align: middle;\n",
       "    }\n",
       "\n",
       "    .dataframe tbody tr th {\n",
       "        vertical-align: top;\n",
       "    }\n",
       "\n",
       "    .dataframe thead th {\n",
       "        text-align: right;\n",
       "    }\n",
       "</style>\n",
       "<table border=\"1\" class=\"dataframe\">\n",
       "  <thead>\n",
       "    <tr style=\"text-align: right;\">\n",
       "      <th></th>\n",
       "      <th>messages_included</th>\n",
       "      <th>mb_per_month_included</th>\n",
       "      <th>minutes_included</th>\n",
       "      <th>usd_monthly_pay</th>\n",
       "      <th>usd_per_gb</th>\n",
       "      <th>usd_per_message</th>\n",
       "      <th>usd_per_minute</th>\n",
       "      <th>plan_name</th>\n",
       "    </tr>\n",
       "  </thead>\n",
       "  <tbody>\n",
       "    <tr>\n",
       "      <th>0</th>\n",
       "      <td>50</td>\n",
       "      <td>15360</td>\n",
       "      <td>500</td>\n",
       "      <td>20</td>\n",
       "      <td>10</td>\n",
       "      <td>0.03</td>\n",
       "      <td>0.03</td>\n",
       "      <td>surf</td>\n",
       "    </tr>\n",
       "    <tr>\n",
       "      <th>1</th>\n",
       "      <td>1000</td>\n",
       "      <td>30720</td>\n",
       "      <td>3000</td>\n",
       "      <td>70</td>\n",
       "      <td>7</td>\n",
       "      <td>0.01</td>\n",
       "      <td>0.01</td>\n",
       "      <td>ultimate</td>\n",
       "    </tr>\n",
       "  </tbody>\n",
       "</table>\n",
       "</div>"
      ],
      "text/plain": [
       "   messages_included  mb_per_month_included  minutes_included  \\\n",
       "0                 50                  15360               500   \n",
       "1               1000                  30720              3000   \n",
       "\n",
       "   usd_monthly_pay  usd_per_gb  usd_per_message  usd_per_minute plan_name  \n",
       "0               20          10             0.03            0.03      surf  \n",
       "1               70           7             0.01            0.01  ultimate  "
      ]
     },
     "execution_count": 18,
     "metadata": {},
     "output_type": "execute_result"
    }
   ],
   "source": [
    "# Print out the plan conditions and make sure they are clear for you\n",
    "plans.head()"
   ]
  },
  {
   "cell_type": "markdown",
   "metadata": {},
   "source": [
    "## Aggregate data per user"
   ]
  },
  {
   "cell_type": "code",
   "execution_count": 19,
   "metadata": {},
   "outputs": [
    {
     "data": {
      "text/html": [
       "<div>\n",
       "<style scoped>\n",
       "    .dataframe tbody tr th:only-of-type {\n",
       "        vertical-align: middle;\n",
       "    }\n",
       "\n",
       "    .dataframe tbody tr th {\n",
       "        vertical-align: top;\n",
       "    }\n",
       "\n",
       "    .dataframe thead th {\n",
       "        text-align: right;\n",
       "    }\n",
       "</style>\n",
       "<table border=\"1\" class=\"dataframe\">\n",
       "  <thead>\n",
       "    <tr style=\"text-align: right;\">\n",
       "      <th></th>\n",
       "      <th>user_id</th>\n",
       "      <th>month</th>\n",
       "      <th>num_calls</th>\n",
       "    </tr>\n",
       "  </thead>\n",
       "  <tbody>\n",
       "    <tr>\n",
       "      <th>0</th>\n",
       "      <td>1000</td>\n",
       "      <td>12</td>\n",
       "      <td>16</td>\n",
       "    </tr>\n",
       "    <tr>\n",
       "      <th>1</th>\n",
       "      <td>1001</td>\n",
       "      <td>8</td>\n",
       "      <td>27</td>\n",
       "    </tr>\n",
       "    <tr>\n",
       "      <th>2</th>\n",
       "      <td>1001</td>\n",
       "      <td>9</td>\n",
       "      <td>49</td>\n",
       "    </tr>\n",
       "    <tr>\n",
       "      <th>3</th>\n",
       "      <td>1001</td>\n",
       "      <td>10</td>\n",
       "      <td>65</td>\n",
       "    </tr>\n",
       "    <tr>\n",
       "      <th>4</th>\n",
       "      <td>1001</td>\n",
       "      <td>11</td>\n",
       "      <td>64</td>\n",
       "    </tr>\n",
       "  </tbody>\n",
       "</table>\n",
       "</div>"
      ],
      "text/plain": [
       "   user_id  month  num_calls\n",
       "0     1000     12         16\n",
       "1     1001      8         27\n",
       "2     1001      9         49\n",
       "3     1001     10         65\n",
       "4     1001     11         64"
      ]
     },
     "metadata": {},
     "output_type": "display_data"
    },
    {
     "name": "stdout",
     "output_type": "stream",
     "text": [
      "\n",
      "<class 'pandas.core.frame.DataFrame'>\n",
      "RangeIndex: 2258 entries, 0 to 2257\n",
      "Data columns (total 3 columns):\n",
      " #   Column     Non-Null Count  Dtype\n",
      "---  ------     --------------  -----\n",
      " 0   user_id    2258 non-null   int64\n",
      " 1   month      2258 non-null   int32\n",
      " 2   num_calls  2258 non-null   int64\n",
      "dtypes: int32(1), int64(2)\n",
      "memory usage: 44.2 KB\n"
     ]
    }
   ],
   "source": [
    "# Calculate the number of calls made by each user per month. Save the result.\n",
    "\n",
    "# extract month from call_date and add it to column call_month\n",
    "calls['month'] = calls['call_date'].dt.month\n",
    "# count the number of ids for number of calls. Group the data by 'user_id' and 'call_month'\n",
    "calls_per_user_m = calls.groupby(['user_id', 'month']).agg(\n",
    "    num_calls=('id', 'count')).reset_index()\n",
    "# print to see the result\n",
    "display(calls_per_user_m.head())\n",
    "print()\n",
    "calls_per_user_m.info()"
   ]
  },
  {
   "cell_type": "code",
   "execution_count": 20,
   "metadata": {},
   "outputs": [
    {
     "data": {
      "text/html": [
       "<div>\n",
       "<style scoped>\n",
       "    .dataframe tbody tr th:only-of-type {\n",
       "        vertical-align: middle;\n",
       "    }\n",
       "\n",
       "    .dataframe tbody tr th {\n",
       "        vertical-align: top;\n",
       "    }\n",
       "\n",
       "    .dataframe thead th {\n",
       "        text-align: right;\n",
       "    }\n",
       "</style>\n",
       "<table border=\"1\" class=\"dataframe\">\n",
       "  <thead>\n",
       "    <tr style=\"text-align: right;\">\n",
       "      <th></th>\n",
       "      <th>user_id</th>\n",
       "      <th>month</th>\n",
       "      <th>m_dur</th>\n",
       "    </tr>\n",
       "  </thead>\n",
       "  <tbody>\n",
       "    <tr>\n",
       "      <th>0</th>\n",
       "      <td>1000</td>\n",
       "      <td>12</td>\n",
       "      <td>124</td>\n",
       "    </tr>\n",
       "    <tr>\n",
       "      <th>1</th>\n",
       "      <td>1001</td>\n",
       "      <td>8</td>\n",
       "      <td>182</td>\n",
       "    </tr>\n",
       "    <tr>\n",
       "      <th>2</th>\n",
       "      <td>1001</td>\n",
       "      <td>9</td>\n",
       "      <td>315</td>\n",
       "    </tr>\n",
       "    <tr>\n",
       "      <th>3</th>\n",
       "      <td>1001</td>\n",
       "      <td>10</td>\n",
       "      <td>393</td>\n",
       "    </tr>\n",
       "    <tr>\n",
       "      <th>4</th>\n",
       "      <td>1001</td>\n",
       "      <td>11</td>\n",
       "      <td>426</td>\n",
       "    </tr>\n",
       "  </tbody>\n",
       "</table>\n",
       "</div>"
      ],
      "text/plain": [
       "   user_id  month  m_dur\n",
       "0     1000     12    124\n",
       "1     1001      8    182\n",
       "2     1001      9    315\n",
       "3     1001     10    393\n",
       "4     1001     11    426"
      ]
     },
     "metadata": {},
     "output_type": "display_data"
    },
    {
     "name": "stdout",
     "output_type": "stream",
     "text": [
      "\n",
      "<class 'pandas.core.frame.DataFrame'>\n",
      "RangeIndex: 2258 entries, 0 to 2257\n",
      "Data columns (total 3 columns):\n",
      " #   Column   Non-Null Count  Dtype\n",
      "---  ------   --------------  -----\n",
      " 0   user_id  2258 non-null   int64\n",
      " 1   month    2258 non-null   int32\n",
      " 2   m_dur    2258 non-null   int32\n",
      "dtypes: int32(2), int64(1)\n",
      "memory usage: 35.4 KB\n"
     ]
    }
   ],
   "source": [
    "# Calculate the amount of minutes spent by each user per month. Save the result.\n",
    "\n",
    "# call month is already added. Now group the data by user_id and call_month then add the duration  per month\n",
    "dur_per_user_m = calls.groupby(['user_id', 'month']).agg(\n",
    "    m_dur=('duration', 'sum')).reset_index()\n",
    "# print to see the result\n",
    "display(dur_per_user_m.head())\n",
    "print()\n",
    "dur_per_user_m.info()"
   ]
  },
  {
   "cell_type": "code",
   "execution_count": 21,
   "metadata": {},
   "outputs": [
    {
     "data": {
      "text/html": [
       "<div>\n",
       "<style scoped>\n",
       "    .dataframe tbody tr th:only-of-type {\n",
       "        vertical-align: middle;\n",
       "    }\n",
       "\n",
       "    .dataframe tbody tr th {\n",
       "        vertical-align: top;\n",
       "    }\n",
       "\n",
       "    .dataframe thead th {\n",
       "        text-align: right;\n",
       "    }\n",
       "</style>\n",
       "<table border=\"1\" class=\"dataframe\">\n",
       "  <thead>\n",
       "    <tr style=\"text-align: right;\">\n",
       "      <th></th>\n",
       "      <th>user_id</th>\n",
       "      <th>month</th>\n",
       "      <th>num_message</th>\n",
       "    </tr>\n",
       "  </thead>\n",
       "  <tbody>\n",
       "    <tr>\n",
       "      <th>0</th>\n",
       "      <td>1000</td>\n",
       "      <td>12</td>\n",
       "      <td>11</td>\n",
       "    </tr>\n",
       "    <tr>\n",
       "      <th>1</th>\n",
       "      <td>1001</td>\n",
       "      <td>8</td>\n",
       "      <td>30</td>\n",
       "    </tr>\n",
       "    <tr>\n",
       "      <th>2</th>\n",
       "      <td>1001</td>\n",
       "      <td>9</td>\n",
       "      <td>44</td>\n",
       "    </tr>\n",
       "    <tr>\n",
       "      <th>3</th>\n",
       "      <td>1001</td>\n",
       "      <td>10</td>\n",
       "      <td>53</td>\n",
       "    </tr>\n",
       "    <tr>\n",
       "      <th>4</th>\n",
       "      <td>1001</td>\n",
       "      <td>11</td>\n",
       "      <td>36</td>\n",
       "    </tr>\n",
       "  </tbody>\n",
       "</table>\n",
       "</div>"
      ],
      "text/plain": [
       "   user_id  month  num_message\n",
       "0     1000     12           11\n",
       "1     1001      8           30\n",
       "2     1001      9           44\n",
       "3     1001     10           53\n",
       "4     1001     11           36"
      ]
     },
     "metadata": {},
     "output_type": "display_data"
    },
    {
     "name": "stdout",
     "output_type": "stream",
     "text": [
      "\n",
      "<class 'pandas.core.frame.DataFrame'>\n",
      "RangeIndex: 1806 entries, 0 to 1805\n",
      "Data columns (total 3 columns):\n",
      " #   Column       Non-Null Count  Dtype\n",
      "---  ------       --------------  -----\n",
      " 0   user_id      1806 non-null   int64\n",
      " 1   month        1806 non-null   int32\n",
      " 2   num_message  1806 non-null   int64\n",
      "dtypes: int32(1), int64(2)\n",
      "memory usage: 35.4 KB\n"
     ]
    }
   ],
   "source": [
    "# Calculate the number of messages sent by each user per month. Save the result.\n",
    "\n",
    "# extract month from message_date and add it to column message_month\n",
    "messages['month'] = messages['message_date'].dt.month\n",
    "# count the number of ids for number of messages. Group the data by 'user_id' and 'message_month'\n",
    "messages_per_user_m = messages.groupby(['user_id', 'month']).agg(\n",
    "    num_message=('id', 'count')).reset_index()\n",
    "# print to see the result\n",
    "display(messages_per_user_m.head())\n",
    "print()\n",
    "messages_per_user_m.info()"
   ]
  },
  {
   "cell_type": "code",
   "execution_count": 22,
   "metadata": {},
   "outputs": [
    {
     "data": {
      "text/html": [
       "<div>\n",
       "<style scoped>\n",
       "    .dataframe tbody tr th:only-of-type {\n",
       "        vertical-align: middle;\n",
       "    }\n",
       "\n",
       "    .dataframe tbody tr th {\n",
       "        vertical-align: top;\n",
       "    }\n",
       "\n",
       "    .dataframe thead th {\n",
       "        text-align: right;\n",
       "    }\n",
       "</style>\n",
       "<table border=\"1\" class=\"dataframe\">\n",
       "  <thead>\n",
       "    <tr style=\"text-align: right;\">\n",
       "      <th></th>\n",
       "      <th>user_id</th>\n",
       "      <th>month</th>\n",
       "      <th>session_m</th>\n",
       "    </tr>\n",
       "  </thead>\n",
       "  <tbody>\n",
       "    <tr>\n",
       "      <th>0</th>\n",
       "      <td>1000</td>\n",
       "      <td>12</td>\n",
       "      <td>1901.47</td>\n",
       "    </tr>\n",
       "    <tr>\n",
       "      <th>1</th>\n",
       "      <td>1001</td>\n",
       "      <td>8</td>\n",
       "      <td>6919.15</td>\n",
       "    </tr>\n",
       "    <tr>\n",
       "      <th>2</th>\n",
       "      <td>1001</td>\n",
       "      <td>9</td>\n",
       "      <td>13314.82</td>\n",
       "    </tr>\n",
       "    <tr>\n",
       "      <th>3</th>\n",
       "      <td>1001</td>\n",
       "      <td>10</td>\n",
       "      <td>22330.49</td>\n",
       "    </tr>\n",
       "    <tr>\n",
       "      <th>4</th>\n",
       "      <td>1001</td>\n",
       "      <td>11</td>\n",
       "      <td>18504.30</td>\n",
       "    </tr>\n",
       "  </tbody>\n",
       "</table>\n",
       "</div>"
      ],
      "text/plain": [
       "   user_id  month  session_m\n",
       "0     1000     12    1901.47\n",
       "1     1001      8    6919.15\n",
       "2     1001      9   13314.82\n",
       "3     1001     10   22330.49\n",
       "4     1001     11   18504.30"
      ]
     },
     "metadata": {},
     "output_type": "display_data"
    },
    {
     "name": "stdout",
     "output_type": "stream",
     "text": [
      "\n",
      "<class 'pandas.core.frame.DataFrame'>\n",
      "RangeIndex: 2277 entries, 0 to 2276\n",
      "Data columns (total 3 columns):\n",
      " #   Column     Non-Null Count  Dtype  \n",
      "---  ------     --------------  -----  \n",
      " 0   user_id    2277 non-null   int64  \n",
      " 1   month      2277 non-null   int32  \n",
      " 2   session_m  2277 non-null   float64\n",
      "dtypes: float64(1), int32(1), int64(1)\n",
      "memory usage: 44.6 KB\n"
     ]
    }
   ],
   "source": [
    "# Calculate the volume of internet traffic used by each user per month. Save the result.\n",
    "\n",
    "# extract month from session_date and add it to column session_month\n",
    "internet['month'] = internet['session_date'].dt.month\n",
    "# Group the data by 'user_id' and 'session_month', then sum the mb_used\n",
    "session_per_user_m = internet.groupby(['user_id', 'month']).agg(\n",
    "    session_m=('mb_used', 'sum')).reset_index()\n",
    "# print to see the result\n",
    "display(session_per_user_m.head())\n",
    "print()\n",
    "session_per_user_m.info()"
   ]
  },
  {
   "cell_type": "code",
   "execution_count": 23,
   "metadata": {},
   "outputs": [
    {
     "data": {
      "text/html": [
       "<div>\n",
       "<style scoped>\n",
       "    .dataframe tbody tr th:only-of-type {\n",
       "        vertical-align: middle;\n",
       "    }\n",
       "\n",
       "    .dataframe tbody tr th {\n",
       "        vertical-align: top;\n",
       "    }\n",
       "\n",
       "    .dataframe thead th {\n",
       "        text-align: right;\n",
       "    }\n",
       "</style>\n",
       "<table border=\"1\" class=\"dataframe\">\n",
       "  <thead>\n",
       "    <tr style=\"text-align: right;\">\n",
       "      <th></th>\n",
       "      <th>user_id</th>\n",
       "      <th>month</th>\n",
       "      <th>num_calls</th>\n",
       "      <th>m_dur</th>\n",
       "      <th>num_message</th>\n",
       "      <th>session_m</th>\n",
       "    </tr>\n",
       "  </thead>\n",
       "  <tbody>\n",
       "    <tr>\n",
       "      <th>0</th>\n",
       "      <td>1000</td>\n",
       "      <td>12</td>\n",
       "      <td>16.0</td>\n",
       "      <td>124.0</td>\n",
       "      <td>11.0</td>\n",
       "      <td>2</td>\n",
       "    </tr>\n",
       "    <tr>\n",
       "      <th>1</th>\n",
       "      <td>1001</td>\n",
       "      <td>8</td>\n",
       "      <td>27.0</td>\n",
       "      <td>182.0</td>\n",
       "      <td>30.0</td>\n",
       "      <td>7</td>\n",
       "    </tr>\n",
       "    <tr>\n",
       "      <th>2</th>\n",
       "      <td>1001</td>\n",
       "      <td>9</td>\n",
       "      <td>49.0</td>\n",
       "      <td>315.0</td>\n",
       "      <td>44.0</td>\n",
       "      <td>14</td>\n",
       "    </tr>\n",
       "    <tr>\n",
       "      <th>3</th>\n",
       "      <td>1001</td>\n",
       "      <td>10</td>\n",
       "      <td>65.0</td>\n",
       "      <td>393.0</td>\n",
       "      <td>53.0</td>\n",
       "      <td>22</td>\n",
       "    </tr>\n",
       "    <tr>\n",
       "      <th>4</th>\n",
       "      <td>1001</td>\n",
       "      <td>11</td>\n",
       "      <td>64.0</td>\n",
       "      <td>426.0</td>\n",
       "      <td>36.0</td>\n",
       "      <td>19</td>\n",
       "    </tr>\n",
       "  </tbody>\n",
       "</table>\n",
       "</div>"
      ],
      "text/plain": [
       "   user_id  month  num_calls  m_dur  num_message  session_m\n",
       "0     1000     12       16.0  124.0         11.0          2\n",
       "1     1001      8       27.0  182.0         30.0          7\n",
       "2     1001      9       49.0  315.0         44.0         14\n",
       "3     1001     10       65.0  393.0         53.0         22\n",
       "4     1001     11       64.0  426.0         36.0         19"
      ]
     },
     "metadata": {},
     "output_type": "display_data"
    }
   ],
   "source": [
    "# Merge the data for calls, minutes, messages, internet based on user_id and month\n",
    "\n",
    "# merge calls_per_user_m and dur_per_user_m\n",
    "monthly_use_per_user = calls_per_user_m.merge(\n",
    "    dur_per_user_m, on=['user_id', 'month'], how='outer')\n",
    "\n",
    "# merge monthly_use_per_user and messages_per_user_m\n",
    "monthly_use_per_user = monthly_use_per_user.merge(\n",
    "    messages_per_user_m, on=['user_id', 'month'], how='outer')\n",
    "\n",
    "# merge monthly_use_per_user and session_per_user_m and\n",
    "\n",
    "monthly_use_per_user = monthly_use_per_user.merge(\n",
    "    session_per_user_m, on=['user_id', 'month'], how='outer')\n",
    "\n",
    "# change the session_m from MB to GB round up to the whole number\n",
    "monthly_use_per_user['session_m'] = np.ceil(\n",
    "    monthly_use_per_user['session_m']/1024)\n",
    "\n",
    "# change session_m to integer in order to prevent any calculation errors in the revenue stage\n",
    "monthly_use_per_user['session_m'].fillna(0, inplace=True)\n",
    "monthly_use_per_user['session_m'] = monthly_use_per_user['session_m'].astype(\n",
    "    int)\n",
    "\n",
    "display(monthly_use_per_user.head())"
   ]
  },
  {
   "cell_type": "code",
   "execution_count": 24,
   "metadata": {},
   "outputs": [
    {
     "data": {
      "text/html": [
       "<div>\n",
       "<style scoped>\n",
       "    .dataframe tbody tr th:only-of-type {\n",
       "        vertical-align: middle;\n",
       "    }\n",
       "\n",
       "    .dataframe tbody tr th {\n",
       "        vertical-align: top;\n",
       "    }\n",
       "\n",
       "    .dataframe thead th {\n",
       "        text-align: right;\n",
       "    }\n",
       "</style>\n",
       "<table border=\"1\" class=\"dataframe\">\n",
       "  <thead>\n",
       "    <tr style=\"text-align: right;\">\n",
       "      <th></th>\n",
       "      <th>user_id</th>\n",
       "      <th>month</th>\n",
       "      <th>num_calls</th>\n",
       "      <th>m_dur</th>\n",
       "      <th>num_message</th>\n",
       "      <th>session_m</th>\n",
       "      <th>plan</th>\n",
       "    </tr>\n",
       "  </thead>\n",
       "  <tbody>\n",
       "    <tr>\n",
       "      <th>0</th>\n",
       "      <td>1000</td>\n",
       "      <td>12</td>\n",
       "      <td>16</td>\n",
       "      <td>124</td>\n",
       "      <td>11</td>\n",
       "      <td>2</td>\n",
       "      <td>ultimate</td>\n",
       "    </tr>\n",
       "    <tr>\n",
       "      <th>1</th>\n",
       "      <td>1001</td>\n",
       "      <td>8</td>\n",
       "      <td>27</td>\n",
       "      <td>182</td>\n",
       "      <td>30</td>\n",
       "      <td>7</td>\n",
       "      <td>surf</td>\n",
       "    </tr>\n",
       "    <tr>\n",
       "      <th>2</th>\n",
       "      <td>1001</td>\n",
       "      <td>9</td>\n",
       "      <td>49</td>\n",
       "      <td>315</td>\n",
       "      <td>44</td>\n",
       "      <td>14</td>\n",
       "      <td>surf</td>\n",
       "    </tr>\n",
       "    <tr>\n",
       "      <th>3</th>\n",
       "      <td>1001</td>\n",
       "      <td>10</td>\n",
       "      <td>65</td>\n",
       "      <td>393</td>\n",
       "      <td>53</td>\n",
       "      <td>22</td>\n",
       "      <td>surf</td>\n",
       "    </tr>\n",
       "    <tr>\n",
       "      <th>4</th>\n",
       "      <td>1001</td>\n",
       "      <td>11</td>\n",
       "      <td>64</td>\n",
       "      <td>426</td>\n",
       "      <td>36</td>\n",
       "      <td>19</td>\n",
       "      <td>surf</td>\n",
       "    </tr>\n",
       "  </tbody>\n",
       "</table>\n",
       "</div>"
      ],
      "text/plain": [
       "   user_id  month  num_calls  m_dur  num_message  session_m      plan\n",
       "0     1000     12         16    124           11          2  ultimate\n",
       "1     1001      8         27    182           30          7      surf\n",
       "2     1001      9         49    315           44         14      surf\n",
       "3     1001     10         65    393           53         22      surf\n",
       "4     1001     11         64    426           36         19      surf"
      ]
     },
     "metadata": {},
     "output_type": "display_data"
    },
    {
     "name": "stdout",
     "output_type": "stream",
     "text": [
      "<class 'pandas.core.frame.DataFrame'>\n",
      "RangeIndex: 2293 entries, 0 to 2292\n",
      "Data columns (total 7 columns):\n",
      " #   Column       Non-Null Count  Dtype \n",
      "---  ------       --------------  ----- \n",
      " 0   user_id      2293 non-null   int64 \n",
      " 1   month        2293 non-null   Int64 \n",
      " 2   num_calls    2258 non-null   Int64 \n",
      " 3   m_dur        2258 non-null   Int64 \n",
      " 4   num_message  1806 non-null   Int64 \n",
      " 5   session_m    2293 non-null   int32 \n",
      " 6   plan         2293 non-null   object\n",
      "dtypes: Int64(4), int32(1), int64(1), object(1)\n",
      "memory usage: 125.5+ KB\n"
     ]
    }
   ],
   "source": [
    "# Add the plan information\n",
    "\n",
    "# merge monthly_use_per_user and session_per_user_m\n",
    "monthly_use_per_user = monthly_use_per_user.merge(\n",
    "    users[['user_id', 'plan']], on='user_id', how='left')\n",
    "\n",
    "# change month, num_calls, m_dur_,num_messge columns to integer\n",
    "monthly_use_per_user['month'] = pd.to_numeric(\n",
    "    monthly_use_per_user['month'], errors='coerce').astype('Int64')\n",
    "monthly_use_per_user['num_calls'] = pd.to_numeric(\n",
    "    monthly_use_per_user['num_calls'], errors='coerce').astype('Int64')\n",
    "monthly_use_per_user['m_dur'] = pd.to_numeric(\n",
    "    monthly_use_per_user['m_dur'], errors='coerce').astype('Int64')\n",
    "monthly_use_per_user['num_message'] = pd.to_numeric(\n",
    "    monthly_use_per_user['num_message'], errors='coerce').astype('Int64')\n",
    "\n",
    "display(monthly_use_per_user.head())\n",
    "monthly_use_per_user.info()"
   ]
  },
  {
   "cell_type": "code",
   "execution_count": 25,
   "metadata": {},
   "outputs": [
    {
     "data": {
      "text/html": [
       "<div>\n",
       "<style scoped>\n",
       "    .dataframe tbody tr th:only-of-type {\n",
       "        vertical-align: middle;\n",
       "    }\n",
       "\n",
       "    .dataframe tbody tr th {\n",
       "        vertical-align: top;\n",
       "    }\n",
       "\n",
       "    .dataframe thead th {\n",
       "        text-align: right;\n",
       "    }\n",
       "</style>\n",
       "<table border=\"1\" class=\"dataframe\">\n",
       "  <thead>\n",
       "    <tr style=\"text-align: right;\">\n",
       "      <th></th>\n",
       "      <th>user_id</th>\n",
       "      <th>month</th>\n",
       "      <th>num_calls</th>\n",
       "      <th>m_dur</th>\n",
       "      <th>num_message</th>\n",
       "      <th>session_m</th>\n",
       "      <th>plan</th>\n",
       "      <th>revenue</th>\n",
       "    </tr>\n",
       "  </thead>\n",
       "  <tbody>\n",
       "    <tr>\n",
       "      <th>0</th>\n",
       "      <td>1000</td>\n",
       "      <td>12</td>\n",
       "      <td>16</td>\n",
       "      <td>124</td>\n",
       "      <td>11</td>\n",
       "      <td>2</td>\n",
       "      <td>ultimate</td>\n",
       "      <td>70.00</td>\n",
       "    </tr>\n",
       "    <tr>\n",
       "      <th>1</th>\n",
       "      <td>1001</td>\n",
       "      <td>8</td>\n",
       "      <td>27</td>\n",
       "      <td>182</td>\n",
       "      <td>30</td>\n",
       "      <td>7</td>\n",
       "      <td>surf</td>\n",
       "      <td>20.00</td>\n",
       "    </tr>\n",
       "    <tr>\n",
       "      <th>2</th>\n",
       "      <td>1001</td>\n",
       "      <td>9</td>\n",
       "      <td>49</td>\n",
       "      <td>315</td>\n",
       "      <td>44</td>\n",
       "      <td>14</td>\n",
       "      <td>surf</td>\n",
       "      <td>20.00</td>\n",
       "    </tr>\n",
       "    <tr>\n",
       "      <th>3</th>\n",
       "      <td>1001</td>\n",
       "      <td>10</td>\n",
       "      <td>65</td>\n",
       "      <td>393</td>\n",
       "      <td>53</td>\n",
       "      <td>22</td>\n",
       "      <td>surf</td>\n",
       "      <td>90.09</td>\n",
       "    </tr>\n",
       "    <tr>\n",
       "      <th>4</th>\n",
       "      <td>1001</td>\n",
       "      <td>11</td>\n",
       "      <td>64</td>\n",
       "      <td>426</td>\n",
       "      <td>36</td>\n",
       "      <td>19</td>\n",
       "      <td>surf</td>\n",
       "      <td>60.00</td>\n",
       "    </tr>\n",
       "    <tr>\n",
       "      <th>...</th>\n",
       "      <td>...</td>\n",
       "      <td>...</td>\n",
       "      <td>...</td>\n",
       "      <td>...</td>\n",
       "      <td>...</td>\n",
       "      <td>...</td>\n",
       "      <td>...</td>\n",
       "      <td>...</td>\n",
       "    </tr>\n",
       "    <tr>\n",
       "      <th>2288</th>\n",
       "      <td>1349</td>\n",
       "      <td>12</td>\n",
       "      <td>0</td>\n",
       "      <td>0</td>\n",
       "      <td>61</td>\n",
       "      <td>13</td>\n",
       "      <td>surf</td>\n",
       "      <td>20.33</td>\n",
       "    </tr>\n",
       "    <tr>\n",
       "      <th>2289</th>\n",
       "      <td>1361</td>\n",
       "      <td>5</td>\n",
       "      <td>0</td>\n",
       "      <td>0</td>\n",
       "      <td>2</td>\n",
       "      <td>2</td>\n",
       "      <td>surf</td>\n",
       "      <td>20.00</td>\n",
       "    </tr>\n",
       "    <tr>\n",
       "      <th>2290</th>\n",
       "      <td>1482</td>\n",
       "      <td>10</td>\n",
       "      <td>0</td>\n",
       "      <td>0</td>\n",
       "      <td>2</td>\n",
       "      <td>0</td>\n",
       "      <td>ultimate</td>\n",
       "      <td>70.00</td>\n",
       "    </tr>\n",
       "    <tr>\n",
       "      <th>2291</th>\n",
       "      <td>1108</td>\n",
       "      <td>12</td>\n",
       "      <td>0</td>\n",
       "      <td>0</td>\n",
       "      <td>0</td>\n",
       "      <td>1</td>\n",
       "      <td>ultimate</td>\n",
       "      <td>70.00</td>\n",
       "    </tr>\n",
       "    <tr>\n",
       "      <th>2292</th>\n",
       "      <td>1311</td>\n",
       "      <td>6</td>\n",
       "      <td>0</td>\n",
       "      <td>0</td>\n",
       "      <td>0</td>\n",
       "      <td>2</td>\n",
       "      <td>ultimate</td>\n",
       "      <td>70.00</td>\n",
       "    </tr>\n",
       "  </tbody>\n",
       "</table>\n",
       "<p>2293 rows × 8 columns</p>\n",
       "</div>"
      ],
      "text/plain": [
       "      user_id  month  num_calls  m_dur  num_message  session_m      plan  \\\n",
       "0        1000     12         16    124           11          2  ultimate   \n",
       "1        1001      8         27    182           30          7      surf   \n",
       "2        1001      9         49    315           44         14      surf   \n",
       "3        1001     10         65    393           53         22      surf   \n",
       "4        1001     11         64    426           36         19      surf   \n",
       "...       ...    ...        ...    ...          ...        ...       ...   \n",
       "2288     1349     12          0      0           61         13      surf   \n",
       "2289     1361      5          0      0            2          2      surf   \n",
       "2290     1482     10          0      0            2          0  ultimate   \n",
       "2291     1108     12          0      0            0          1  ultimate   \n",
       "2292     1311      6          0      0            0          2  ultimate   \n",
       "\n",
       "      revenue  \n",
       "0       70.00  \n",
       "1       20.00  \n",
       "2       20.00  \n",
       "3       90.09  \n",
       "4       60.00  \n",
       "...       ...  \n",
       "2288    20.33  \n",
       "2289    20.00  \n",
       "2290    70.00  \n",
       "2291    70.00  \n",
       "2292    70.00  \n",
       "\n",
       "[2293 rows x 8 columns]"
      ]
     },
     "metadata": {},
     "output_type": "display_data"
    }
   ],
   "source": [
    "# Calculate the monthly revenue for each user\n",
    "\n",
    "# fill na values with 0\n",
    "monthly_use_per_user = monthly_use_per_user.copy().fillna(0)\n",
    "\n",
    "\n",
    "def func(df):\n",
    "\n",
    "    # just to make it more convenient and to be able to get data with loc + plan_name, I set plan_name as index:\n",
    "    df_plans = plans.set_index('plan_name')\n",
    "\n",
    "    revenue = df_plans.loc[df.plan]['usd_monthly_pay']\n",
    "\n",
    "    revenue += (max(0, (df['m_dur'] - df_plans.loc[df.plan]['minutes_included']) * df_plans.loc[df.plan]['usd_per_minute'])\n",
    "                + max(0, (df['num_message'] - df_plans.loc[df.plan]\n",
    "                      ['messages_included']) * df_plans.loc[df.plan]['usd_per_message'])\n",
    "                + max(0, (np.ceil(df['session_m']) - df_plans.loc[df.plan]['mb_per_month_included']/1024) * df_plans.loc[df.plan]['usd_per_gb']))\n",
    "\n",
    "    return revenue\n",
    "\n",
    "\n",
    "monthly_use_per_user['revenue'] = monthly_use_per_user.apply(func, axis=1)\n",
    "\n",
    "display(monthly_use_per_user)"
   ]
  },
  {
   "cell_type": "markdown",
   "metadata": {},
   "source": [
    "## Study user behaviour"
   ]
  },
  {
   "cell_type": "markdown",
   "metadata": {},
   "source": [
    "### Calls"
   ]
  },
  {
   "cell_type": "code",
   "execution_count": 26,
   "metadata": {},
   "outputs": [
    {
     "data": {
      "image/png": "[encoded data removed]",
      "text/plain": [
       "<Figure size 1200x600 with 1 Axes>"
      ]
     },
     "metadata": {},
     "output_type": "display_data"
    }
   ],
   "source": [
    "# Compare average duration of calls per each plan per each distinct month. Plot a bar plat to visualize it.\n",
    "\n",
    "# Group the monthly_use_per_user by 'plan' and 'month', calculate the mean duration, and reset the index\n",
    "avg_duration_per_plan_month = monthly_use_per_user.groupby(\n",
    "    ['plan', 'month'])['m_dur'].mean().reset_index()\n",
    "\n",
    "# Pivot the table for easier plotting\n",
    "avg_duration_m_pivot = avg_duration_per_plan_month.pivot(\n",
    "    index='month', columns='plan', values='m_dur')\n",
    "\n",
    "# Create the bar plot\n",
    "avg_duration_m_pivot.plot(\n",
    "    kind='bar',\n",
    "    width=0.8,\n",
    "    figsize=(12, 6),\n",
    "    title='Average Duration of Calls per Plan and Month',\n",
    "    xlabel='Month',\n",
    "    ylabel='Average Duration of Calls in minutes',\n",
    "    grid=True)\n",
    "plt.xticks(rotation=0)\n",
    "plt.show()"
   ]
  },
  {
   "cell_type": "code",
   "execution_count": 27,
   "metadata": {},
   "outputs": [
    {
     "data": {
      "image/png": "[encoded data removed]",
      "text/plain": [
       "<Figure size 1200x600 with 1 Axes>"
      ]
     },
     "metadata": {},
     "output_type": "display_data"
    },
    {
     "name": "stdout",
     "output_type": "stream",
     "text": [
      "total call duration used by Surf plan users: 674423\n",
      "total call duration used by Ultimate plan users: 309924\n"
     ]
    }
   ],
   "source": [
    "# Compare the number of minutes users of each plan require each month. Plot a histogram.\n",
    "\n",
    "# Create and save how much surf plan users used per month\n",
    "total_surf_used = monthly_use_per_user[monthly_use_per_user['plan']\n",
    "                                       == 'surf']['m_dur']\n",
    "total_surf_used = total_surf_used.reset_index(drop=True)\n",
    "\n",
    "total_surf_used.plot(kind='hist',\n",
    "                     figsize=(12, 6),\n",
    "                     title='Minutes used per Month',\n",
    "                     alpha=0.7,\n",
    "                     grid=True,\n",
    "                     label='Surf')\n",
    "\n",
    "# Create and save how much ultimatee plan users used per month\n",
    "total_ult_used = pd.DataFrame()\n",
    "total_ult_used = monthly_use_per_user[monthly_use_per_user['plan']\n",
    "                                      == 'ultimate']['m_dur']\n",
    "total_ult_used = total_ult_used.reset_index(drop=True)\n",
    "\n",
    "total_ult_used.plot(kind='hist',\n",
    "                    figsize=(12, 6),\n",
    "                    title='Minutes used per Month',\n",
    "                    alpha=0.7,\n",
    "                    grid=True,\n",
    "                    label='Ultimate')\n",
    "bin_edges = np.arange(0, 1700, 200)\n",
    "plt.title('Minutes used per Month')\n",
    "plt.xlabel('Minutes')\n",
    "plt.ylabel('Number of Customers')\n",
    "plt.legend(loc='upper right')\n",
    "plt.show()\n",
    "\n",
    "print('total call duration used by Surf plan users:', total_surf_used.sum())\n",
    "print('total call duration used by Ultimate plan users:', total_ult_used.sum())"
   ]
  },
  {
   "cell_type": "code",
   "execution_count": 28,
   "metadata": {},
   "outputs": [
    {
     "data": {
      "text/html": [
       "<div>\n",
       "<style scoped>\n",
       "    .dataframe tbody tr th:only-of-type {\n",
       "        vertical-align: middle;\n",
       "    }\n",
       "\n",
       "    .dataframe tbody tr th {\n",
       "        vertical-align: top;\n",
       "    }\n",
       "\n",
       "    .dataframe thead tr th {\n",
       "        text-align: left;\n",
       "    }\n",
       "\n",
       "    .dataframe thead tr:last-of-type th {\n",
       "        text-align: right;\n",
       "    }\n",
       "</style>\n",
       "<table border=\"1\" class=\"dataframe\">\n",
       "  <thead>\n",
       "    <tr>\n",
       "      <th></th>\n",
       "      <th colspan=\"3\" halign=\"left\">mean</th>\n",
       "      <th colspan=\"3\" halign=\"left\">std</th>\n",
       "      <th colspan=\"3\" halign=\"left\">var</th>\n",
       "    </tr>\n",
       "    <tr>\n",
       "      <th></th>\n",
       "      <th>m_dur</th>\n",
       "      <th>num_message</th>\n",
       "      <th>session_m</th>\n",
       "      <th>m_dur</th>\n",
       "      <th>num_message</th>\n",
       "      <th>session_m</th>\n",
       "      <th>m_dur</th>\n",
       "      <th>num_message</th>\n",
       "      <th>session_m</th>\n",
       "    </tr>\n",
       "    <tr>\n",
       "      <th>plan</th>\n",
       "      <th></th>\n",
       "      <th></th>\n",
       "      <th></th>\n",
       "      <th></th>\n",
       "      <th></th>\n",
       "      <th></th>\n",
       "      <th></th>\n",
       "      <th></th>\n",
       "      <th></th>\n",
       "    </tr>\n",
       "  </thead>\n",
       "  <tbody>\n",
       "    <tr>\n",
       "      <th>surf</th>\n",
       "      <td>428.749523</td>\n",
       "      <td>31.159568</td>\n",
       "      <td>16.670693</td>\n",
       "      <td>234.45315</td>\n",
       "      <td>33.566717</td>\n",
       "      <td>7.847522</td>\n",
       "      <td>54968.279461</td>\n",
       "      <td>1126.724522</td>\n",
       "      <td>61.58360</td>\n",
       "    </tr>\n",
       "    <tr>\n",
       "      <th>ultimate</th>\n",
       "      <td>430.45</td>\n",
       "      <td>37.551389</td>\n",
       "      <td>17.306944</td>\n",
       "      <td>240.508762</td>\n",
       "      <td>34.767179</td>\n",
       "      <td>7.670108</td>\n",
       "      <td>57844.464812</td>\n",
       "      <td>1208.756744</td>\n",
       "      <td>58.83055</td>\n",
       "    </tr>\n",
       "  </tbody>\n",
       "</table>\n",
       "</div>"
      ],
      "text/plain": [
       "                mean                                std                        \\\n",
       "               m_dur num_message  session_m       m_dur num_message session_m   \n",
       "plan                                                                            \n",
       "surf      428.749523   31.159568  16.670693   234.45315   33.566717  7.847522   \n",
       "ultimate      430.45   37.551389  17.306944  240.508762   34.767179  7.670108   \n",
       "\n",
       "                   var                         \n",
       "                 m_dur  num_message session_m  \n",
       "plan                                           \n",
       "surf      54968.279461  1126.724522  61.58360  \n",
       "ultimate  57844.464812  1208.756744  58.83055  "
      ]
     },
     "execution_count": 28,
     "metadata": {},
     "output_type": "execute_result"
    }
   ],
   "source": [
    "# Calculate the mean and the variance of the monthly call duration\n",
    "\n",
    "monthly_use_per_user.pivot_table(index='plan', values=['m_dur', 'num_message', 'session_m'],\n",
    "                                 aggfunc=['mean', 'std', 'var'])"
   ]
  },
  {
   "cell_type": "code",
   "execution_count": 29,
   "metadata": {},
   "outputs": [
    {
     "data": {
      "image/png": "[encoded data removed]",
      "text/plain": [
       "<Figure size 1200x600 with 1 Axes>"
      ]
     },
     "metadata": {},
     "output_type": "display_data"
    }
   ],
   "source": [
    "# Plot a boxplot to visualize the distribution of the monthly call duration\n",
    "\n",
    "# Filter data for surf and ultimate plans\n",
    "surf_data = monthly_use_per_user[monthly_use_per_user['plan']\n",
    "                                 == 'surf']['m_dur']\n",
    "ultimate_data = monthly_use_per_user[monthly_use_per_user['plan']\n",
    "                                     == 'ultimate']['m_dur']\n",
    "\n",
    "# Create a list of data to plot\n",
    "data_to_plot = [surf_data.dropna(), ultimate_data.dropna()]\n",
    "\n",
    "# Create a boxplot\n",
    "plt.figure(figsize=(12, 6))\n",
    "plt.boxplot(data_to_plot, labels=['Surf', 'Ultimate'])\n",
    "plt.title('Monthly Call Duration Distribution')\n",
    "plt.xlabel('Plan')\n",
    "plt.ylabel('Call Duration (minutes)')\n",
    "plt.show()"
   ]
  },
  {
   "cell_type": "markdown",
   "metadata": {},
   "source": [
    " <div class=\"alert alert-info\"> \n",
    "<li>There is no significant difference between the Surf and Ultimate plan user behavior when it comes to how much they call throughout the months except for in Feburary. In Feburary, Ultimate plan users have used over 450 minutes where as Surf plan users used approximately 300 minutes on average.\n",
    "<li>When total minutes are compared between the two plans, there are significantly more minutes used by the Surf plan users due to the fact that there are more Surf plan users.\n",
    "<li>Median and interquartile range of call duration between the two plan is similar"
   ]
  },
  {
   "cell_type": "markdown",
   "metadata": {},
   "source": [
    " "
   ]
  },
  {
   "cell_type": "markdown",
   "metadata": {},
   "source": [
    "### Messages"
   ]
  },
  {
   "cell_type": "code",
   "execution_count": 30,
   "metadata": {},
   "outputs": [
    {
     "data": {
      "image/png": "[encoded data removed]",
      "text/plain": [
       "<Figure size 1200x600 with 1 Axes>"
      ]
     },
     "metadata": {},
     "output_type": "display_data"
    }
   ],
   "source": [
    "# Compare the number of messages users of each plan tend to send each month\n",
    "\n",
    "# Group the monthly_use_per_user by 'plan' and 'month', calculate the mean of number of messages, and reset the index\n",
    "avg_msg_per_plan_month = monthly_use_per_user.groupby(\n",
    "    ['plan', 'month'])['num_message'].mean().reset_index()\n",
    "\n",
    "# Pivot the table for easier plotting\n",
    "avg_msg_per_plan_month = avg_msg_per_plan_month.pivot(\n",
    "    index='month', columns='plan', values='num_message')\n",
    "\n",
    "# Create the bar plot\n",
    "avg_msg_per_plan_month.plot(\n",
    "    kind='bar',\n",
    "    width=0.8,\n",
    "    figsize=(12, 6),\n",
    "    title='Average Messages per Plan and Month',\n",
    "    xlabel='Month',\n",
    "    ylabel='Average Number of Messages',\n",
    "    grid=True)\n",
    "plt.xticks(rotation=0)\n",
    "plt.show()"
   ]
  },
  {
   "cell_type": "code",
   "execution_count": 31,
   "metadata": {},
   "outputs": [
    {
     "data": {
      "image/png": "[encoded data removed]",
      "text/plain": [
       "<Figure size 1200x600 with 1 Axes>"
      ]
     },
     "metadata": {},
     "output_type": "display_data"
    },
    {
     "name": "stdout",
     "output_type": "stream",
     "text": [
      "total messages used by Surf plan users: 49014\n",
      "total messages used by Ultimate plan users: 27037\n"
     ]
    }
   ],
   "source": [
    "# Compare the number of messages used by users of each plan require each month. Plot a histogram.\n",
    "\n",
    "# Create and save how much surf plan users used per month\n",
    "total_surf_used_msg = monthly_use_per_user[monthly_use_per_user['plan'] == 'surf']\n",
    "\n",
    "total_surf_used_msg['num_message'].plot(kind='hist',\n",
    "                                        figsize=(12, 6),\n",
    "                                        title='Messages used per Month',\n",
    "                                        alpha=0.7,\n",
    "                                        grid=True,\n",
    "                                        label='Surf')\n",
    "\n",
    "# Create and save how much ultimatee plan users used per month\n",
    "total_ult_used_msg = monthly_use_per_user[monthly_use_per_user['plan'] == 'ultimate']\n",
    "\n",
    "total_ult_used_msg['num_message'].plot(kind='hist',\n",
    "                                       figsize=(12, 6),\n",
    "                                       title='Messages used per Month',\n",
    "                                       alpha=0.7,\n",
    "                                       grid=True,\n",
    "                                       label='Ultimate')\n",
    "bin_edges = np.arange(0, 280, 50)\n",
    "plt.title('Messages used per Month')\n",
    "plt.xlabel('Number of Messages')\n",
    "plt.ylabel('Number of Customers')\n",
    "plt.legend(loc='upper right')\n",
    "plt.show()\n",
    "\n",
    "print('total messages used by Surf plan users:',\n",
    "      total_surf_used_msg['num_message'].sum())\n",
    "print('total messages used by Ultimate plan users:',\n",
    "      total_ult_used_msg['num_message'].sum())"
   ]
  },
  {
   "cell_type": "code",
   "execution_count": 32,
   "metadata": {},
   "outputs": [
    {
     "data": {
      "image/png": "[encoded data removed]",
      "text/plain": [
       "<Figure size 1200x600 with 1 Axes>"
      ]
     },
     "metadata": {},
     "output_type": "display_data"
    }
   ],
   "source": [
    "# Plot a boxplot to visualize the distribution of the monthly messages used\n",
    "\n",
    "# Filter data for surf and ultimate plans\n",
    "surf_data_msg = monthly_use_per_user[monthly_use_per_user['plan']\n",
    "                                     == 'surf']['num_message']\n",
    "ultimate_data_msg = monthly_use_per_user[monthly_use_per_user['plan']\n",
    "                                         == 'ultimate']['num_message']\n",
    "\n",
    "# Create a list of data to plot\n",
    "data_to_plot_msg = [surf_data_msg.dropna(), ultimate_data_msg.dropna()]\n",
    "\n",
    "# Create a boxplot\n",
    "plt.figure(figsize=(12, 6))\n",
    "plt.boxplot(data_to_plot_msg, labels=['Surf', 'Ultimate'])\n",
    "plt.title('Monthly Messages Used Distribution')\n",
    "plt.xlabel('Plan')\n",
    "plt.ylabel('Number of Messages')\n",
    "plt.show()"
   ]
  },
  {
   "cell_type": "code",
   "execution_count": 33,
   "metadata": {},
   "outputs": [
    {
     "data": {
      "text/html": [
       "<div>\n",
       "<style scoped>\n",
       "    .dataframe tbody tr th:only-of-type {\n",
       "        vertical-align: middle;\n",
       "    }\n",
       "\n",
       "    .dataframe tbody tr th {\n",
       "        vertical-align: top;\n",
       "    }\n",
       "\n",
       "    .dataframe thead tr th {\n",
       "        text-align: left;\n",
       "    }\n",
       "\n",
       "    .dataframe thead tr:last-of-type th {\n",
       "        text-align: right;\n",
       "    }\n",
       "</style>\n",
       "<table border=\"1\" class=\"dataframe\">\n",
       "  <thead>\n",
       "    <tr>\n",
       "      <th></th>\n",
       "      <th colspan=\"3\" halign=\"left\">mean</th>\n",
       "      <th colspan=\"3\" halign=\"left\">std</th>\n",
       "      <th colspan=\"3\" halign=\"left\">var</th>\n",
       "    </tr>\n",
       "    <tr>\n",
       "      <th></th>\n",
       "      <th>m_dur</th>\n",
       "      <th>num_message</th>\n",
       "      <th>session_m</th>\n",
       "      <th>m_dur</th>\n",
       "      <th>num_message</th>\n",
       "      <th>session_m</th>\n",
       "      <th>m_dur</th>\n",
       "      <th>num_message</th>\n",
       "      <th>session_m</th>\n",
       "    </tr>\n",
       "    <tr>\n",
       "      <th>plan</th>\n",
       "      <th></th>\n",
       "      <th></th>\n",
       "      <th></th>\n",
       "      <th></th>\n",
       "      <th></th>\n",
       "      <th></th>\n",
       "      <th></th>\n",
       "      <th></th>\n",
       "      <th></th>\n",
       "    </tr>\n",
       "  </thead>\n",
       "  <tbody>\n",
       "    <tr>\n",
       "      <th>surf</th>\n",
       "      <td>428.749523</td>\n",
       "      <td>31.159568</td>\n",
       "      <td>16.670693</td>\n",
       "      <td>234.45315</td>\n",
       "      <td>33.566717</td>\n",
       "      <td>7.847522</td>\n",
       "      <td>54968.279461</td>\n",
       "      <td>1126.724522</td>\n",
       "      <td>61.58360</td>\n",
       "    </tr>\n",
       "    <tr>\n",
       "      <th>ultimate</th>\n",
       "      <td>430.45</td>\n",
       "      <td>37.551389</td>\n",
       "      <td>17.306944</td>\n",
       "      <td>240.508762</td>\n",
       "      <td>34.767179</td>\n",
       "      <td>7.670108</td>\n",
       "      <td>57844.464812</td>\n",
       "      <td>1208.756744</td>\n",
       "      <td>58.83055</td>\n",
       "    </tr>\n",
       "  </tbody>\n",
       "</table>\n",
       "</div>"
      ],
      "text/plain": [
       "                mean                                std                        \\\n",
       "               m_dur num_message  session_m       m_dur num_message session_m   \n",
       "plan                                                                            \n",
       "surf      428.749523   31.159568  16.670693   234.45315   33.566717  7.847522   \n",
       "ultimate      430.45   37.551389  17.306944  240.508762   34.767179  7.670108   \n",
       "\n",
       "                   var                         \n",
       "                 m_dur  num_message session_m  \n",
       "plan                                           \n",
       "surf      54968.279461  1126.724522  61.58360  \n",
       "ultimate  57844.464812  1208.756744  58.83055  "
      ]
     },
     "execution_count": 33,
     "metadata": {},
     "output_type": "execute_result"
    }
   ],
   "source": [
    "# Calculate the mean and the variance of the monthly text usage\n",
    "\n",
    "monthly_use_per_user.pivot_table(index='plan', values=['m_dur', 'num_message', 'session_m'],\n",
    "                                 aggfunc=['mean', 'std', 'var'])"
   ]
  },
  {
   "cell_type": "markdown",
   "metadata": {},
   "source": [
    " <div class=\"alert alert-info\"> \n",
    "    <li>On average, Ultimate plan users text more than Surf plan users\n",
    "    <li>However, message used per month shows that Ultimate plan users vary between 0-200 text messages with most text messages being sent are 100 or less where as Surf plan users' number of text vary between 0-1600 with most text messages being sent are 400-500.\n",
    "    <li>Median and interquartile range of text used are different between two plan holders. Ultimate plan users' mean, interquartile, and maximum is higher than Surf plan users\n",
    "    <li>However, there are a lot of Surf plan users who are outliers who use more than 150 text a month"
   ]
  },
  {
   "cell_type": "markdown",
   "metadata": {},
   "source": [
    "### Internet"
   ]
  },
  {
   "cell_type": "code",
   "execution_count": 34,
   "metadata": {},
   "outputs": [
    {
     "data": {
      "image/png": "[encoded data removed]",
      "text/plain": [
       "<Figure size 1200x600 with 1 Axes>"
      ]
     },
     "metadata": {},
     "output_type": "display_data"
    }
   ],
   "source": [
    "# Compare the amount of internet traffic consumed by users per plan\n",
    "\n",
    "# Group the monthly_use_per_user by 'plan' and 'month', calculate internet usage, and reset the index\n",
    "avg_int_per_plan_month = monthly_use_per_user.groupby(\n",
    "    ['plan', 'month'])['session_m'].mean().reset_index()\n",
    "\n",
    "# Pivot the table for easier plotting\n",
    "avg_int_per_plan_month = avg_int_per_plan_month.pivot(\n",
    "    index='month', columns='plan', values='session_m')\n",
    "\n",
    "# Create the bar plot\n",
    "avg_int_per_plan_month.plot(\n",
    "    kind='bar',\n",
    "    width=0.8,\n",
    "    figsize=(12, 6),\n",
    "    title='Average Internet Used per Plan and Month',\n",
    "    xlabel='Month',\n",
    "    ylabel='Average Number of Internet Used in GB',\n",
    "    grid=True)\n",
    "\n",
    "plt.show()"
   ]
  },
  {
   "cell_type": "code",
   "execution_count": 35,
   "metadata": {},
   "outputs": [
    {
     "data": {
      "image/png": "[encoded data removed]",
      "text/plain": [
       "<Figure size 1200x600 with 1 Axes>"
      ]
     },
     "metadata": {},
     "output_type": "display_data"
    },
    {
     "name": "stdout",
     "output_type": "stream",
     "text": [
      "total internet used by Surf plan users: 26223\n",
      "total internet used by Ultimate plan users: 12461\n"
     ]
    }
   ],
   "source": [
    "# Compare the internet used by users of each plan require each month. Plot a histogram.\n",
    "\n",
    "# Create and save how much surf plan users used per month\n",
    "total_surf_used_int = monthly_use_per_user[monthly_use_per_user['plan']\n",
    "                                           == 'surf']['session_m']\n",
    "total_surf_used_int = total_surf_used_int.reset_index(drop=True)\n",
    "\n",
    "total_surf_used_int.plot(kind='hist',\n",
    "                         figsize=(12, 6),\n",
    "                         title='Internet used per Month',\n",
    "                         alpha=0.7,\n",
    "                         bins=[0, 5, 10, 15, 20, 25, 30, 35, 40,\n",
    "                               45, 50, 55, 60, 65, 70, 75, 80],\n",
    "                         grid=True,\n",
    "                         label='Surf')\n",
    "\n",
    "# Create and save how much ultimatee plan users used per month\n",
    "total_ult_used_int = pd.DataFrame()\n",
    "total_ult_used_int = monthly_use_per_user[monthly_use_per_user['plan']\n",
    "                                          == 'ultimate']['session_m']\n",
    "total_ult_used_int = total_ult_used_int.reset_index(drop=True)\n",
    "\n",
    "total_ult_used_int.plot(kind='hist',\n",
    "                        figsize=(12, 6),\n",
    "                        title='Internet used per Month',\n",
    "                        alpha=0.7,\n",
    "                        bins=[0, 5, 10, 15, 20, 25, 30, 35, 40,\n",
    "                              45, 50, 55, 60, 65, 70, 75, 80],\n",
    "                        grid=True,\n",
    "                        label='Ultimate')\n",
    "bin_edges = np.arange(0, 1400, 100)\n",
    "plt.title('Internet used per Month')\n",
    "plt.xlabel('Internert Usage (GB)')\n",
    "plt.ylabel('Number of Customers')\n",
    "plt.legend(loc='upper right')\n",
    "plt.show()\n",
    "\n",
    "print('total internet used by Surf plan users:', total_surf_used_int.sum())\n",
    "print('total internet used by Ultimate plan users:', total_ult_used_int.sum())"
   ]
  },
  {
   "cell_type": "code",
   "execution_count": 36,
   "metadata": {},
   "outputs": [
    {
     "data": {
      "image/png": "[encoded data removed]",
      "text/plain": [
       "<Figure size 1200x600 with 1 Axes>"
      ]
     },
     "metadata": {},
     "output_type": "display_data"
    }
   ],
   "source": [
    "# Plot a boxplot to visualize the distribution of the monthly internet used\n",
    "\n",
    "# Filter data for surf and ultimate plans\n",
    "surf_data_int = monthly_use_per_user[monthly_use_per_user['plan']\n",
    "                                     == 'surf']['session_m']\n",
    "ultimate_data_int = monthly_use_per_user[monthly_use_per_user['plan']\n",
    "                                         == 'ultimate']['session_m']\n",
    "\n",
    "# Create a list of data to plot\n",
    "data_to_plot_int = [surf_data_int.dropna(), ultimate_data_int.dropna()]\n",
    "\n",
    "# Create a boxplot\n",
    "plt.figure(figsize=(12, 6))\n",
    "plt.boxplot(data_to_plot_int, labels=['Surf', 'Ultimate'])\n",
    "plt.title('Monthly Internet Used Distribution')\n",
    "plt.xlabel('Plan')\n",
    "plt.ylabel('Internet Usage in GB')\n",
    "plt.show()"
   ]
  },
  {
   "cell_type": "code",
   "execution_count": 37,
   "metadata": {},
   "outputs": [
    {
     "name": "stdout",
     "output_type": "stream",
     "text": [
      "Average internet usage of surf plan:  16.670692943420217\n",
      "Variance internet usage of surf plan:  61.544449424470294\n",
      "Internet usage standard deviation of surf plan customers: 7.845027050588818\n",
      "\n",
      "Average internet usage of ultimate plan:  17.306944444444444\n",
      "Variance internet usageof ultimate plan:  58.748840663580175\n",
      "Internet usage standard deviation of ultimate plan customers: 7.664779231235572\n"
     ]
    }
   ],
   "source": [
    "# Calculate the mean and the variance of the monthly internet usage\n",
    "\n",
    "# mean of surf montly internet usage\n",
    "avg_surf_int = monthly_use_per_user[monthly_use_per_user['plan']\n",
    "                                    == 'surf']['session_m'].mean()\n",
    "# variance of surf monthly internet usage\n",
    "var_surf_int = np.var(\n",
    "    monthly_use_per_user[monthly_use_per_user['plan'] == 'surf']['session_m'])\n",
    "# standard deviation of monthly internet usage\n",
    "std_surf_int = math.sqrt(var_surf_int)\n",
    "\n",
    "print(\"Average internet usage of surf plan: \", avg_surf_int)\n",
    "print(\"Variance internet usage of surf plan: \", var_surf_int)\n",
    "print(\"Internet usage standard deviation of surf plan customers:\", std_surf_int)\n",
    "print()\n",
    "\n",
    "# mean of ultimate montly internet usage\n",
    "avg_ult_int = monthly_use_per_user[monthly_use_per_user['plan']\n",
    "                                   == 'ultimate']['session_m'].mean()\n",
    "# variance of ultimate monthly internet usage\n",
    "var_ult_int = np.var(\n",
    "    monthly_use_per_user[monthly_use_per_user['plan'] == 'ultimate']['session_m'])\n",
    "# standard deviation of monthly internet usage\n",
    "std_ult_int = math.sqrt(var_ult_int)\n",
    "\n",
    "print(\"Average internet usage of ultimate plan: \", avg_ult_int)\n",
    "print(\"Variance internet usageof ultimate plan: \", var_ult_int)\n",
    "print(\"Internet usage standard deviation of ultimate plan customers:\", std_ult_int)"
   ]
  },
  {
   "cell_type": "markdown",
   "metadata": {},
   "source": [
    "<div class=\"alert alert-info\">\n",
    "    <li> An average Ultimate plan users internet usage is similar to that of a Surf plan user or higher\n",
    "    <li> However, the absolute number of internet usage between two plan users are compared, Surf plan uses more internet\n",
    "    <li>Median,interquartile, maximum range of internet usage similar between two plan holders\n",
    "    <li>However, there are a lot of Surf plan users who are outliers who use more than 35GB in a month"
   ]
  },
  {
   "cell_type": "markdown",
   "metadata": {},
   "source": [
    " "
   ]
  },
  {
   "cell_type": "markdown",
   "metadata": {},
   "source": [
    "## Revenue"
   ]
  },
  {
   "cell_type": "code",
   "execution_count": 38,
   "metadata": {},
   "outputs": [
    {
     "data": {
      "image/png": "[encoded data removed]",
      "text/plain": [
       "<Figure size 1200x600 with 1 Axes>"
      ]
     },
     "metadata": {},
     "output_type": "display_data"
    }
   ],
   "source": [
    "# Compare average revenue per each plan per each distinct month. Plot a bar plat to visualize it.\n",
    "\n",
    "# Group the monthly_use_per_user by 'plan' and 'month', calculate the mean revenue, and reset the index\n",
    "avg_revenue_per_plan_month = monthly_use_per_user.groupby(\n",
    "    ['plan', 'month'])['revenue'].mean().reset_index()\n",
    "\n",
    "# Pivot the table for easier plotting\n",
    "avg_revenue_m_pivot = avg_revenue_per_plan_month.pivot(\n",
    "    index='month', columns='plan', values='revenue')\n",
    "\n",
    "# Create the bar plot\n",
    "avg_revenue_m_pivot.plot(\n",
    "    kind='bar',\n",
    "    width=0.8,\n",
    "    figsize=(12, 6),\n",
    "    title='Average User Revenue per Plan and Month',\n",
    "    xlabel='Month',\n",
    "    ylabel='Average Revenue in dollars',\n",
    "    grid=True)\n",
    "plt.xticks(rotation=0)\n",
    "plt.show()"
   ]
  },
  {
   "cell_type": "code",
   "execution_count": 39,
   "metadata": {},
   "outputs": [
    {
     "data": {
      "image/png": "[encoded data removed]",
      "text/plain": [
       "<Figure size 1200x600 with 1 Axes>"
      ]
     },
     "metadata": {},
     "output_type": "display_data"
    },
    {
     "name": "stdout",
     "output_type": "stream",
     "text": [
      "total revenue of Surf: 95491.18\n",
      "total revenue of Ultimate: 52066.0\n"
     ]
    }
   ],
   "source": [
    "# Compare the revenue  of each plan require each month. Plot a histogram.\n",
    "\n",
    "# Create and save how much surf plan revenue per month\n",
    "total_surf_revenue = monthly_use_per_user[monthly_use_per_user['plan'] == 'surf']\n",
    "\n",
    "total_surf_revenue['revenue'].plot(kind='hist',\n",
    "                                   figsize=(12, 6),\n",
    "                                   title='Revenue per Month',\n",
    "                                   alpha=0.7,\n",
    "                                   bins=bin_edges,\n",
    "                                   grid=True,\n",
    "                                   label='Surf')\n",
    "\n",
    "# Create and save how much ultimate plan revenue per month\n",
    "total_ult_revenue = monthly_use_per_user[monthly_use_per_user['plan'] == 'ultimate']\n",
    "\n",
    "total_ult_revenue['revenue'].plot(kind='hist',\n",
    "                                  figsize=(12, 6),\n",
    "                                  title='Revenue per Month',\n",
    "                                  alpha=0.7,\n",
    "                                  bins=bin_edges,\n",
    "                                  grid=True,\n",
    "                                  label='Ultimate')\n",
    "bin_edges = np.arange(20, 100, 10)\n",
    "plt.title('Revenue per Month')\n",
    "plt.xlabel('$')\n",
    "plt.ylabel('Number of Customers')\n",
    "plt.legend(loc='upper right')\n",
    "plt.show()\n",
    "\n",
    "print('total revenue of Surf:', total_surf_revenue['revenue'].sum())\n",
    "print('total revenue of Ultimate:', total_ult_revenue['revenue'].sum())"
   ]
  },
  {
   "cell_type": "code",
   "execution_count": 40,
   "metadata": {},
   "outputs": [
    {
     "data": {
      "image/png": "[encoded data removed]",
      "text/plain": [
       "<Figure size 1200x600 with 1 Axes>"
      ]
     },
     "metadata": {},
     "output_type": "display_data"
    }
   ],
   "source": [
    "# Plot a boxplot to visualize the distribution of the revenue\n",
    "\n",
    "# Filter data for surf and ultimate plans\n",
    "surf_data_revenue = monthly_use_per_user[monthly_use_per_user['plan']\n",
    "                                         == 'surf']['revenue']\n",
    "ultimate_data_revenue = monthly_use_per_user[monthly_use_per_user['plan']\n",
    "                                             == 'ultimate']['revenue']\n",
    "\n",
    "# Create a list of data to plot\n",
    "data_to_plot_revenue = [\n",
    "    surf_data_revenue.dropna(), ultimate_data_revenue.dropna()]\n",
    "\n",
    "# Create a boxplot\n",
    "plt.figure(figsize=(12, 6))\n",
    "plt.boxplot(data_to_plot_revenue, labels=['Surf', 'Ultimate'])\n",
    "plt.title('Monthly Revenue Distribution')\n",
    "plt.xlabel('Plan')\n",
    "plt.ylabel('$')\n",
    "plt.show()"
   ]
  },
  {
   "cell_type": "markdown",
   "metadata": {},
   "source": [
    "  <div class=\"alert alert-info\">\n",
    "<li> On average, Ultimate plan revenue per user does not deviate far from their plan base of 70 dollars\n",
    "<li> On average, Suf plan revenue per user increases steadily throughout the year and ultimately reaching 70 dollars at the end of the year\n",
    "<li> Most Surf plan users does not deviate far from minimum plan cost of 20 dollars and more than 500 users use less than 30 dollars a month\n",
    "<li> However, there are approximately 700 Surf plan users who use more than 30 dollars and of them apporximately 300 users use more than 70 dollars  \n",
    "<li> Ultimate users tend to spend the base of 70 dollars and does not spend more than the base "
   ]
  },
  {
   "cell_type": "markdown",
   "metadata": {},
   "source": [
    "## Test statistical hypotheses"
   ]
  },
  {
   "cell_type": "code",
   "execution_count": 41,
   "metadata": {},
   "outputs": [
    {
     "name": "stdout",
     "output_type": "stream",
     "text": [
      "p-value:  3.1703905481135734e-15\n",
      "We reject the null hypothesis that average revenue from users of Ultimate and Surf calling plans are equal\n"
     ]
    }
   ],
   "source": [
    "# Test the hypotheses\n",
    "# H0= average revenue from users of Ultimate and Surf calling plans are equal\n",
    "# H1= average revenue from users of Ultimate and Surf calling plans differs\n",
    "\n",
    "ultimate_revenue = monthly_use_per_user[monthly_use_per_user['plan']\n",
    "                                        == 'ultimate']['revenue']\n",
    "surf_revenue = monthly_use_per_user[monthly_use_per_user['plan']\n",
    "                                    == 'surf']['revenue']\n",
    "\n",
    "alpha = 0.05\n",
    "\n",
    "results = st.ttest_ind(ultimate_revenue, surf_revenue, equal_var=False)\n",
    "print('p-value: ', results.pvalue)\n",
    "\n",
    "if results.pvalue < alpha:\n",
    "    print(\"We reject the null hypothesis that average revenue from users of Ultimate and Surf calling plans are equal\")\n",
    "else:\n",
    "    print(\"We can't reject the hypothesis that average revenue from users of Ultimate and Surf calling plans are equal\")"
   ]
  },
  {
   "cell_type": "code",
   "execution_count": 42,
   "metadata": {},
   "outputs": [
    {
     "name": "stdout",
     "output_type": "stream",
     "text": [
      "p-value:  0.0335256158853001\n",
      "We reject the null hypothesis that average revenue from users in NY-NJ area is same from that of users from the other regions\n"
     ]
    }
   ],
   "source": [
    "# Test the hypotheses\n",
    "# H0 = average revenue from users in NY-NJ area is same from tht of users from the other regions\n",
    "# H1 = average revenue from users in NY-NJ area is differ from tht of users from the other regions\n",
    "\n",
    "# merge regional information from users to monthly_use_per_user on user_id\n",
    "monthly_use_city = monthly_use_per_user.merge(users, on='user_id', how='left')\n",
    "\n",
    "# save NY-NJ revnue and other region\n",
    "nynj_revenue = monthly_use_city[monthly_use_city['city'] ==\n",
    "                                'New York-Newark-Jersey City, NY-NJ-PA MSA']['revenue']\n",
    "other_reg_revenue = monthly_use_city[monthly_use_city['city']\n",
    "                                     != 'New York-Newark-Jersey City, NY-NJ-PA MSA']['revenue']\n",
    "\n",
    "alpha = 0.05\n",
    "\n",
    "results_city = st.ttest_ind(nynj_revenue, other_reg_revenue, equal_var=False)\n",
    "print('p-value: ', results_city.pvalue)\n",
    "\n",
    "if results_city.pvalue < alpha:\n",
    "    print(\"We reject the null hypothesis that average revenue from users in NY-NJ area is same from that of users from the other regions\")\n",
    "else:\n",
    "    print(\"We can't reject the hypothesis that average revenue from users in NY-NJ area is same from that of users from the other regions\")"
   ]
  },
  {
   "cell_type": "markdown",
   "metadata": {},
   "source": [
    "## General conclusion"
   ]
  },
  {
   "cell_type": "code",
   "execution_count": 43,
   "metadata": {
    "scrolled": true
   },
   "outputs": [
    {
     "name": "stdout",
     "output_type": "stream",
     "text": [
      "total Surf plan users:  1573\n",
      "total Ultimate plan users:  720\n",
      "\n",
      "average Surf plan revenue:  60.706408137317226\n",
      "average Ultimate plan revenue:  72.31388888888888\n",
      "\n",
      "average Surf plan call used:  428.7495232040687\n",
      "average Ultimate call used:  430.45\n",
      "\n",
      "average Surf plan text used:  31.15956770502225\n",
      "average Ultimate text used:  37.55138888888889\n",
      "\n",
      "average Ultimate internet used:  16.670692943420217\n",
      "average Ultimate internet used:  17.306944444444444\n"
     ]
    }
   ],
   "source": [
    "total_surf_num = monthly_use_per_user[monthly_use_per_user['plan']\n",
    "                                      == 'surf']['user_id'].count()\n",
    "total_ult_num = monthly_use_per_user[monthly_use_per_user['plan']\n",
    "                                     == 'ultimate']['user_id'].count()\n",
    "print('total Surf plan users: ', total_surf_num)\n",
    "print('total Ultimate plan users: ', total_ult_num)\n",
    "print()\n",
    "avg_surf_rev = total_surf_revenue['revenue'].sum()/total_surf_num\n",
    "avg_ult_rev = total_ult_revenue['revenue'].sum()/total_ult_num\n",
    "print('average Surf plan revenue: ', avg_surf_rev)\n",
    "print('average Ultimate plan revenue: ', avg_ult_rev)\n",
    "print()\n",
    "avg_surf_call = total_surf_used.sum()/total_surf_num\n",
    "avg_ult_call = total_ult_used.sum()/total_ult_num\n",
    "print('average Surf plan call used: ', avg_surf_call)\n",
    "print('average Ultimate call used: ', avg_ult_call)\n",
    "print()\n",
    "avg_surf_txt = total_surf_used_msg['num_message'].sum()/total_surf_num\n",
    "avg_ult_txt = total_ult_used_msg['num_message'].sum()/total_ult_num\n",
    "print('average Surf plan text used: ', avg_surf_txt)\n",
    "print('average Ultimate text used: ', avg_ult_txt)\n",
    "print()\n",
    "avg_surf_int = total_surf_used_int.sum()/total_surf_num\n",
    "avg_ult_int = total_ult_used_int.sum()/total_ult_num\n",
    "print('average Ultimate internet used: ', avg_surf_int)\n",
    "print('average Ultimate internet used: ', avg_ult_int)"
   ]
  },
  {
   "cell_type": "markdown",
   "metadata": {},
   "source": [
    "  <div class=\"alert alert-info\"> \n",
    "<li> An average Ultimate plan user's call usage is slightly lower than that of a Surf user per month except for in Feburary.</b>\n",
    "<li> An average Ultimate user's usage of text or internet use is similar to that of a Surf plan user per month </b>\n",
    "<li> All Surf users absoluate number of call duration, text, and internet usage is higher than that of Ultimate users. This can be due to sheer number of Surf users compared to Ultimate plan users. There are more than 2X Surf users than Ultimate users.</b>\n",
    "<li> An average users usage of call, text, and internet shows slight upward trend as the year progress regardless of their plan </b>\n",
    "<li> An average revenue for an Ultimate user doesn't grow over the year and stays between 70 dolasrs and 75 dollars\n",
    "    <ul>\n",
    "    <li> An average revenue for an Surf user has a upward trend as the year progress which aligns with usage of call, text, and internet.\n",
    "    <li> This tells us that an average Ultimate user is unlikely to use beyond their plan provided limits, but Surf users are more likely to use beyond their plan provided limit\n",
    "     </ul>\n",
    "<li> Even though Surf plan users are more likely to use more than their provided plan, average of Ultimate plan revenue is higher than Surf plan. We can utilize this to promote to customers along the line of : most people need Ultimate plan since Surf plan users tend to use beyond plan limits.</b>\n",
    "<li> There is statistically significant difference in the average revenue between the two plans. Average of Ultimate plan revenue is higher than average Surf plan revnue; adding more reason for us to promote Ulitmate plan to customers. </b>\n",
    "<li> There is no statistical evidence for us to conculde that average revenue from users in NY-NJ area is same from  that of users from other areas. Hence, the target marketing in this area may not be effective as national wide marketing. </b>"
   ]
  }
 ],
 "metadata": {
  "ExecuteTimeLog": [
   {
    "duration": 828,
    "start_time": "2021-11-16T09:21:11.304Z"
   },
   {
    "duration": 893,
    "start_time": "2021-11-16T09:21:17.728Z"
   },
   {
    "duration": 1150,
    "start_time": "2021-11-16T09:21:29.568Z"
   },
   {
    "duration": 3,
    "start_time": "2021-11-16T09:24:14.495Z"
   },
   {
    "duration": 120,
    "start_time": "2021-11-16T09:24:46.630Z"
   },
   {
    "duration": 3,
    "start_time": "2021-11-16T09:28:27.882Z"
   },
   {
    "duration": 4,
    "start_time": "2021-11-16T09:29:54.281Z"
   },
   {
    "duration": 3,
    "start_time": "2021-11-16T09:30:45.936Z"
   },
   {
    "duration": 4,
    "start_time": "2021-11-16T09:31:06.300Z"
   },
   {
    "duration": 113,
    "start_time": "2021-11-16T09:31:37.208Z"
   },
   {
    "duration": 143,
    "start_time": "2021-11-16T09:31:48.656Z"
   },
   {
    "duration": 98,
    "start_time": "2021-11-16T09:31:55.678Z"
   },
   {
    "duration": 3,
    "start_time": "2021-11-16T09:32:08.535Z"
   },
   {
    "duration": 111,
    "start_time": "2021-11-16T09:32:10.120Z"
   },
   {
    "duration": 3,
    "start_time": "2021-11-16T09:32:15.732Z"
   },
   {
    "duration": 4,
    "start_time": "2021-11-16T09:32:29.423Z"
   },
   {
    "duration": 3,
    "start_time": "2021-11-16T10:03:03.074Z"
   },
   {
    "duration": 3,
    "start_time": "2021-11-16T10:10:01.288Z"
   },
   {
    "duration": 3,
    "start_time": "2021-11-16T10:10:46.923Z"
   },
   {
    "duration": 121,
    "start_time": "2021-11-16T10:37:46.494Z"
   },
   {
    "duration": 125,
    "start_time": "2021-11-16T10:38:20.632Z"
   },
   {
    "duration": 112,
    "start_time": "2021-11-16T10:46:53.001Z"
   },
   {
    "duration": 110,
    "start_time": "2021-11-16T10:48:25.775Z"
   },
   {
    "duration": 3,
    "start_time": "2021-11-16T10:50:18.720Z"
   },
   {
    "duration": 4,
    "start_time": "2021-11-16T10:50:37.649Z"
   },
   {
    "duration": 2,
    "start_time": "2021-11-16T10:50:51.884Z"
   },
   {
    "duration": 3,
    "start_time": "2021-11-16T10:51:56.237Z"
   },
   {
    "duration": 101,
    "start_time": "2021-11-16T10:53:13.791Z"
   },
   {
    "duration": 3,
    "start_time": "2021-11-16T10:55:59.186Z"
   },
   {
    "duration": 3,
    "start_time": "2021-11-16T10:56:10.751Z"
   },
   {
    "duration": 3,
    "start_time": "2021-11-16T10:56:49.038Z"
   },
   {
    "duration": 3,
    "start_time": "2021-11-16T10:56:49.174Z"
   },
   {
    "duration": 4,
    "start_time": "2021-11-16T10:56:49.414Z"
   },
   {
    "duration": 3,
    "start_time": "2021-11-16T10:56:49.680Z"
   },
   {
    "duration": 3,
    "start_time": "2021-11-16T10:56:50.370Z"
   },
   {
    "duration": 114,
    "start_time": "2021-11-16T10:59:34.518Z"
   },
   {
    "duration": 3,
    "start_time": "2021-11-16T11:01:41.201Z"
   },
   {
    "duration": 116,
    "start_time": "2021-11-16T11:01:48.754Z"
   },
   {
    "duration": 3,
    "start_time": "2021-11-16T11:02:16.685Z"
   },
   {
    "duration": 3,
    "start_time": "2021-11-16T11:02:19.479Z"
   },
   {
    "duration": 3,
    "start_time": "2021-11-16T11:02:47.067Z"
   },
   {
    "duration": 3,
    "start_time": "2021-11-16T11:02:49.353Z"
   },
   {
    "duration": 3,
    "start_time": "2021-11-16T11:03:07.835Z"
   },
   {
    "duration": 3,
    "start_time": "2021-11-16T11:03:07.953Z"
   },
   {
    "duration": 112,
    "start_time": "2021-11-16T11:07:52.072Z"
   },
   {
    "duration": 187,
    "start_time": "2021-11-16T11:09:23.468Z"
   },
   {
    "duration": 4,
    "start_time": "2021-11-16T11:10:01.455Z"
   },
   {
    "duration": 3,
    "start_time": "2021-11-16T11:10:05.069Z"
   },
   {
    "duration": 4,
    "start_time": "2021-11-16T11:10:13.376Z"
   },
   {
    "duration": 3,
    "start_time": "2021-11-16T11:10:14.434Z"
   },
   {
    "duration": 3,
    "start_time": "2021-11-16T11:10:22.853Z"
   },
   {
    "duration": 4,
    "start_time": "2021-11-16T11:27:29.279Z"
   },
   {
    "duration": 4,
    "start_time": "2021-11-16T11:29:08.919Z"
   },
   {
    "duration": 118,
    "start_time": "2021-11-16T11:29:46.703Z"
   },
   {
    "duration": 437,
    "start_time": "2021-11-16T11:36:02.181Z"
   },
   {
    "duration": 157,
    "start_time": "2021-11-16T11:36:14.388Z"
   },
   {
    "duration": 207,
    "start_time": "2021-11-16T11:47:15.898Z"
   },
   {
    "duration": 3,
    "start_time": "2021-11-16T11:53:52.092Z"
   },
   {
    "duration": 3,
    "start_time": "2021-11-16T11:53:52.236Z"
   },
   {
    "duration": 3,
    "start_time": "2021-11-16T11:59:12.005Z"
   },
   {
    "duration": 112,
    "start_time": "2021-11-16T12:00:33.446Z"
   },
   {
    "duration": 3,
    "start_time": "2021-11-16T12:02:14.453Z"
   },
   {
    "duration": 3,
    "start_time": "2021-11-16T12:02:39.512Z"
   },
   {
    "duration": 106,
    "start_time": "2021-11-16T12:03:03.460Z"
   },
   {
    "duration": 3,
    "start_time": "2021-11-17T20:37:21.139Z"
   },
   {
    "duration": 3,
    "start_time": "2021-11-17T20:37:22.229Z"
   },
   {
    "duration": 3,
    "start_time": "2021-11-17T20:38:38.806Z"
   },
   {
    "duration": 3,
    "start_time": "2021-11-17T20:38:41.958Z"
   },
   {
    "duration": 3,
    "start_time": "2021-11-17T20:43:46.551Z"
   },
   {
    "duration": 4,
    "start_time": "2021-11-17T20:58:21.835Z"
   },
   {
    "duration": 3,
    "start_time": "2021-11-17T20:59:21.872Z"
   },
   {
    "duration": 4,
    "start_time": "2021-11-17T20:59:45.352Z"
   },
   {
    "duration": 4,
    "start_time": "2021-11-17T20:59:49.646Z"
   },
   {
    "duration": 159,
    "start_time": "2021-11-17T21:02:26.949Z"
   },
   {
    "duration": 3,
    "start_time": "2021-11-17T21:03:53.461Z"
   },
   {
    "duration": 3,
    "start_time": "2021-11-17T21:03:53.694Z"
   },
   {
    "duration": 3,
    "start_time": "2021-11-17T21:05:28.145Z"
   },
   {
    "duration": 116,
    "start_time": "2021-11-17T21:05:57.787Z"
   },
   {
    "duration": 3,
    "start_time": "2021-11-17T21:06:37.993Z"
   },
   {
    "duration": 3,
    "start_time": "2021-11-17T21:06:38.261Z"
   },
   {
    "duration": 3,
    "start_time": "2021-11-17T21:11:54.358Z"
   },
   {
    "duration": 3,
    "start_time": "2021-11-17T21:12:43.846Z"
   },
   {
    "duration": 4,
    "start_time": "2021-11-17T21:13:08.773Z"
   },
   {
    "duration": 3,
    "start_time": "2021-11-17T21:14:44.441Z"
   },
   {
    "duration": 3,
    "start_time": "2021-11-17T21:15:42.059Z"
   },
   {
    "duration": 4,
    "start_time": "2021-11-17T21:15:51.995Z"
   },
   {
    "duration": 3,
    "start_time": "2021-11-17T21:15:53.923Z"
   },
   {
    "duration": 3,
    "start_time": "2021-11-17T21:15:55.282Z"
   },
   {
    "duration": 3,
    "start_time": "2021-11-17T21:16:28.492Z"
   },
   {
    "duration": 3,
    "start_time": "2021-11-17T21:16:32.603Z"
   },
   {
    "duration": 3,
    "start_time": "2021-11-17T21:17:06.941Z"
   },
   {
    "duration": 98,
    "start_time": "2021-11-17T21:18:05.733Z"
   },
   {
    "duration": 4,
    "start_time": "2021-11-17T21:21:35.255Z"
   },
   {
    "duration": 3,
    "start_time": "2021-11-17T21:21:37.804Z"
   },
   {
    "duration": 4,
    "start_time": "2021-11-17T21:23:06.071Z"
   },
   {
    "duration": 3,
    "start_time": "2021-11-17T21:23:24.799Z"
   },
   {
    "duration": 3,
    "start_time": "2021-11-17T21:23:32.591Z"
   },
   {
    "duration": 98,
    "start_time": "2021-11-17T21:28:31.559Z"
   },
   {
    "duration": 3,
    "start_time": "2021-11-17T21:28:45.448Z"
   },
   {
    "duration": 3,
    "start_time": "2021-11-17T21:29:17.303Z"
   },
   {
    "duration": 3,
    "start_time": "2021-11-17T21:29:29.617Z"
   },
   {
    "duration": 3,
    "start_time": "2021-11-17T21:29:32.681Z"
   },
   {
    "duration": 3,
    "start_time": "2021-11-17T21:36:11.474Z"
   },
   {
    "duration": 3,
    "start_time": "2021-11-17T21:36:14.791Z"
   },
   {
    "duration": 3,
    "start_time": "2021-11-17T21:36:53.943Z"
   },
   {
    "duration": 3,
    "start_time": "2021-11-17T21:36:56.165Z"
   },
   {
    "duration": 4,
    "start_time": "2021-11-17T21:37:16.590Z"
   },
   {
    "duration": 3,
    "start_time": "2021-11-17T21:37:22.702Z"
   },
   {
    "duration": 4,
    "start_time": "2021-11-17T21:38:03.479Z"
   },
   {
    "duration": 3,
    "start_time": "2021-11-17T21:38:08.601Z"
   },
   {
    "duration": 3,
    "start_time": "2021-11-17T21:38:12.928Z"
   },
   {
    "duration": 3,
    "start_time": "2021-11-17T21:38:48.896Z"
   },
   {
    "duration": 2,
    "start_time": "2021-11-17T21:38:49.171Z"
   },
   {
    "duration": 4,
    "start_time": "2021-11-17T21:39:57.889Z"
   },
   {
    "duration": 3,
    "start_time": "2021-11-17T21:39:58.057Z"
   },
   {
    "duration": 3,
    "start_time": "2021-11-17T21:41:20.108Z"
   },
   {
    "duration": 3,
    "start_time": "2021-11-17T21:41:20.629Z"
   },
   {
    "duration": 3,
    "start_time": "2021-11-17T21:42:49.136Z"
   },
   {
    "duration": 3,
    "start_time": "2021-11-17T21:43:15.137Z"
   },
   {
    "duration": 4,
    "start_time": "2021-11-17T21:43:16.766Z"
   },
   {
    "duration": 4,
    "start_time": "2021-11-17T21:43:31.711Z"
   },
   {
    "duration": 3,
    "start_time": "2021-11-17T21:43:36.312Z"
   },
   {
    "duration": 4,
    "start_time": "2021-11-17T21:45:08.825Z"
   },
   {
    "duration": 4,
    "start_time": "2021-11-17T21:45:10.119Z"
   },
   {
    "duration": 4,
    "start_time": "2021-11-17T21:45:13.748Z"
   },
   {
    "duration": 3,
    "start_time": "2021-11-17T21:45:22.219Z"
   },
   {
    "duration": 3,
    "start_time": "2021-11-17T21:45:33.412Z"
   },
   {
    "duration": 2,
    "start_time": "2021-11-17T21:46:01.885Z"
   },
   {
    "duration": 3,
    "start_time": "2021-11-17T21:46:03.628Z"
   },
   {
    "duration": 107,
    "start_time": "2021-11-17T21:47:32.512Z"
   },
   {
    "duration": 103,
    "start_time": "2021-11-17T21:50:36.243Z"
   },
   {
    "duration": 3,
    "start_time": "2021-11-18T06:28:31.440Z"
   },
   {
    "duration": 3,
    "start_time": "2021-11-18T06:29:00.168Z"
   },
   {
    "duration": 3,
    "start_time": "2021-11-18T06:31:27.008Z"
   },
   {
    "duration": 2,
    "start_time": "2021-11-18T06:35:34.288Z"
   },
   {
    "duration": 2,
    "start_time": "2021-11-18T06:38:04.527Z"
   }
  ],
  "kernelspec": {
   "display_name": "Python 3 (ipykernel)",
   "language": "python",
   "name": "python3"
  },
  "language_info": {
   "codemirror_mode": {
    "name": "ipython",
    "version": 3
   },
   "file_extension": ".py",
   "mimetype": "text/x-python",
   "name": "python",
   "nbconvert_exporter": "python",
   "pygments_lexer": "ipython3",
   "version": "3.11.5"
  },
  "toc": {
   "base_numbering": 1,
   "nav_menu": {},
   "number_sections": true,
   "sideBar": true,
   "skip_h1_title": false,
   "title_cell": "Table of Contents",
   "title_sidebar": "Contents",
   "toc_cell": false,
   "toc_position": {
    "height": "calc(100% - 180px)",
    "left": "10px",
    "top": "150px",
    "width": "301.625px"
   },
   "toc_section_display": true,
   "toc_window_display": true
  }
 },
 "nbformat": 4,
 "nbformat_minor": 2
}
