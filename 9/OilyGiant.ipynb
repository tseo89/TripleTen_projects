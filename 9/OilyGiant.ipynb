{
 "cells": [
  {
   "cell_type": "markdown",
   "metadata": {},
   "source": [
    "# Project Description\n",
    "\n",
    "OilyGiant a mining company is looking for the best place for a new well. \n",
    "\n",
    "Location is chosen based on:\n",
    "<li> Oil quality and volume of reserve </li>\n",
    "<li> Volume of reserves in the new wells based on a model</li>\n",
    "<li> Oil wells with the highest estimated values </li>\n",
    "<li> Region with the highest total profit for the selected oil wells.</li>\n",
    "\n",
    "Additional information:\n",
    "<li> When exploring the region, a study of 500 points is carried with picking the best 200 points for the profit calculation.</li>\n",
    "<li> The budget for development of 200 oil wells is 100 USD million.</li>\n",
    "<li> One barrel of raw materials brings 4.5 USD of revenue The revenue from one unit of product is 4,500 dollars (volume of reserves is in thousand barrels).</li>\n",
    "<li> After the risk evaluation, we are looking to keep only the regions with the risk of losses lower than 2.5%. From the ones that fit the criteria, the region with the highest average profit should be selected. </li>\n",
    "\n",
    "We have data on oil samples from three regions. The parameters of each oil well in the region are already known. We are looking to build a linear regression model that will help to pick the region with the highest profit margin through profit and risk analysis using the Bootstrapping technique. "
   ]
  },
  {
   "cell_type": "markdown",
   "metadata": {},
   "source": [
    "## Import and Review Data"
   ]
  },
  {
   "cell_type": "markdown",
   "metadata": {},
   "source": [
    "### Importing Libraries"
   ]
  },
  {
   "cell_type": "code",
   "execution_count": 1,
   "metadata": {},
   "outputs": [],
   "source": [
    "import pandas as pd\n",
    "import numpy as np\n",
    "from sklearn.model_selection import train_test_split\n",
    "from sklearn.metrics import recall_score, precision_score, f1_score, roc_auc_score, r2_score, mean_absolute_error, confusion_matrix, accuracy_score\n",
    "from sklearn.linear_model import LinearRegression\n",
    "from sklearn.metrics import mean_squared_error\n",
    "from sklearn.preprocessing import LabelEncoder\n",
    "from sklearn.datasets import make_hastie_10_2\n",
    "import matplotlib.pyplot as plt"
   ]
  },
  {
   "cell_type": "markdown",
   "metadata": {},
   "source": [
    "### Import and Review Data"
   ]
  },
  {
   "cell_type": "code",
   "execution_count": 2,
   "metadata": {},
   "outputs": [
    {
     "data": {
      "text/html": [
       "<div>\n",
       "<style scoped>\n",
       "    .dataframe tbody tr th:only-of-type {\n",
       "        vertical-align: middle;\n",
       "    }\n",
       "\n",
       "    .dataframe tbody tr th {\n",
       "        vertical-align: top;\n",
       "    }\n",
       "\n",
       "    .dataframe thead th {\n",
       "        text-align: right;\n",
       "    }\n",
       "</style>\n",
       "<table border=\"1\" class=\"dataframe\">\n",
       "  <thead>\n",
       "    <tr style=\"text-align: right;\">\n",
       "      <th></th>\n",
       "      <th>id</th>\n",
       "      <th>f0</th>\n",
       "      <th>f1</th>\n",
       "      <th>f2</th>\n",
       "      <th>product</th>\n",
       "    </tr>\n",
       "  </thead>\n",
       "  <tbody>\n",
       "    <tr>\n",
       "      <th>0</th>\n",
       "      <td>txEyH</td>\n",
       "      <td>0.705745</td>\n",
       "      <td>-0.497823</td>\n",
       "      <td>1.221170</td>\n",
       "      <td>105.280062</td>\n",
       "    </tr>\n",
       "    <tr>\n",
       "      <th>1</th>\n",
       "      <td>2acmU</td>\n",
       "      <td>1.334711</td>\n",
       "      <td>-0.340164</td>\n",
       "      <td>4.365080</td>\n",
       "      <td>73.037750</td>\n",
       "    </tr>\n",
       "    <tr>\n",
       "      <th>2</th>\n",
       "      <td>409Wp</td>\n",
       "      <td>1.022732</td>\n",
       "      <td>0.151990</td>\n",
       "      <td>1.419926</td>\n",
       "      <td>85.265647</td>\n",
       "    </tr>\n",
       "    <tr>\n",
       "      <th>3</th>\n",
       "      <td>iJLyR</td>\n",
       "      <td>-0.032172</td>\n",
       "      <td>0.139033</td>\n",
       "      <td>2.978566</td>\n",
       "      <td>168.620776</td>\n",
       "    </tr>\n",
       "    <tr>\n",
       "      <th>4</th>\n",
       "      <td>Xdl7t</td>\n",
       "      <td>1.988431</td>\n",
       "      <td>0.155413</td>\n",
       "      <td>4.751769</td>\n",
       "      <td>154.036647</td>\n",
       "    </tr>\n",
       "  </tbody>\n",
       "</table>\n",
       "</div>"
      ],
      "text/plain": [
       "      id        f0        f1        f2     product\n",
       "0  txEyH  0.705745 -0.497823  1.221170  105.280062\n",
       "1  2acmU  1.334711 -0.340164  4.365080   73.037750\n",
       "2  409Wp  1.022732  0.151990  1.419926   85.265647\n",
       "3  iJLyR -0.032172  0.139033  2.978566  168.620776\n",
       "4  Xdl7t  1.988431  0.155413  4.751769  154.036647"
      ]
     },
     "metadata": {},
     "output_type": "display_data"
    },
    {
     "name": "stdout",
     "output_type": "stream",
     "text": [
      "\n",
      "(100000, 5)\n",
      "\n"
     ]
    },
    {
     "data": {
      "text/html": [
       "<div>\n",
       "<style scoped>\n",
       "    .dataframe tbody tr th:only-of-type {\n",
       "        vertical-align: middle;\n",
       "    }\n",
       "\n",
       "    .dataframe tbody tr th {\n",
       "        vertical-align: top;\n",
       "    }\n",
       "\n",
       "    .dataframe thead th {\n",
       "        text-align: right;\n",
       "    }\n",
       "</style>\n",
       "<table border=\"1\" class=\"dataframe\">\n",
       "  <thead>\n",
       "    <tr style=\"text-align: right;\">\n",
       "      <th></th>\n",
       "      <th>f0</th>\n",
       "      <th>f1</th>\n",
       "      <th>f2</th>\n",
       "      <th>product</th>\n",
       "    </tr>\n",
       "  </thead>\n",
       "  <tbody>\n",
       "    <tr>\n",
       "      <th>count</th>\n",
       "      <td>100000.000000</td>\n",
       "      <td>100000.000000</td>\n",
       "      <td>100000.000000</td>\n",
       "      <td>100000.000000</td>\n",
       "    </tr>\n",
       "    <tr>\n",
       "      <th>mean</th>\n",
       "      <td>0.500419</td>\n",
       "      <td>0.250143</td>\n",
       "      <td>2.502647</td>\n",
       "      <td>92.500000</td>\n",
       "    </tr>\n",
       "    <tr>\n",
       "      <th>std</th>\n",
       "      <td>0.871832</td>\n",
       "      <td>0.504433</td>\n",
       "      <td>3.248248</td>\n",
       "      <td>44.288691</td>\n",
       "    </tr>\n",
       "    <tr>\n",
       "      <th>min</th>\n",
       "      <td>-1.408605</td>\n",
       "      <td>-0.848218</td>\n",
       "      <td>-12.088328</td>\n",
       "      <td>0.000000</td>\n",
       "    </tr>\n",
       "    <tr>\n",
       "      <th>25%</th>\n",
       "      <td>-0.072580</td>\n",
       "      <td>-0.200881</td>\n",
       "      <td>0.287748</td>\n",
       "      <td>56.497507</td>\n",
       "    </tr>\n",
       "    <tr>\n",
       "      <th>50%</th>\n",
       "      <td>0.502360</td>\n",
       "      <td>0.250252</td>\n",
       "      <td>2.515969</td>\n",
       "      <td>91.849972</td>\n",
       "    </tr>\n",
       "    <tr>\n",
       "      <th>75%</th>\n",
       "      <td>1.073581</td>\n",
       "      <td>0.700646</td>\n",
       "      <td>4.715088</td>\n",
       "      <td>128.564089</td>\n",
       "    </tr>\n",
       "    <tr>\n",
       "      <th>max</th>\n",
       "      <td>2.362331</td>\n",
       "      <td>1.343769</td>\n",
       "      <td>16.003790</td>\n",
       "      <td>185.364347</td>\n",
       "    </tr>\n",
       "  </tbody>\n",
       "</table>\n",
       "</div>"
      ],
      "text/plain": [
       "                  f0             f1             f2        product\n",
       "count  100000.000000  100000.000000  100000.000000  100000.000000\n",
       "mean        0.500419       0.250143       2.502647      92.500000\n",
       "std         0.871832       0.504433       3.248248      44.288691\n",
       "min        -1.408605      -0.848218     -12.088328       0.000000\n",
       "25%        -0.072580      -0.200881       0.287748      56.497507\n",
       "50%         0.502360       0.250252       2.515969      91.849972\n",
       "75%         1.073581       0.700646       4.715088     128.564089\n",
       "max         2.362331       1.343769      16.003790     185.364347"
      ]
     },
     "metadata": {},
     "output_type": "display_data"
    },
    {
     "name": "stdout",
     "output_type": "stream",
     "text": [
      "\n",
      "0\n",
      "\n",
      "<class 'pandas.core.frame.DataFrame'>\n",
      "RangeIndex: 100000 entries, 0 to 99999\n",
      "Data columns (total 5 columns):\n",
      " #   Column   Non-Null Count   Dtype  \n",
      "---  ------   --------------   -----  \n",
      " 0   id       100000 non-null  object \n",
      " 1   f0       100000 non-null  float64\n",
      " 2   f1       100000 non-null  float64\n",
      " 3   f2       100000 non-null  float64\n",
      " 4   product  100000 non-null  float64\n",
      "dtypes: float64(4), object(1)\n",
      "memory usage: 3.8+ MB\n",
      "None\n"
     ]
    }
   ],
   "source": [
    "re0 = pd.read_csv('/datasets/geo_data_0.csv')\n",
    "display(re0.head(5))\n",
    "print()\n",
    "print(re0.shape)\n",
    "print()\n",
    "display(re0.describe())\n",
    "print()\n",
    "print(re0.duplicated().sum())\n",
    "print()\n",
    "print(re0.info())"
   ]
  },
  {
   "cell_type": "code",
   "execution_count": 3,
   "metadata": {},
   "outputs": [
    {
     "data": {
      "text/html": [
       "<div>\n",
       "<style scoped>\n",
       "    .dataframe tbody tr th:only-of-type {\n",
       "        vertical-align: middle;\n",
       "    }\n",
       "\n",
       "    .dataframe tbody tr th {\n",
       "        vertical-align: top;\n",
       "    }\n",
       "\n",
       "    .dataframe thead th {\n",
       "        text-align: right;\n",
       "    }\n",
       "</style>\n",
       "<table border=\"1\" class=\"dataframe\">\n",
       "  <thead>\n",
       "    <tr style=\"text-align: right;\">\n",
       "      <th></th>\n",
       "      <th>id</th>\n",
       "      <th>f0</th>\n",
       "      <th>f1</th>\n",
       "      <th>f2</th>\n",
       "      <th>product</th>\n",
       "    </tr>\n",
       "  </thead>\n",
       "  <tbody>\n",
       "    <tr>\n",
       "      <th>0</th>\n",
       "      <td>kBEdx</td>\n",
       "      <td>-15.001348</td>\n",
       "      <td>-8.276000</td>\n",
       "      <td>-0.005876</td>\n",
       "      <td>3.179103</td>\n",
       "    </tr>\n",
       "    <tr>\n",
       "      <th>1</th>\n",
       "      <td>62mP7</td>\n",
       "      <td>14.272088</td>\n",
       "      <td>-3.475083</td>\n",
       "      <td>0.999183</td>\n",
       "      <td>26.953261</td>\n",
       "    </tr>\n",
       "    <tr>\n",
       "      <th>2</th>\n",
       "      <td>vyE1P</td>\n",
       "      <td>6.263187</td>\n",
       "      <td>-5.948386</td>\n",
       "      <td>5.001160</td>\n",
       "      <td>134.766305</td>\n",
       "    </tr>\n",
       "    <tr>\n",
       "      <th>3</th>\n",
       "      <td>KcrkZ</td>\n",
       "      <td>-13.081196</td>\n",
       "      <td>-11.506057</td>\n",
       "      <td>4.999415</td>\n",
       "      <td>137.945408</td>\n",
       "    </tr>\n",
       "    <tr>\n",
       "      <th>4</th>\n",
       "      <td>AHL4O</td>\n",
       "      <td>12.702195</td>\n",
       "      <td>-8.147433</td>\n",
       "      <td>5.004363</td>\n",
       "      <td>134.766305</td>\n",
       "    </tr>\n",
       "  </tbody>\n",
       "</table>\n",
       "</div>"
      ],
      "text/plain": [
       "      id         f0         f1        f2     product\n",
       "0  kBEdx -15.001348  -8.276000 -0.005876    3.179103\n",
       "1  62mP7  14.272088  -3.475083  0.999183   26.953261\n",
       "2  vyE1P   6.263187  -5.948386  5.001160  134.766305\n",
       "3  KcrkZ -13.081196 -11.506057  4.999415  137.945408\n",
       "4  AHL4O  12.702195  -8.147433  5.004363  134.766305"
      ]
     },
     "metadata": {},
     "output_type": "display_data"
    },
    {
     "name": "stdout",
     "output_type": "stream",
     "text": [
      "\n",
      "(100000, 5)\n",
      "\n"
     ]
    },
    {
     "data": {
      "text/html": [
       "<div>\n",
       "<style scoped>\n",
       "    .dataframe tbody tr th:only-of-type {\n",
       "        vertical-align: middle;\n",
       "    }\n",
       "\n",
       "    .dataframe tbody tr th {\n",
       "        vertical-align: top;\n",
       "    }\n",
       "\n",
       "    .dataframe thead th {\n",
       "        text-align: right;\n",
       "    }\n",
       "</style>\n",
       "<table border=\"1\" class=\"dataframe\">\n",
       "  <thead>\n",
       "    <tr style=\"text-align: right;\">\n",
       "      <th></th>\n",
       "      <th>f0</th>\n",
       "      <th>f1</th>\n",
       "      <th>f2</th>\n",
       "      <th>product</th>\n",
       "    </tr>\n",
       "  </thead>\n",
       "  <tbody>\n",
       "    <tr>\n",
       "      <th>count</th>\n",
       "      <td>100000.000000</td>\n",
       "      <td>100000.000000</td>\n",
       "      <td>100000.000000</td>\n",
       "      <td>100000.000000</td>\n",
       "    </tr>\n",
       "    <tr>\n",
       "      <th>mean</th>\n",
       "      <td>1.141296</td>\n",
       "      <td>-4.796579</td>\n",
       "      <td>2.494541</td>\n",
       "      <td>68.825000</td>\n",
       "    </tr>\n",
       "    <tr>\n",
       "      <th>std</th>\n",
       "      <td>8.965932</td>\n",
       "      <td>5.119872</td>\n",
       "      <td>1.703572</td>\n",
       "      <td>45.944423</td>\n",
       "    </tr>\n",
       "    <tr>\n",
       "      <th>min</th>\n",
       "      <td>-31.609576</td>\n",
       "      <td>-26.358598</td>\n",
       "      <td>-0.018144</td>\n",
       "      <td>0.000000</td>\n",
       "    </tr>\n",
       "    <tr>\n",
       "      <th>25%</th>\n",
       "      <td>-6.298551</td>\n",
       "      <td>-8.267985</td>\n",
       "      <td>1.000021</td>\n",
       "      <td>26.953261</td>\n",
       "    </tr>\n",
       "    <tr>\n",
       "      <th>50%</th>\n",
       "      <td>1.153055</td>\n",
       "      <td>-4.813172</td>\n",
       "      <td>2.011479</td>\n",
       "      <td>57.085625</td>\n",
       "    </tr>\n",
       "    <tr>\n",
       "      <th>75%</th>\n",
       "      <td>8.621015</td>\n",
       "      <td>-1.332816</td>\n",
       "      <td>3.999904</td>\n",
       "      <td>107.813044</td>\n",
       "    </tr>\n",
       "    <tr>\n",
       "      <th>max</th>\n",
       "      <td>29.421755</td>\n",
       "      <td>18.734063</td>\n",
       "      <td>5.019721</td>\n",
       "      <td>137.945408</td>\n",
       "    </tr>\n",
       "  </tbody>\n",
       "</table>\n",
       "</div>"
      ],
      "text/plain": [
       "                  f0             f1             f2        product\n",
       "count  100000.000000  100000.000000  100000.000000  100000.000000\n",
       "mean        1.141296      -4.796579       2.494541      68.825000\n",
       "std         8.965932       5.119872       1.703572      45.944423\n",
       "min       -31.609576     -26.358598      -0.018144       0.000000\n",
       "25%        -6.298551      -8.267985       1.000021      26.953261\n",
       "50%         1.153055      -4.813172       2.011479      57.085625\n",
       "75%         8.621015      -1.332816       3.999904     107.813044\n",
       "max        29.421755      18.734063       5.019721     137.945408"
      ]
     },
     "metadata": {},
     "output_type": "display_data"
    },
    {
     "name": "stdout",
     "output_type": "stream",
     "text": [
      "\n",
      "0\n",
      "\n",
      "<class 'pandas.core.frame.DataFrame'>\n",
      "RangeIndex: 100000 entries, 0 to 99999\n",
      "Data columns (total 5 columns):\n",
      " #   Column   Non-Null Count   Dtype  \n",
      "---  ------   --------------   -----  \n",
      " 0   id       100000 non-null  object \n",
      " 1   f0       100000 non-null  float64\n",
      " 2   f1       100000 non-null  float64\n",
      " 3   f2       100000 non-null  float64\n",
      " 4   product  100000 non-null  float64\n",
      "dtypes: float64(4), object(1)\n",
      "memory usage: 3.8+ MB\n",
      "None\n"
     ]
    }
   ],
   "source": [
    "re1 = pd.read_csv('/datasets/geo_data_1.csv')\n",
    "display(re1.head(5))\n",
    "print()\n",
    "print(re1.shape)\n",
    "print()\n",
    "display(re1.describe())\n",
    "print()\n",
    "print(re1.duplicated().sum())\n",
    "print()\n",
    "print(re1.info())"
   ]
  },
  {
   "cell_type": "code",
   "execution_count": 4,
   "metadata": {},
   "outputs": [
    {
     "data": {
      "text/html": [
       "<div>\n",
       "<style scoped>\n",
       "    .dataframe tbody tr th:only-of-type {\n",
       "        vertical-align: middle;\n",
       "    }\n",
       "\n",
       "    .dataframe tbody tr th {\n",
       "        vertical-align: top;\n",
       "    }\n",
       "\n",
       "    .dataframe thead th {\n",
       "        text-align: right;\n",
       "    }\n",
       "</style>\n",
       "<table border=\"1\" class=\"dataframe\">\n",
       "  <thead>\n",
       "    <tr style=\"text-align: right;\">\n",
       "      <th></th>\n",
       "      <th>id</th>\n",
       "      <th>f0</th>\n",
       "      <th>f1</th>\n",
       "      <th>f2</th>\n",
       "      <th>product</th>\n",
       "    </tr>\n",
       "  </thead>\n",
       "  <tbody>\n",
       "    <tr>\n",
       "      <th>0</th>\n",
       "      <td>fwXo0</td>\n",
       "      <td>-1.146987</td>\n",
       "      <td>0.963328</td>\n",
       "      <td>-0.828965</td>\n",
       "      <td>27.758673</td>\n",
       "    </tr>\n",
       "    <tr>\n",
       "      <th>1</th>\n",
       "      <td>WJtFt</td>\n",
       "      <td>0.262778</td>\n",
       "      <td>0.269839</td>\n",
       "      <td>-2.530187</td>\n",
       "      <td>56.069697</td>\n",
       "    </tr>\n",
       "    <tr>\n",
       "      <th>2</th>\n",
       "      <td>ovLUW</td>\n",
       "      <td>0.194587</td>\n",
       "      <td>0.289035</td>\n",
       "      <td>-5.586433</td>\n",
       "      <td>62.871910</td>\n",
       "    </tr>\n",
       "    <tr>\n",
       "      <th>3</th>\n",
       "      <td>q6cA6</td>\n",
       "      <td>2.236060</td>\n",
       "      <td>-0.553760</td>\n",
       "      <td>0.930038</td>\n",
       "      <td>114.572842</td>\n",
       "    </tr>\n",
       "    <tr>\n",
       "      <th>4</th>\n",
       "      <td>WPMUX</td>\n",
       "      <td>-0.515993</td>\n",
       "      <td>1.716266</td>\n",
       "      <td>5.899011</td>\n",
       "      <td>149.600746</td>\n",
       "    </tr>\n",
       "  </tbody>\n",
       "</table>\n",
       "</div>"
      ],
      "text/plain": [
       "      id        f0        f1        f2     product\n",
       "0  fwXo0 -1.146987  0.963328 -0.828965   27.758673\n",
       "1  WJtFt  0.262778  0.269839 -2.530187   56.069697\n",
       "2  ovLUW  0.194587  0.289035 -5.586433   62.871910\n",
       "3  q6cA6  2.236060 -0.553760  0.930038  114.572842\n",
       "4  WPMUX -0.515993  1.716266  5.899011  149.600746"
      ]
     },
     "metadata": {},
     "output_type": "display_data"
    },
    {
     "name": "stdout",
     "output_type": "stream",
     "text": [
      "\n",
      "(100000, 5)\n",
      "\n"
     ]
    },
    {
     "data": {
      "text/html": [
       "<div>\n",
       "<style scoped>\n",
       "    .dataframe tbody tr th:only-of-type {\n",
       "        vertical-align: middle;\n",
       "    }\n",
       "\n",
       "    .dataframe tbody tr th {\n",
       "        vertical-align: top;\n",
       "    }\n",
       "\n",
       "    .dataframe thead th {\n",
       "        text-align: right;\n",
       "    }\n",
       "</style>\n",
       "<table border=\"1\" class=\"dataframe\">\n",
       "  <thead>\n",
       "    <tr style=\"text-align: right;\">\n",
       "      <th></th>\n",
       "      <th>f0</th>\n",
       "      <th>f1</th>\n",
       "      <th>f2</th>\n",
       "      <th>product</th>\n",
       "    </tr>\n",
       "  </thead>\n",
       "  <tbody>\n",
       "    <tr>\n",
       "      <th>count</th>\n",
       "      <td>100000.000000</td>\n",
       "      <td>100000.000000</td>\n",
       "      <td>100000.000000</td>\n",
       "      <td>100000.000000</td>\n",
       "    </tr>\n",
       "    <tr>\n",
       "      <th>mean</th>\n",
       "      <td>0.002023</td>\n",
       "      <td>-0.002081</td>\n",
       "      <td>2.495128</td>\n",
       "      <td>95.000000</td>\n",
       "    </tr>\n",
       "    <tr>\n",
       "      <th>std</th>\n",
       "      <td>1.732045</td>\n",
       "      <td>1.730417</td>\n",
       "      <td>3.473445</td>\n",
       "      <td>44.749921</td>\n",
       "    </tr>\n",
       "    <tr>\n",
       "      <th>min</th>\n",
       "      <td>-8.760004</td>\n",
       "      <td>-7.084020</td>\n",
       "      <td>-11.970335</td>\n",
       "      <td>0.000000</td>\n",
       "    </tr>\n",
       "    <tr>\n",
       "      <th>25%</th>\n",
       "      <td>-1.162288</td>\n",
       "      <td>-1.174820</td>\n",
       "      <td>0.130359</td>\n",
       "      <td>59.450441</td>\n",
       "    </tr>\n",
       "    <tr>\n",
       "      <th>50%</th>\n",
       "      <td>0.009424</td>\n",
       "      <td>-0.009482</td>\n",
       "      <td>2.484236</td>\n",
       "      <td>94.925613</td>\n",
       "    </tr>\n",
       "    <tr>\n",
       "      <th>75%</th>\n",
       "      <td>1.158535</td>\n",
       "      <td>1.163678</td>\n",
       "      <td>4.858794</td>\n",
       "      <td>130.595027</td>\n",
       "    </tr>\n",
       "    <tr>\n",
       "      <th>max</th>\n",
       "      <td>7.238262</td>\n",
       "      <td>7.844801</td>\n",
       "      <td>16.739402</td>\n",
       "      <td>190.029838</td>\n",
       "    </tr>\n",
       "  </tbody>\n",
       "</table>\n",
       "</div>"
      ],
      "text/plain": [
       "                  f0             f1             f2        product\n",
       "count  100000.000000  100000.000000  100000.000000  100000.000000\n",
       "mean        0.002023      -0.002081       2.495128      95.000000\n",
       "std         1.732045       1.730417       3.473445      44.749921\n",
       "min        -8.760004      -7.084020     -11.970335       0.000000\n",
       "25%        -1.162288      -1.174820       0.130359      59.450441\n",
       "50%         0.009424      -0.009482       2.484236      94.925613\n",
       "75%         1.158535       1.163678       4.858794     130.595027\n",
       "max         7.238262       7.844801      16.739402     190.029838"
      ]
     },
     "metadata": {},
     "output_type": "display_data"
    },
    {
     "name": "stdout",
     "output_type": "stream",
     "text": [
      "\n",
      "0\n",
      "\n",
      "<class 'pandas.core.frame.DataFrame'>\n",
      "RangeIndex: 100000 entries, 0 to 99999\n",
      "Data columns (total 5 columns):\n",
      " #   Column   Non-Null Count   Dtype  \n",
      "---  ------   --------------   -----  \n",
      " 0   id       100000 non-null  object \n",
      " 1   f0       100000 non-null  float64\n",
      " 2   f1       100000 non-null  float64\n",
      " 3   f2       100000 non-null  float64\n",
      " 4   product  100000 non-null  float64\n",
      "dtypes: float64(4), object(1)\n",
      "memory usage: 3.8+ MB\n",
      "None\n"
     ]
    }
   ],
   "source": [
    "re2 = pd.read_csv('/datasets/geo_data_2.csv')\n",
    "display(re2.head(5))\n",
    "print()\n",
    "print(re2.shape)\n",
    "print()\n",
    "display(re2.describe())\n",
    "print()\n",
    "print(re2.duplicated().sum())\n",
    "print()\n",
    "print(re2.info())"
   ]
  },
  {
   "cell_type": "code",
   "execution_count": 5,
   "metadata": {},
   "outputs": [],
   "source": [
    "reg0 = re0.drop(columns='id')\n",
    "reg1 = re1.drop(columns='id')\n",
    "reg2 = re2.drop(columns='id')"
   ]
  },
  {
   "cell_type": "markdown",
   "metadata": {},
   "source": [
    "<div class=\"alert alert-info\"> <b> Data Review </b>:\n",
    "    <li> Each file is for 3 different region's data </li>\n",
    "    <li> id - unique oil well identifier. This was dropped since it's non-feature data that will not be relevant in training a model. </li>\n",
    "    <li> f0,f1,f2 - represent different features of the oil wells and are already on same scale. </li>\n",
    "    <li> product - volume of reserves in the oil well (thousand barrels) </li>\n",
    "    <li> There are no duplicates or missing values in all files </li>"
   ]
  },
  {
   "cell_type": "markdown",
   "metadata": {},
   "source": [
    "## Train and test the model for each region"
   ]
  },
  {
   "cell_type": "markdown",
   "metadata": {},
   "source": [
    "### Split the data\n",
    "We will be splitting the data into training set and validation set at a ratio of 75:25"
   ]
  },
  {
   "cell_type": "code",
   "execution_count": 6,
   "metadata": {},
   "outputs": [
    {
     "name": "stdout",
     "output_type": "stream",
     "text": [
      "(75000, 3)\n",
      "(25000, 3)\n"
     ]
    }
   ],
   "source": [
    "features0 = reg0.drop(['product'], axis=1)\n",
    "target0 = reg0['product']\n",
    "\n",
    "features0_train, features0_valid, target0_train, target0_valid = train_test_split(\n",
    "    features0, target0, test_size=0.25, random_state=123)\n",
    "\n",
    "print(features0_train.shape)\n",
    "print(features0_valid.shape)"
   ]
  },
  {
   "cell_type": "code",
   "execution_count": 7,
   "metadata": {},
   "outputs": [
    {
     "name": "stdout",
     "output_type": "stream",
     "text": [
      "(75000, 3)\n",
      "(25000, 3)\n"
     ]
    }
   ],
   "source": [
    "features1 = reg1.drop(['product'], axis=1)\n",
    "target1 = reg1['product']\n",
    "\n",
    "features1_train, features1_valid, target1_train, target1_valid = train_test_split(\n",
    "    features1, target1, test_size=0.25, random_state=123)\n",
    "\n",
    "print(features1_train.shape)\n",
    "print(features1_valid.shape)"
   ]
  },
  {
   "cell_type": "code",
   "execution_count": 8,
   "metadata": {},
   "outputs": [
    {
     "name": "stdout",
     "output_type": "stream",
     "text": [
      "(75000, 3)\n",
      "(25000, 3)\n"
     ]
    }
   ],
   "source": [
    "features2 = reg2.drop(['product'], axis=1)\n",
    "target2 = reg2['product']\n",
    "\n",
    "features2_train, features2_valid, target2_train, target2_valid = train_test_split(\n",
    "    features2, target2, test_size=0.25, random_state=123)\n",
    "\n",
    "print(features2_train.shape)\n",
    "print(features2_valid.shape)"
   ]
  },
  {
   "cell_type": "markdown",
   "metadata": {},
   "source": [
    "### Model training and predictions\n",
    "Train the model and make predictions for the validation set"
   ]
  },
  {
   "cell_type": "markdown",
   "metadata": {},
   "source": [
    "#### Region 0"
   ]
  },
  {
   "cell_type": "code",
   "execution_count": 9,
   "metadata": {},
   "outputs": [],
   "source": [
    "model = LinearRegression()\n",
    "\n",
    "model.fit(features0_train, target0_train)\n",
    "predictions_valid0 = model.predict(features0_valid)"
   ]
  },
  {
   "cell_type": "markdown",
   "metadata": {},
   "source": [
    "#### Region 1"
   ]
  },
  {
   "cell_type": "code",
   "execution_count": 10,
   "metadata": {},
   "outputs": [],
   "source": [
    "model.fit(features1_train, target1_train)\n",
    "predictions_valid1 = model.predict(features1_valid)"
   ]
  },
  {
   "cell_type": "markdown",
   "metadata": {},
   "source": [
    "#### Region 2"
   ]
  },
  {
   "cell_type": "code",
   "execution_count": 11,
   "metadata": {},
   "outputs": [],
   "source": [
    "model.fit(features2_train, target2_train)\n",
    "predictions_valid2 = model.predict(features2_valid)"
   ]
  },
  {
   "cell_type": "markdown",
   "metadata": {},
   "source": [
    "### Predictions and correct answers for validation set\n",
    "Save the predictions and correct answers for the validation set."
   ]
  },
  {
   "cell_type": "markdown",
   "metadata": {},
   "source": [
    "#### Region 0"
   ]
  },
  {
   "cell_type": "code",
   "execution_count": 12,
   "metadata": {},
   "outputs": [],
   "source": [
    "correct_answer0 = target0_valid.tolist()\n",
    "predicted_values0 = predictions_valid0.tolist()\n",
    "\n",
    "val_result0 = pd.DataFrame(\n",
    "    {'correct_answers0': correct_answer0, 'predictions0': predicted_values0})"
   ]
  },
  {
   "cell_type": "markdown",
   "metadata": {},
   "source": [
    "#### Region 1"
   ]
  },
  {
   "cell_type": "code",
   "execution_count": 13,
   "metadata": {},
   "outputs": [],
   "source": [
    "correct_answer1 = target1_valid.tolist()\n",
    "predicted_values1 = predictions_valid1.tolist()\n",
    "\n",
    "val_result1 = pd.DataFrame(\n",
    "    {'correct_answers1': correct_answer1, 'predictions1': predicted_values1})"
   ]
  },
  {
   "cell_type": "markdown",
   "metadata": {},
   "source": [
    "#### Region 2"
   ]
  },
  {
   "cell_type": "code",
   "execution_count": 14,
   "metadata": {},
   "outputs": [],
   "source": [
    "correct_answer2 = target2_valid.tolist()\n",
    "predicted_values2 = predictions_valid2.tolist()\n",
    "\n",
    "val_result2 = pd.DataFrame(\n",
    "    {'correct_answers2': correct_answer2, 'predictions2': predicted_values2})"
   ]
  },
  {
   "cell_type": "markdown",
   "metadata": {},
   "source": [
    "#### Average volume of predicted reserves and model RMSE"
   ]
  },
  {
   "cell_type": "markdown",
   "metadata": {},
   "source": [
    "### Average volume of predicted reserves"
   ]
  },
  {
   "cell_type": "code",
   "execution_count": 15,
   "metadata": {},
   "outputs": [
    {
     "name": "stdout",
     "output_type": "stream",
     "text": [
      "Region 0 average volume of predicted reserve in thousand barrels:  92.54936189116306\n",
      "Region 1 average volume of predicted reserve in thousand barrels:  69.28001860653976\n",
      "Region 2 average volume of predicted reserve in thousand barrels:  95.09859933591373\n"
     ]
    }
   ],
   "source": [
    "reservmean0pred = val_result0['predictions0'].mean()\n",
    "reservmean1pred = val_result1['predictions1'].mean()\n",
    "reservmean2pred = val_result2['predictions2'].mean()\n",
    "\n",
    "print(\"Region 0 average volume of predicted reserve in thousand barrels: \", reservmean0pred)\n",
    "print(\"Region 1 average volume of predicted reserve in thousand barrels: \", reservmean1pred)\n",
    "print(\"Region 2 average volume of predicted reserve in thousand barrels: \", reservmean2pred)"
   ]
  },
  {
   "cell_type": "markdown",
   "metadata": {},
   "source": [
    "#### Model RMSE"
   ]
  },
  {
   "cell_type": "code",
   "execution_count": 16,
   "metadata": {},
   "outputs": [
    {
     "name": "stdout",
     "output_type": "stream",
     "text": [
      "Root Mean Squared Error on Validation Set of Region 0: 37.64786282376176\n",
      "Root Mean Squared Error on Validation Set of Region 1: 0.8954139804944313\n",
      "Root Mean Squared Error on Validation Set of Region 2: 40.12803006598514\n"
     ]
    }
   ],
   "source": [
    "rmse0 = mean_squared_error(target0_valid, predictions_valid0, squared=False)\n",
    "rmse1 = mean_squared_error(target1_valid, predictions_valid1, squared=False)\n",
    "rmse2 = mean_squared_error(target2_valid, predictions_valid2, squared=False)\n",
    "\n",
    "print(\"Root Mean Squared Error on Validation Set of Region 0:\", rmse0)\n",
    "print(\"Root Mean Squared Error on Validation Set of Region 1:\", rmse1)\n",
    "print(\"Root Mean Squared Error on Validation Set of Region 2:\", rmse2)"
   ]
  },
  {
   "cell_type": "markdown",
   "metadata": {},
   "source": [
    "### Result Analysis\n",
    "\n",
    "<li> Relatively, Region 2 has the highest mean reserve and Region 1 has the least. </li>\n",
    "<li> However, the RMSE of the Region 1 is significantly lower than Region 0 or 2, suggesting that current model prediction is the most accurate for Region 1. </li>"
   ]
  },
  {
   "cell_type": "markdown",
   "metadata": {},
   "source": [
    "## Prep for Gross Profit Calculation"
   ]
  },
  {
   "cell_type": "markdown",
   "metadata": {},
   "source": [
    "### Key values"
   ]
  },
  {
   "cell_type": "markdown",
   "metadata": {},
   "source": [
    "#### Volume of Reserves"
   ]
  },
  {
   "cell_type": "code",
   "execution_count": 17,
   "metadata": {},
   "outputs": [],
   "source": [
    "reg0rsrv = target0\n",
    "reg1rsrv = target1\n",
    "reg2rsrv = target2"
   ]
  },
  {
   "cell_type": "code",
   "execution_count": 18,
   "metadata": {},
   "outputs": [],
   "source": [
    "target_r0 = val_result0['correct_answers0']\n",
    "target_r1 = val_result1['correct_answers1']\n",
    "target_r2 = val_result2['correct_answers2']\n",
    "\n",
    "pred_r0 = val_result0['predictions0']\n",
    "pred_r1 = val_result1['predictions1']\n",
    "pred_r2 = val_result2['predictions2']"
   ]
  },
  {
   "cell_type": "markdown",
   "metadata": {},
   "source": [
    "#### Number of Wells"
   ]
  },
  {
   "cell_type": "code",
   "execution_count": 19,
   "metadata": {},
   "outputs": [
    {
     "name": "stdout",
     "output_type": "stream",
     "text": [
      "Number of wells in Region 0:  99990 \n",
      "Number of wells in Region 1:  99996 \n",
      "Number of wells in Region 2:  99996\n"
     ]
    }
   ],
   "source": [
    "reg0numwell = re0['id'].nunique()\n",
    "reg1numwell = re1['id'].nunique()\n",
    "reg2numwell = re2['id'].nunique()\n",
    "\n",
    "print('Number of wells in Region 0: ', reg0numwell,\n",
    "      '\\nNumber of wells in Region 1: ', reg1numwell,\n",
    "      '\\nNumber of wells in Region 2: ', reg2numwell)"
   ]
  },
  {
   "cell_type": "markdown",
   "metadata": {},
   "source": [
    "#### Revenue per Barrel"
   ]
  },
  {
   "cell_type": "code",
   "execution_count": 20,
   "metadata": {},
   "outputs": [
    {
     "name": "stdout",
     "output_type": "stream",
     "text": [
      "Potential average revenue 0:  416472.1285102338 \n",
      "Potential average revenue 1:  311760.0837294289 \n",
      "Potential average revenue 2:  427943.6970116118\n"
     ]
    }
   ],
   "source": [
    "# revenue per barrel\n",
    "revpb = 4.5*1000\n",
    "# One barrel of raw materials brings 4.5 USD of revenue.\n",
    "# The revenue from one unit of product is 4,500 dollars (volume of reserves is in thousand barrels).\n",
    "\n",
    "# Average potential revenue per region\n",
    "reg0pr = revpb * reservmean0pred\n",
    "reg1pr = revpb * reservmean1pred\n",
    "reg2pr = revpb * reservmean2pred\n",
    "\n",
    "print('Potential average revenue 0: ', reg0pr,\n",
    "      '\\nPotential average revenue 1: ', reg1pr,\n",
    "      '\\nPotential average revenue 2: ', reg2pr)"
   ]
  },
  {
   "cell_type": "markdown",
   "metadata": {},
   "source": [
    "#### Budget per Well"
   ]
  },
  {
   "cell_type": "code",
   "execution_count": 21,
   "metadata": {},
   "outputs": [
    {
     "name": "stdout",
     "output_type": "stream",
     "text": [
      "500000.0\n"
     ]
    }
   ],
   "source": [
    "budg = 100000000\n",
    "w = 200\n",
    "budgpw = 100000000/200\n",
    "print(budgpw)"
   ]
  },
  {
   "cell_type": "markdown",
   "metadata": {},
   "source": [
    "### Volume Needed\n",
    "\n",
    "Volume of reserves and minimum number of wells sufficient for developing a new well without losses. "
   ]
  },
  {
   "cell_type": "code",
   "execution_count": 22,
   "metadata": {},
   "outputs": [
    {
     "name": "stdout",
     "output_type": "stream",
     "text": [
      "Minimum volume of resesrves needed per well: 111.11111111111111\n"
     ]
    }
   ],
   "source": [
    "volneed = budgpw/revpb\n",
    "print('Minimum volume of resesrves needed per well:', volneed)"
   ]
  },
  {
   "cell_type": "code",
   "execution_count": 23,
   "metadata": {},
   "outputs": [
    {
     "name": "stdout",
     "output_type": "stream",
     "text": [
      "Number of Wells to Break Even:  900000.0\n"
     ]
    }
   ],
   "source": [
    "break_even_wells = budg/volneed\n",
    "\n",
    "print(\"Number of Wells to Break Even: \", break_even_wells)"
   ]
  },
  {
   "cell_type": "markdown",
   "metadata": {},
   "source": [
    "### Profit steps explained:\n",
    "\n",
    "<li> Budget per well : \\$500,000 </li>\n",
    "<li> Potential revenue per well = 4500 * number of barrels/product. Based on this and average volume of barrels, and none of them meet the budget per well allocated. <ul>\n",
    "<li> Potential average revenue 0:  \\$416,472 </li>\n",
    "<li> Potential average revenue 1:  \\$311,760 </li>\n",
    "<li> Potential average revenue 2:  \\$427,944 </li></ul></li>\n",
    "<li> Minimum volume need for a well development is 111.1111 without incurring lost (or to equal budget per well)</li>"
   ]
  },
  {
   "cell_type": "markdown",
   "metadata": {},
   "source": [
    "## Gross Profit "
   ]
  },
  {
   "cell_type": "markdown",
   "metadata": {},
   "source": [
    "### High value wells\n",
    "Based on predictions"
   ]
  },
  {
   "cell_type": "code",
   "execution_count": 24,
   "metadata": {},
   "outputs": [],
   "source": [
    "# Sort the DataFrame by 'predictions0' column in descending order\n",
    "val_result_sorted0 = val_result0.sort_values(\n",
    "    by='predictions0', ascending=False)\n",
    "val_result_sorted1 = val_result1.sort_values(\n",
    "    by='predictions1', ascending=False)\n",
    "val_result_sorted2 = val_result2.sort_values(\n",
    "    by='predictions2', ascending=False)\n",
    "\n",
    "# Select the top wells with the highest predicted values\n",
    "top_wells_highest_predictions0 = val_result_sorted0.head(200)\n",
    "top_wells_highest_predictions1 = val_result_sorted1.head(200)\n",
    "top_wells_highest_predictions2 = val_result_sorted2.head(200)"
   ]
  },
  {
   "cell_type": "markdown",
   "metadata": {},
   "source": [
    "### Target Volume vs. High Value Wells\n",
    "We'll compare volume needed to the average of top 200 wells from each region and predict their average reserves."
   ]
  },
  {
   "cell_type": "code",
   "execution_count": 25,
   "metadata": {},
   "outputs": [
    {
     "name": "stdout",
     "output_type": "stream",
     "text": [
      "Region 0 average volume of top 200 wells:  31034.787805093576\n",
      "Region 1 average volume of top 200 wells:  27755.76198279395\n",
      "Region 2 average volume of top 200 wells:  29943.443110391767\n"
     ]
    }
   ],
   "source": [
    "topm0pred = top_wells_highest_predictions0['predictions0'].sum()\n",
    "topm1pred = top_wells_highest_predictions1['predictions1'].sum()\n",
    "topm2pred = top_wells_highest_predictions2['predictions2'].sum()\n",
    "\n",
    "print(\"Region 0 average volume of top 200 wells: \", topm0pred)\n",
    "print(\"Region 1 average volume of top 200 wells: \", topm1pred)\n",
    "print(\"Region 2 average volume of top 200 wells: \", topm2pred)"
   ]
  },
  {
   "cell_type": "markdown",
   "metadata": {},
   "source": [
    "### Profit "
   ]
  },
  {
   "cell_type": "code",
   "execution_count": 26,
   "metadata": {},
   "outputs": [
    {
     "name": "stdout",
     "output_type": "stream",
     "text": [
      "Profit of Region 0:  35346709.17261383\n",
      "Profit of Region 1:  24150866.966815114\n",
      "Profit of Region 2:  23703438.630213737\n"
     ]
    }
   ],
   "source": [
    "# pick wells with the highest volume of predictions, then sort prediction values in descending order:\n",
    "def profit(target, predictions, count):\n",
    "    top_wells = predictions.sort_values(ascending=False).head(count).index\n",
    "    total_reserves = target.loc[top_wells].sum()\n",
    "    revenue = total_reserves * 4500\n",
    "    profit = revenue - budg\n",
    "    return profit\n",
    "\n",
    "\n",
    "reg0profit = profit(target_r0, pred_r0, 200)\n",
    "reg1profit = profit(target_r1, pred_r1, 200)\n",
    "reg2profit = profit(target_r2, pred_r2, 200)\n",
    "\n",
    "print('Profit of Region 0: ', reg0profit)\n",
    "print('Profit of Region 1: ', reg1profit)\n",
    "print('Profit of Region 2: ', reg2profit)"
   ]
  },
  {
   "cell_type": "markdown",
   "metadata": {},
   "source": [
    "### Data Review\n",
    "<div class=\"alert alert-info\"> Based on prediction and profit, Region 0 would likely to yield highest profit when further developed. Please note that these are estiamtes of the maximum possible profit, as we don't actually have the budget to make the initial measurements in more than 500 locations, and the calculation assumes that we can select from all wells in the region."
   ]
  },
  {
   "cell_type": "markdown",
   "metadata": {},
   "source": [
    "## Risk and Profit"
   ]
  },
  {
   "cell_type": "markdown",
   "metadata": {},
   "source": [
    "### Bootstrapping\n",
    "We'll use the bootstrapping technique with 1000 samples to find the distribution of profit."
   ]
  },
  {
   "cell_type": "markdown",
   "metadata": {},
   "source": [
    "#### Region 0 "
   ]
  },
  {
   "cell_type": "code",
   "execution_count": 27,
   "metadata": {},
   "outputs": [],
   "source": [
    "state = np.random.RandomState(1234)\n",
    "\n",
    "profit_subsampling0 = []\n",
    "for i in range(1000):\n",
    "    subsample_target0 = target_r0.sample(\n",
    "        n=500, replace=True, random_state=state)\n",
    "    subsample_predict0 = pred_r0[subsample_target0.index]\n",
    "    subsample_profit0 = profit(subsample_target0, subsample_predict0, 200)\n",
    "    profit_subsampling0.append(subsample_profit0)"
   ]
  },
  {
   "cell_type": "markdown",
   "metadata": {},
   "source": [
    "#### Region 1"
   ]
  },
  {
   "cell_type": "code",
   "execution_count": 28,
   "metadata": {},
   "outputs": [],
   "source": [
    "state = np.random.RandomState(2345)\n",
    "profit_subsampling1 = []\n",
    "for i in range(1000):\n",
    "    subsample_target1 = target_r1.sample(\n",
    "        n=500, replace=True, random_state=state)\n",
    "    subsample_predict1 = pred_r1[subsample_target1.index]\n",
    "    subsample_profit1 = profit(subsample_target1, subsample_predict1, 200)\n",
    "    profit_subsampling1.append(subsample_profit1)"
   ]
  },
  {
   "cell_type": "markdown",
   "metadata": {},
   "source": [
    "#### Region 2"
   ]
  },
  {
   "cell_type": "code",
   "execution_count": 29,
   "metadata": {},
   "outputs": [],
   "source": [
    "state = np.random.RandomState(3456)\n",
    "profit_subsampling2 = []\n",
    "for i in range(1000):\n",
    "    subsample_target2 = target_r2.sample(\n",
    "        n=500, replace=True, random_state=state)\n",
    "    subsample_predict2 = pred_r2[subsample_target2.index]\n",
    "    subsample_profit2 = profit(subsample_target2, subsample_predict2, 200)\n",
    "    profit_subsampling2.append(subsample_profit2)"
   ]
  },
  {
   "cell_type": "markdown",
   "metadata": {},
   "source": [
    "### Average Profit \n",
    "with 95% confidence interval and risk of losses. Loss is negative profit, calculate it as a probability and it'll be expressed as percentage. "
   ]
  },
  {
   "cell_type": "code",
   "execution_count": 30,
   "metadata": {},
   "outputs": [
    {
     "name": "stdout",
     "output_type": "stream",
     "text": [
      "Average Profit: 6780221.214204038\n",
      "95% Confidence Interval - Lower Bound: 806113.8429065847\n",
      "95% Confidence Interval - Upper Bound: 12773269.099896826\n",
      "Risk of Losses (as a percentage): 1.0999999999999999 %\n"
     ]
    }
   ],
   "source": [
    "# Calculate average profit\n",
    "average_profit0 = np.mean(profit_subsampling0)\n",
    "\n",
    "# Calculate 95% confidence interval\n",
    "lower_bound0 = np.percentile(profit_subsampling0, 2.5)\n",
    "upper_bound0 = np.percentile(profit_subsampling0, 97.5)\n",
    "\n",
    "# Calculate the risk of losses (probability of negative profit)\n",
    "losses_probability0 = np.mean([profit < 0 for profit in profit_subsampling0])\n",
    "# Express as a percentage\n",
    "losses_percentage0 = losses_probability0 * 100\n",
    "\n",
    "# Display the results\n",
    "print(\"Average Profit:\", average_profit0)\n",
    "print(\"95% Confidence Interval - Lower Bound:\", lower_bound0)\n",
    "print(\"95% Confidence Interval - Upper Bound:\", upper_bound0)\n",
    "print(\"Risk of Losses (as a percentage):\", losses_percentage0, '%')"
   ]
  },
  {
   "cell_type": "code",
   "execution_count": 31,
   "metadata": {},
   "outputs": [
    {
     "name": "stdout",
     "output_type": "stream",
     "text": [
      "Average Profit: 6748432.196633914\n",
      "95% Confidence Interval - Lower Bound: 1851433.7347724729\n",
      "95% Confidence Interval - Upper Bound: 12340984.646680254\n",
      "Risk of Losses (as a percentage): 0.2 %\n"
     ]
    }
   ],
   "source": [
    "# Convert the list to a NumPy array for convenience\n",
    "profit_subsampling1 = np.array(profit_subsampling1)\n",
    "\n",
    "# Calculate average profit\n",
    "average_profit1 = np.mean(profit_subsampling1)\n",
    "\n",
    "# Calculate 95% confidence interval\n",
    "lower_bound1 = np.percentile(profit_subsampling1, 2.5)\n",
    "upper_bound1 = np.percentile(profit_subsampling1, 97.5)\n",
    "\n",
    "# Calculate the risk of losses (probability of negative profit)\n",
    "losses_probability1 = np.mean([profit < 0 for profit in profit_subsampling1])\n",
    "# Express as a percentage\n",
    "losses_percentage1 = losses_probability1 * 100\n",
    "\n",
    "# Display the results\n",
    "print(\"Average Profit:\", average_profit1)\n",
    "print(\"95% Confidence Interval - Lower Bound:\", lower_bound1)\n",
    "print(\"95% Confidence Interval - Upper Bound:\", upper_bound1)\n",
    "print(\"Risk of Losses (as a percentage):\", losses_percentage1, '%')"
   ]
  },
  {
   "cell_type": "code",
   "execution_count": 32,
   "metadata": {},
   "outputs": [
    {
     "name": "stdout",
     "output_type": "stream",
     "text": [
      "Average Profit: 5561090.588947411\n",
      "95% Confidence Interval - Lower Bound: -377732.14212882804\n",
      "95% Confidence Interval - Upper Bound: 12070795.772695841\n",
      "Risk of Losses (as a percentage): 3.5000000000000004 %\n"
     ]
    }
   ],
   "source": [
    "profit_subsampling2 = np.array(profit_subsampling2)\n",
    "average_profit2 = np.mean(profit_subsampling2)\n",
    "lower_bound2 = np.percentile(profit_subsampling2, 2.5)\n",
    "upper_bound2 = np.percentile(profit_subsampling2, 97.5)\n",
    "losses_probability2 = np.mean([profit < 0 for profit in profit_subsampling2])\n",
    "losses_percentage2 = losses_probability2 * 100\n",
    "\n",
    "print(\"Average Profit:\", average_profit2)\n",
    "print(\"95% Confidence Interval - Lower Bound:\", lower_bound2)\n",
    "print(\"95% Confidence Interval - Upper Bound:\", upper_bound2)\n",
    "print(\"Risk of Losses (as a percentage):\", losses_percentage2, '%')"
   ]
  },
  {
   "cell_type": "markdown",
   "metadata": {},
   "source": [
    "<div class=\"alert alert-info\"> \n",
    "    \n",
    "**Key Findings**:\n",
    "\n",
    "<li> Profitability: Region 1 exhibits an average profit of approximately \\$6,748,432, only slightly below the highest profit region (Region 0). </li>\n",
    "<li> Risk Assessment: With a mere 0.2% risk of losses, Region 1 demonstrates the lowest probability of negative profit among the three regions. </li> \n",
    "<li> Confidence in Profit: The 95% confidence interval for Region 1 remains entirely positive, ensuring a reliable estimation of profit potential. </li>\n",
    "\n",
    "**Rationalization**:\n",
    "\n",
    "<li> Balanced Performance: Region 1 strikes a remarkable balance between profitability and risk. Despite marginally lower average profit compared to Region 0, its minimal risk of losses makes it a robust choice. </li>\n",
    "<li> Stability in Estimates: The confidence intervals imply consistent positive profit estimates, bolstering confidence in the region's viability for development. </li>\n",
    "\n",
    "**Recommendation**:\n",
    "\n",
    "Based on these observations, investing in Region 1 for oil well development appears as the most prudent choice. Its balanced performance, dependable profit estimates, and minimal risk make it an optimal selection for maximizing profitability while mitigating potential losses.\n"
   ]
  }
 ],
 "metadata": {
  "kernelspec": {
   "display_name": "Python 3 (ipykernel)",
   "language": "python",
   "name": "python3"
  },
  "language_info": {
   "codemirror_mode": {
    "name": "ipython",
    "version": 3
   },
   "file_extension": ".py",
   "mimetype": "text/x-python",
   "name": "python",
   "nbconvert_exporter": "python",
   "pygments_lexer": "ipython3",
   "version": "3.11.5"
  },
  "toc": {
   "base_numbering": 1,
   "nav_menu": {},
   "number_sections": true,
   "sideBar": true,
   "skip_h1_title": true,
   "title_cell": "Table of Contents",
   "title_sidebar": "Contents",
   "toc_cell": false,
   "toc_position": {
    "height": "calc(100% - 180px)",
    "left": "10px",
    "top": "150px",
    "width": "368px"
   },
   "toc_section_display": true,
   "toc_window_display": true
  }
 },
 "nbformat": 4,
 "nbformat_minor": 2
}
